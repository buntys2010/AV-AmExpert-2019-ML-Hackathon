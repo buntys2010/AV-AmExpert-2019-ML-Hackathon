{
  "nbformat": 4,
  "nbformat_minor": 0,
  "metadata": {
    "colab": {
      "name": "Amexpert-2019- Part 2.ipynb",
      "provenance": [],
      "collapsed_sections": [
        "1GwgW0_E_XhF",
        "DI5gEnIQ__1I",
        "8W0SH0mLBQkf",
        "31gLZntnBdyA",
        "YXwbckP1IEuB",
        "6RMREBJ8ae4F",
        "df4BKWKga47J",
        "H_DU8UsabN2L",
        "NxJUeVUNbhQu",
        "3Cw-IALLjh_Y",
        "FKxj1Mj1LEtm",
        "SLabfs7rLdHH",
        "NqDK4qNCO58w",
        "Ysuk2jdIPFg8",
        "loyx5L6FUY47"
      ],
      "toc_visible": true,
      "include_colab_link": true
    },
    "kernelspec": {
      "name": "python3",
      "display_name": "Python 3"
    },
    "accelerator": "GPU"
  },
  "cells": [
    {
      "cell_type": "markdown",
      "metadata": {
        "id": "view-in-github",
        "colab_type": "text"
      },
      "source": [
        "<a href=\"https://colab.research.google.com/github/buntys2010/AV-AmExpert-2019-ML-Hackathon/blob/master/Amexpert_2019_Part_2.ipynb\" target=\"_parent\"><img src=\"https://colab.research.google.com/assets/colab-badge.svg\" alt=\"Open In Colab\"/></a>"
      ]
    },
    {
      "cell_type": "markdown",
      "metadata": {
        "id": "1GwgW0_E_XhF",
        "colab_type": "text"
      },
      "source": [
        "## Get Data"
      ]
    },
    {
      "cell_type": "code",
      "metadata": {
        "id": "C4hdPxaO_HPv",
        "colab_type": "code",
        "colab": {}
      },
      "source": [
        "from google.colab import files"
      ],
      "execution_count": 0,
      "outputs": []
    },
    {
      "cell_type": "code",
      "metadata": {
        "id": "pV4iu5gp_c-T",
        "colab_type": "code",
        "outputId": "cb9515c9-10df-46ea-d26f-d242967f27a5",
        "colab": {
          "resources": {
            "http://localhost:8080/nbextensions/google.colab/files.js": {
              "data": "Ly8gQ29weXJpZ2h0IDIwMTcgR29vZ2xlIExMQwovLwovLyBMaWNlbnNlZCB1bmRlciB0aGUgQXBhY2hlIExpY2Vuc2UsIFZlcnNpb24gMi4wICh0aGUgIkxpY2Vuc2UiKTsKLy8geW91IG1heSBub3QgdXNlIHRoaXMgZmlsZSBleGNlcHQgaW4gY29tcGxpYW5jZSB3aXRoIHRoZSBMaWNlbnNlLgovLyBZb3UgbWF5IG9idGFpbiBhIGNvcHkgb2YgdGhlIExpY2Vuc2UgYXQKLy8KLy8gICAgICBodHRwOi8vd3d3LmFwYWNoZS5vcmcvbGljZW5zZXMvTElDRU5TRS0yLjAKLy8KLy8gVW5sZXNzIHJlcXVpcmVkIGJ5IGFwcGxpY2FibGUgbGF3IG9yIGFncmVlZCB0byBpbiB3cml0aW5nLCBzb2Z0d2FyZQovLyBkaXN0cmlidXRlZCB1bmRlciB0aGUgTGljZW5zZSBpcyBkaXN0cmlidXRlZCBvbiBhbiAiQVMgSVMiIEJBU0lTLAovLyBXSVRIT1VUIFdBUlJBTlRJRVMgT1IgQ09ORElUSU9OUyBPRiBBTlkgS0lORCwgZWl0aGVyIGV4cHJlc3Mgb3IgaW1wbGllZC4KLy8gU2VlIHRoZSBMaWNlbnNlIGZvciB0aGUgc3BlY2lmaWMgbGFuZ3VhZ2UgZ292ZXJuaW5nIHBlcm1pc3Npb25zIGFuZAovLyBsaW1pdGF0aW9ucyB1bmRlciB0aGUgTGljZW5zZS4KCi8qKgogKiBAZmlsZW92ZXJ2aWV3IEhlbHBlcnMgZm9yIGdvb2dsZS5jb2xhYiBQeXRob24gbW9kdWxlLgogKi8KKGZ1bmN0aW9uKHNjb3BlKSB7CmZ1bmN0aW9uIHNwYW4odGV4dCwgc3R5bGVBdHRyaWJ1dGVzID0ge30pIHsKICBjb25zdCBlbGVtZW50ID0gZG9jdW1lbnQuY3JlYXRlRWxlbWVudCgnc3BhbicpOwogIGVsZW1lbnQudGV4dENvbnRlbnQgPSB0ZXh0OwogIGZvciAoY29uc3Qga2V5IG9mIE9iamVjdC5rZXlzKHN0eWxlQXR0cmlidXRlcykpIHsKICAgIGVsZW1lbnQuc3R5bGVba2V5XSA9IHN0eWxlQXR0cmlidXRlc1trZXldOwogIH0KICByZXR1cm4gZWxlbWVudDsKfQoKLy8gTWF4IG51bWJlciBvZiBieXRlcyB3aGljaCB3aWxsIGJlIHVwbG9hZGVkIGF0IGEgdGltZS4KY29uc3QgTUFYX1BBWUxPQURfU0laRSA9IDEwMCAqIDEwMjQ7Ci8vIE1heCBhbW91bnQgb2YgdGltZSB0byBibG9jayB3YWl0aW5nIGZvciB0aGUgdXNlci4KY29uc3QgRklMRV9DSEFOR0VfVElNRU9VVF9NUyA9IDMwICogMTAwMDsKCmZ1bmN0aW9uIF91cGxvYWRGaWxlcyhpbnB1dElkLCBvdXRwdXRJZCkgewogIGNvbnN0IHN0ZXBzID0gdXBsb2FkRmlsZXNTdGVwKGlucHV0SWQsIG91dHB1dElkKTsKICBjb25zdCBvdXRwdXRFbGVtZW50ID0gZG9jdW1lbnQuZ2V0RWxlbWVudEJ5SWQob3V0cHV0SWQpOwogIC8vIENhY2hlIHN0ZXBzIG9uIHRoZSBvdXRwdXRFbGVtZW50IHRvIG1ha2UgaXQgYXZhaWxhYmxlIGZvciB0aGUgbmV4dCBjYWxsCiAgLy8gdG8gdXBsb2FkRmlsZXNDb250aW51ZSBmcm9tIFB5dGhvbi4KICBvdXRwdXRFbGVtZW50LnN0ZXBzID0gc3RlcHM7CgogIHJldHVybiBfdXBsb2FkRmlsZXNDb250aW51ZShvdXRwdXRJZCk7Cn0KCi8vIFRoaXMgaXMgcm91Z2hseSBhbiBhc3luYyBnZW5lcmF0b3IgKG5vdCBzdXBwb3J0ZWQgaW4gdGhlIGJyb3dzZXIgeWV0KSwKLy8gd2hlcmUgdGhlcmUgYXJlIG11bHRpcGxlIGFzeW5jaHJvbm91cyBzdGVwcyBhbmQgdGhlIFB5dGhvbiBzaWRlIGlzIGdvaW5nCi8vIHRvIHBvbGwgZm9yIGNvbXBsZXRpb24gb2YgZWFjaCBzdGVwLgovLyBUaGlzIHVzZXMgYSBQcm9taXNlIHRvIGJsb2NrIHRoZSBweXRob24gc2lkZSBvbiBjb21wbGV0aW9uIG9mIGVhY2ggc3RlcCwKLy8gdGhlbiBwYXNzZXMgdGhlIHJlc3VsdCBvZiB0aGUgcHJldmlvdXMgc3RlcCBhcyB0aGUgaW5wdXQgdG8gdGhlIG5leHQgc3RlcC4KZnVuY3Rpb24gX3VwbG9hZEZpbGVzQ29udGludWUob3V0cHV0SWQpIHsKICBjb25zdCBvdXRwdXRFbGVtZW50ID0gZG9jdW1lbnQuZ2V0RWxlbWVudEJ5SWQob3V0cHV0SWQpOwogIGNvbnN0IHN0ZXBzID0gb3V0cHV0RWxlbWVudC5zdGVwczsKCiAgY29uc3QgbmV4dCA9IHN0ZXBzLm5leHQob3V0cHV0RWxlbWVudC5sYXN0UHJvbWlzZVZhbHVlKTsKICByZXR1cm4gUHJvbWlzZS5yZXNvbHZlKG5leHQudmFsdWUucHJvbWlzZSkudGhlbigodmFsdWUpID0+IHsKICAgIC8vIENhY2hlIHRoZSBsYXN0IHByb21pc2UgdmFsdWUgdG8gbWFrZSBpdCBhdmFpbGFibGUgdG8gdGhlIG5leHQKICAgIC8vIHN0ZXAgb2YgdGhlIGdlbmVyYXRvci4KICAgIG91dHB1dEVsZW1lbnQubGFzdFByb21pc2VWYWx1ZSA9IHZhbHVlOwogICAgcmV0dXJuIG5leHQudmFsdWUucmVzcG9uc2U7CiAgfSk7Cn0KCi8qKgogKiBHZW5lcmF0b3IgZnVuY3Rpb24gd2hpY2ggaXMgY2FsbGVkIGJldHdlZW4gZWFjaCBhc3luYyBzdGVwIG9mIHRoZSB1cGxvYWQKICogcHJvY2Vzcy4KICogQHBhcmFtIHtzdHJpbmd9IGlucHV0SWQgRWxlbWVudCBJRCBvZiB0aGUgaW5wdXQgZmlsZSBwaWNrZXIgZWxlbWVudC4KICogQHBhcmFtIHtzdHJpbmd9IG91dHB1dElkIEVsZW1lbnQgSUQgb2YgdGhlIG91dHB1dCBkaXNwbGF5LgogKiBAcmV0dXJuIHshSXRlcmFibGU8IU9iamVjdD59IEl0ZXJhYmxlIG9mIG5leHQgc3RlcHMuCiAqLwpmdW5jdGlvbiogdXBsb2FkRmlsZXNTdGVwKGlucHV0SWQsIG91dHB1dElkKSB7CiAgY29uc3QgaW5wdXRFbGVtZW50ID0gZG9jdW1lbnQuZ2V0RWxlbWVudEJ5SWQoaW5wdXRJZCk7CiAgaW5wdXRFbGVtZW50LmRpc2FibGVkID0gZmFsc2U7CgogIGNvbnN0IG91dHB1dEVsZW1lbnQgPSBkb2N1bWVudC5nZXRFbGVtZW50QnlJZChvdXRwdXRJZCk7CiAgb3V0cHV0RWxlbWVudC5pbm5lckhUTUwgPSAnJzsKCiAgY29uc3QgcGlja2VkUHJvbWlzZSA9IG5ldyBQcm9taXNlKChyZXNvbHZlKSA9PiB7CiAgICBpbnB1dEVsZW1lbnQuYWRkRXZlbnRMaXN0ZW5lcignY2hhbmdlJywgKGUpID0+IHsKICAgICAgcmVzb2x2ZShlLnRhcmdldC5maWxlcyk7CiAgICB9KTsKICB9KTsKCiAgY29uc3QgY2FuY2VsID0gZG9jdW1lbnQuY3JlYXRlRWxlbWVudCgnYnV0dG9uJyk7CiAgaW5wdXRFbGVtZW50LnBhcmVudEVsZW1lbnQuYXBwZW5kQ2hpbGQoY2FuY2VsKTsKICBjYW5jZWwudGV4dENvbnRlbnQgPSAnQ2FuY2VsIHVwbG9hZCc7CiAgY29uc3QgY2FuY2VsUHJvbWlzZSA9IG5ldyBQcm9taXNlKChyZXNvbHZlKSA9PiB7CiAgICBjYW5jZWwub25jbGljayA9ICgpID0+IHsKICAgICAgcmVzb2x2ZShudWxsKTsKICAgIH07CiAgfSk7CgogIC8vIENhbmNlbCB1cGxvYWQgaWYgdXNlciBoYXNuJ3QgcGlja2VkIGFueXRoaW5nIGluIHRpbWVvdXQuCiAgY29uc3QgdGltZW91dFByb21pc2UgPSBuZXcgUHJvbWlzZSgocmVzb2x2ZSkgPT4gewogICAgc2V0VGltZW91dCgoKSA9PiB7CiAgICAgIHJlc29sdmUobnVsbCk7CiAgICB9LCBGSUxFX0NIQU5HRV9USU1FT1VUX01TKTsKICB9KTsKCiAgLy8gV2FpdCBmb3IgdGhlIHVzZXIgdG8gcGljayB0aGUgZmlsZXMuCiAgY29uc3QgZmlsZXMgPSB5aWVsZCB7CiAgICBwcm9taXNlOiBQcm9taXNlLnJhY2UoW3BpY2tlZFByb21pc2UsIHRpbWVvdXRQcm9taXNlLCBjYW5jZWxQcm9taXNlXSksCiAgICByZXNwb25zZTogewogICAgICBhY3Rpb246ICdzdGFydGluZycsCiAgICB9CiAgfTsKCiAgaWYgKCFmaWxlcykgewogICAgcmV0dXJuIHsKICAgICAgcmVzcG9uc2U6IHsKICAgICAgICBhY3Rpb246ICdjb21wbGV0ZScsCiAgICAgIH0KICAgIH07CiAgfQoKICBjYW5jZWwucmVtb3ZlKCk7CgogIC8vIERpc2FibGUgdGhlIGlucHV0IGVsZW1lbnQgc2luY2UgZnVydGhlciBwaWNrcyBhcmUgbm90IGFsbG93ZWQuCiAgaW5wdXRFbGVtZW50LmRpc2FibGVkID0gdHJ1ZTsKCiAgZm9yIChjb25zdCBmaWxlIG9mIGZpbGVzKSB7CiAgICBjb25zdCBsaSA9IGRvY3VtZW50LmNyZWF0ZUVsZW1lbnQoJ2xpJyk7CiAgICBsaS5hcHBlbmQoc3BhbihmaWxlLm5hbWUsIHtmb250V2VpZ2h0OiAnYm9sZCd9KSk7CiAgICBsaS5hcHBlbmQoc3BhbigKICAgICAgICBgKCR7ZmlsZS50eXBlIHx8ICduL2EnfSkgLSAke2ZpbGUuc2l6ZX0gYnl0ZXMsIGAgKwogICAgICAgIGBsYXN0IG1vZGlmaWVkOiAkewogICAgICAgICAgICBmaWxlLmxhc3RNb2RpZmllZERhdGUgPyBmaWxlLmxhc3RNb2RpZmllZERhdGUudG9Mb2NhbGVEYXRlU3RyaW5nKCkgOgogICAgICAgICAgICAgICAgICAgICAgICAgICAgICAgICAgICAnbi9hJ30gLSBgKSk7CiAgICBjb25zdCBwZXJjZW50ID0gc3BhbignMCUgZG9uZScpOwogICAgbGkuYXBwZW5kQ2hpbGQocGVyY2VudCk7CgogICAgb3V0cHV0RWxlbWVudC5hcHBlbmRDaGlsZChsaSk7CgogICAgY29uc3QgZmlsZURhdGFQcm9taXNlID0gbmV3IFByb21pc2UoKHJlc29sdmUpID0+IHsKICAgICAgY29uc3QgcmVhZGVyID0gbmV3IEZpbGVSZWFkZXIoKTsKICAgICAgcmVhZGVyLm9ubG9hZCA9IChlKSA9PiB7CiAgICAgICAgcmVzb2x2ZShlLnRhcmdldC5yZXN1bHQpOwogICAgICB9OwogICAgICByZWFkZXIucmVhZEFzQXJyYXlCdWZmZXIoZmlsZSk7CiAgICB9KTsKICAgIC8vIFdhaXQgZm9yIHRoZSBkYXRhIHRvIGJlIHJlYWR5LgogICAgbGV0IGZpbGVEYXRhID0geWllbGQgewogICAgICBwcm9taXNlOiBmaWxlRGF0YVByb21pc2UsCiAgICAgIHJlc3BvbnNlOiB7CiAgICAgICAgYWN0aW9uOiAnY29udGludWUnLAogICAgICB9CiAgICB9OwoKICAgIC8vIFVzZSBhIGNodW5rZWQgc2VuZGluZyB0byBhdm9pZCBtZXNzYWdlIHNpemUgbGltaXRzLiBTZWUgYi82MjExNTY2MC4KICAgIGxldCBwb3NpdGlvbiA9IDA7CiAgICB3aGlsZSAocG9zaXRpb24gPCBmaWxlRGF0YS5ieXRlTGVuZ3RoKSB7CiAgICAgIGNvbnN0IGxlbmd0aCA9IE1hdGgubWluKGZpbGVEYXRhLmJ5dGVMZW5ndGggLSBwb3NpdGlvbiwgTUFYX1BBWUxPQURfU0laRSk7CiAgICAgIGNvbnN0IGNodW5rID0gbmV3IFVpbnQ4QXJyYXkoZmlsZURhdGEsIHBvc2l0aW9uLCBsZW5ndGgpOwogICAgICBwb3NpdGlvbiArPSBsZW5ndGg7CgogICAgICBjb25zdCBiYXNlNjQgPSBidG9hKFN0cmluZy5mcm9tQ2hhckNvZGUuYXBwbHkobnVsbCwgY2h1bmspKTsKICAgICAgeWllbGQgewogICAgICAgIHJlc3BvbnNlOiB7CiAgICAgICAgICBhY3Rpb246ICdhcHBlbmQnLAogICAgICAgICAgZmlsZTogZmlsZS5uYW1lLAogICAgICAgICAgZGF0YTogYmFzZTY0LAogICAgICAgIH0sCiAgICAgIH07CiAgICAgIHBlcmNlbnQudGV4dENvbnRlbnQgPQogICAgICAgICAgYCR7TWF0aC5yb3VuZCgocG9zaXRpb24gLyBmaWxlRGF0YS5ieXRlTGVuZ3RoKSAqIDEwMCl9JSBkb25lYDsKICAgIH0KICB9CgogIC8vIEFsbCBkb25lLgogIHlpZWxkIHsKICAgIHJlc3BvbnNlOiB7CiAgICAgIGFjdGlvbjogJ2NvbXBsZXRlJywKICAgIH0KICB9Owp9CgpzY29wZS5nb29nbGUgPSBzY29wZS5nb29nbGUgfHwge307CnNjb3BlLmdvb2dsZS5jb2xhYiA9IHNjb3BlLmdvb2dsZS5jb2xhYiB8fCB7fTsKc2NvcGUuZ29vZ2xlLmNvbGFiLl9maWxlcyA9IHsKICBfdXBsb2FkRmlsZXMsCiAgX3VwbG9hZEZpbGVzQ29udGludWUsCn07Cn0pKHNlbGYpOwo=",
              "ok": true,
              "headers": [
                [
                  "content-type",
                  "application/javascript"
                ]
              ],
              "status": 200,
              "status_text": ""
            }
          },
          "base_uri": "https://localhost:8080/",
          "height": 91
        }
      },
      "source": [
        "files.upload()"
      ],
      "execution_count": 0,
      "outputs": [
        {
          "output_type": "display_data",
          "data": {
            "text/html": [
              "\n",
              "     <input type=\"file\" id=\"files-99f4f1b3-ab04-4e55-8208-da23467c23fa\" name=\"files[]\" multiple disabled />\n",
              "     <output id=\"result-99f4f1b3-ab04-4e55-8208-da23467c23fa\">\n",
              "      Upload widget is only available when the cell has been executed in the\n",
              "      current browser session. Please rerun this cell to enable.\n",
              "      </output>\n",
              "      <script src=\"/nbextensions/google.colab/files.js\"></script> "
            ],
            "text/plain": [
              "<IPython.core.display.HTML object>"
            ]
          },
          "metadata": {
            "tags": []
          }
        },
        {
          "output_type": "stream",
          "text": [
            "Saving kaggle.json to kaggle (1).json\n"
          ],
          "name": "stdout"
        },
        {
          "output_type": "execute_result",
          "data": {
            "text/plain": [
              "{'kaggle.json': b'{\"username\":\"buntyshah\",\"key\":\"9f654aca594a996bd14418483b21a6af\"}'}"
            ]
          },
          "metadata": {
            "tags": []
          },
          "execution_count": 2
        }
      ]
    },
    {
      "cell_type": "code",
      "metadata": {
        "id": "TC52sCHj_lLT",
        "colab_type": "code",
        "colab": {}
      },
      "source": [
        "!pip install -q kaggle\n",
        "!mkdir -p ~/.kaggle\n",
        "!cp kaggle.json ~/.kaggle/\n",
        "!chmod 600 /root/.kaggle/kaggle.json"
      ],
      "execution_count": 0,
      "outputs": []
    },
    {
      "cell_type": "code",
      "metadata": {
        "id": "oV7nhECU_qd2",
        "colab_type": "code",
        "outputId": "14741780-fbdf-4677-aa34-4fa0883f869b",
        "colab": {
          "base_uri": "https://localhost:8080/",
          "height": 68
        }
      },
      "source": [
        "!kaggle datasets download buntyshah/amexpert-2019"
      ],
      "execution_count": 0,
      "outputs": [
        {
          "output_type": "stream",
          "text": [
            "Downloading amexpert-2019.zip to /content\n",
            " 78% 9.00M/11.5M [00:00<00:00, 16.7MB/s]\n",
            "100% 11.5M/11.5M [00:00<00:00, 21.4MB/s]\n"
          ],
          "name": "stdout"
        }
      ]
    },
    {
      "cell_type": "code",
      "metadata": {
        "id": "ah6V9pcd_xxJ",
        "colab_type": "code",
        "outputId": "d40e0aa3-b1eb-41ef-8b01-4b14ab2ea661",
        "colab": {
          "base_uri": "https://localhost:8080/",
          "height": 170
        }
      },
      "source": [
        "!unzip \"../content/amexpert-2019.zip\" "
      ],
      "execution_count": 0,
      "outputs": [
        {
          "output_type": "stream",
          "text": [
            "Archive:  ../content/amexpert-2019.zip\n",
            "  inflating: Submission.csv          \n",
            "  inflating: test_QyjYwdj.csv        \n",
            "  inflating: train_AUpWtIz (1)/campaign_data.csv  \n",
            "  inflating: train_AUpWtIz (1)/coupon_item_mapping.csv  \n",
            "  inflating: train_AUpWtIz (1)/customer_demographics.csv  \n",
            "  inflating: train_AUpWtIz (1)/customer_transaction_data.csv  \n",
            "  inflating: train_AUpWtIz (1)/item_data.csv  \n",
            "  inflating: train_AUpWtIz (1)/train.csv  \n"
          ],
          "name": "stdout"
        }
      ]
    },
    {
      "cell_type": "markdown",
      "metadata": {
        "id": "DI5gEnIQ__1I",
        "colab_type": "text"
      },
      "source": [
        "## Read Data"
      ]
    },
    {
      "cell_type": "code",
      "metadata": {
        "id": "ajvJtUvE_4BS",
        "colab_type": "code",
        "colab": {}
      },
      "source": [
        "import pandas as pd\n",
        "import numpy as np\n",
        "#  Libraries\n",
        "import numpy as np \n",
        "import pandas as pd \n",
        "# Data processing, metrics and modeling\n",
        "from sklearn.preprocessing import LabelEncoder\n",
        "from sklearn.model_selection import train_test_split, StratifiedKFold,KFold\n",
        "\n",
        "from datetime import datetime\n",
        "from sklearn.metrics import precision_score, recall_score, confusion_matrix, accuracy_score, roc_auc_score, f1_score, roc_curve, auc,precision_recall_curve\n",
        "from sklearn import metrics\n",
        "from sklearn import preprocessing\n",
        "# Lgbm\n",
        "import lightgbm as lgb\n",
        "# Suppr warning\n",
        "import warnings\n",
        "warnings.filterwarnings(\"ignore\")\n",
        "\n",
        "import itertools\n",
        "from scipy import interp\n",
        "\n",
        "# Plots\n",
        "import seaborn as sns\n",
        "import matplotlib.pyplot as plt\n",
        "%matplotlib inline\n",
        "from matplotlib import rcParams"
      ],
      "execution_count": 0,
      "outputs": []
    },
    {
      "cell_type": "code",
      "metadata": {
        "id": "wTOR4SNYABZ4",
        "colab_type": "code",
        "colab": {}
      },
      "source": [
        "train= pd.read_csv(\"../content/train_AUpWtIz (1)/train.csv\")"
      ],
      "execution_count": 0,
      "outputs": []
    },
    {
      "cell_type": "code",
      "metadata": {
        "id": "2tBqPY-VAJF3",
        "colab_type": "code",
        "outputId": "3981954a-2c76-444d-87ad-cd6e3b42c740",
        "colab": {
          "base_uri": "https://localhost:8080/",
          "height": 67
        }
      },
      "source": [
        "train.redemption_status.value_counts()"
      ],
      "execution_count": 0,
      "outputs": [
        {
          "output_type": "execute_result",
          "data": {
            "text/plain": [
              "0    77640\n",
              "1      729\n",
              "Name: redemption_status, dtype: int64"
            ]
          },
          "metadata": {
            "tags": []
          },
          "execution_count": 3
        }
      ]
    },
    {
      "cell_type": "code",
      "metadata": {
        "id": "0-Hi_jjAAXEY",
        "colab_type": "code",
        "outputId": "bb1a02aa-a656-4f4f-cb79-43ebd18852c1",
        "colab": {
          "base_uri": "https://localhost:8080/",
          "height": 34
        }
      },
      "source": [
        "train.shape"
      ],
      "execution_count": 0,
      "outputs": [
        {
          "output_type": "execute_result",
          "data": {
            "text/plain": [
              "(78369, 5)"
            ]
          },
          "metadata": {
            "tags": []
          },
          "execution_count": 4
        }
      ]
    },
    {
      "cell_type": "code",
      "metadata": {
        "id": "UMZUubeJAYzJ",
        "colab_type": "code",
        "colab": {}
      },
      "source": [
        "test = pd.read_csv(\"../content/test_QyjYwdj.csv\")"
      ],
      "execution_count": 0,
      "outputs": []
    },
    {
      "cell_type": "code",
      "metadata": {
        "id": "TzhEhicDAdZ4",
        "colab_type": "code",
        "colab": {}
      },
      "source": [
        "# Read 5 common files\n",
        "\n",
        "campaign_data = pd.read_csv(\"../content/train_AUpWtIz (1)/campaign_data.csv\")\n",
        "coupon_item_mapping =  pd.read_csv(\"../content/train_AUpWtIz (1)/coupon_item_mapping.csv\")\n",
        "customer_demographics = pd.read_csv(\"../content/train_AUpWtIz (1)/customer_demographics.csv\")\n",
        "customer_transaction_data = pd.read_csv(\"../content/train_AUpWtIz (1)/customer_transaction_data.csv\")\n",
        "item_data = pd.read_csv(\"../content/train_AUpWtIz (1)/item_data.csv\")"
      ],
      "execution_count": 0,
      "outputs": []
    },
    {
      "cell_type": "markdown",
      "metadata": {
        "id": "oo3-AK58BHpm",
        "colab_type": "text"
      },
      "source": [
        "![alt text](https://s3-ap-south-1.amazonaws.com/av-blog-media/wp-content/uploads/2019/09/Screenshot-2019-09-28-at-8.58.32-PM.png)"
      ]
    },
    {
      "cell_type": "markdown",
      "metadata": {
        "id": "8W0SH0mLBQkf",
        "colab_type": "text"
      },
      "source": [
        "## Lets Combine campaign_id with Train/test as it doesnt have any dependency"
      ]
    },
    {
      "cell_type": "code",
      "metadata": {
        "id": "MmGI4sGUArEs",
        "colab_type": "code",
        "colab": {}
      },
      "source": [
        "train_df = pd.merge(train,campaign_data,on='campaign_id',how='left')\n",
        "test_df = pd.merge(test,campaign_data,on='campaign_id',how='left')"
      ],
      "execution_count": 0,
      "outputs": []
    },
    {
      "cell_type": "markdown",
      "metadata": {
        "id": "31gLZntnBdyA",
        "colab_type": "text"
      },
      "source": [
        "## Lets Combine customer_demographics with train and test"
      ]
    },
    {
      "cell_type": "code",
      "metadata": {
        "id": "-TnodhGPBb92",
        "colab_type": "code",
        "colab": {}
      },
      "source": [
        "train_df = pd.merge(train_df , customer_demographics ,on='customer_id',how='left')\n",
        "test_df = pd.merge(test_df , customer_demographics ,on='customer_id',how='left')"
      ],
      "execution_count": 0,
      "outputs": []
    },
    {
      "cell_type": "markdown",
      "metadata": {
        "id": "YXwbckP1IEuB",
        "colab_type": "text"
      },
      "source": [
        "## Create new DF to combine remaining blocks"
      ]
    },
    {
      "cell_type": "code",
      "metadata": {
        "id": "l7q4uxGPBlcV",
        "colab_type": "code",
        "colab": {}
      },
      "source": [
        "df = pd.merge(customer_transaction_data , item_data ,on='item_id',how='left')\n",
        "df = pd.merge(df , coupon_item_mapping ,on='item_id',how='left')"
      ],
      "execution_count": 0,
      "outputs": []
    },
    {
      "cell_type": "code",
      "metadata": {
        "id": "R4AShL_BIM1L",
        "colab_type": "code",
        "colab": {}
      },
      "source": [
        "df = df.fillna(0)"
      ],
      "execution_count": 0,
      "outputs": []
    },
    {
      "cell_type": "code",
      "metadata": {
        "id": "31-HimIIIP2r",
        "colab_type": "code",
        "colab": {}
      },
      "source": [
        "df['date'] = df['date'].astype('datetime64[ns]') \n",
        "#df['C_date_year'] = df['date'].dt.year\n",
        "df['C_date_month'] = df['date'].dt.month\n",
        "df['C_date_day'] = df['date'].dt.day\n",
        "# df = df.drop('date',axis=1)"
      ],
      "execution_count": 0,
      "outputs": []
    },
    {
      "cell_type": "code",
      "metadata": {
        "id": "MOorOK90IvQi",
        "colab_type": "code",
        "colab": {}
      },
      "source": [
        "## Feature engg\n",
        "df['per_item_price'] = df['selling_price'] / df['quantity']\n",
        "df['item_price_after_discount'] = (df['selling_price'] + df['other_discount'] + df['coupon_discount']) / df['quantity']\n",
        "df['discount'] = df['other_discount'] + df['coupon_discount']"
      ],
      "execution_count": 0,
      "outputs": []
    },
    {
      "cell_type": "code",
      "metadata": {
        "id": "QiCMfbanZfFz",
        "colab_type": "code",
        "colab": {}
      },
      "source": [
        "df['NF_coupon_month'] = df['coupon_id'].astype(str) + \"_\" + df['C_date_month'].astype(str)"
      ],
      "execution_count": 0,
      "outputs": []
    },
    {
      "cell_type": "code",
      "metadata": {
        "id": "4yKMQzBLaCVr",
        "colab_type": "code",
        "colab": {}
      },
      "source": [
        "from sklearn.preprocessing import LabelEncoder\n",
        "for f in df.columns:\n",
        "    if  df[f].dtype=='object': \n",
        "        lbl = preprocessing.LabelEncoder()\n",
        "        lbl.fit(list(df[f].values))\n",
        "        df[f] = lbl.transform(list(df[f].values))"
      ],
      "execution_count": 0,
      "outputs": []
    },
    {
      "cell_type": "markdown",
      "metadata": {
        "id": "6RMREBJ8ae4F",
        "colab_type": "text"
      },
      "source": [
        "## Creating Aggrigate features for *customer_id*\n",
        "\n",
        "Note : Created Additional Mode Feature apart from Part 1 Solution"
      ]
    },
    {
      "cell_type": "code",
      "metadata": {
        "id": "NdH7TGg3acgD",
        "colab_type": "code",
        "colab": {}
      },
      "source": [
        "['mean','sum','min','max','median','quantile','mad','std','count','nunique']\n",
        "ag_cat=['count','nunique','min','max','last']\n",
        "ag_num=['mean','sum','min','max','median','quantile','mad','std']\n",
        "\n",
        "agg_func = {     # find the sum of the durations for each group\n",
        "                                    'item_id' : ag_cat,\n",
        "                                    'quantity':ag_num,\n",
        "                                    'selling_price': ag_num,\n",
        "                                    'other_discount':ag_num,\n",
        "                                    'coupon_discount':ag_num,\n",
        "                                    'brand':ag_cat,\n",
        "                                    'brand_type':ag_cat,\n",
        "                                    'category':ag_cat,\n",
        "                                    'coupon_id':ag_cat,\n",
        "                                    #'C_date_year':ag_cat,\n",
        "                                    'C_date_month':ag_cat,\n",
        "                                    'C_date_day':ag_cat,\n",
        "                                    'per_item_price':ag_num,\n",
        "                                    'item_price_after_discount':ag_num,\n",
        "                                    'NF_coupon_month':ag_cat\n",
        "                                }"
      ],
      "execution_count": 0,
      "outputs": []
    },
    {
      "cell_type": "code",
      "metadata": {
        "id": "FhN9RwWHavLs",
        "colab_type": "code",
        "outputId": "24ebca2b-d3a7-41a9-884f-29116eb10c34",
        "colab": {
          "base_uri": "https://localhost:8080/",
          "height": 244
        }
      },
      "source": [
        "df_customer_groupby = df.groupby(by=['customer_id']).agg(agg_func)\n",
        "df_customer_groupby.columns=['agg_cust_id_' + '_'.join(col).strip() for col in df_customer_groupby.columns.values]\n",
        "df_customer_groupby.reset_index(inplace=True)\n",
        "df_customer_groupby.head()"
      ],
      "execution_count": 0,
      "outputs": [
        {
          "output_type": "execute_result",
          "data": {
            "text/html": [
              "<div>\n",
              "<style scoped>\n",
              "    .dataframe tbody tr th:only-of-type {\n",
              "        vertical-align: middle;\n",
              "    }\n",
              "\n",
              "    .dataframe tbody tr th {\n",
              "        vertical-align: top;\n",
              "    }\n",
              "\n",
              "    .dataframe thead th {\n",
              "        text-align: right;\n",
              "    }\n",
              "</style>\n",
              "<table border=\"1\" class=\"dataframe\">\n",
              "  <thead>\n",
              "    <tr style=\"text-align: right;\">\n",
              "      <th></th>\n",
              "      <th>customer_id</th>\n",
              "      <th>agg_cust_id_item_id_count</th>\n",
              "      <th>agg_cust_id_item_id_nunique</th>\n",
              "      <th>agg_cust_id_item_id_min</th>\n",
              "      <th>agg_cust_id_item_id_max</th>\n",
              "      <th>agg_cust_id_item_id_last</th>\n",
              "      <th>agg_cust_id_quantity_mean</th>\n",
              "      <th>agg_cust_id_quantity_sum</th>\n",
              "      <th>agg_cust_id_quantity_min</th>\n",
              "      <th>agg_cust_id_quantity_max</th>\n",
              "      <th>agg_cust_id_quantity_median</th>\n",
              "      <th>agg_cust_id_quantity_quantile</th>\n",
              "      <th>agg_cust_id_quantity_mad</th>\n",
              "      <th>agg_cust_id_quantity_std</th>\n",
              "      <th>agg_cust_id_selling_price_mean</th>\n",
              "      <th>agg_cust_id_selling_price_sum</th>\n",
              "      <th>agg_cust_id_selling_price_min</th>\n",
              "      <th>agg_cust_id_selling_price_max</th>\n",
              "      <th>agg_cust_id_selling_price_median</th>\n",
              "      <th>agg_cust_id_selling_price_quantile</th>\n",
              "      <th>agg_cust_id_selling_price_mad</th>\n",
              "      <th>agg_cust_id_selling_price_std</th>\n",
              "      <th>agg_cust_id_other_discount_mean</th>\n",
              "      <th>agg_cust_id_other_discount_sum</th>\n",
              "      <th>agg_cust_id_other_discount_min</th>\n",
              "      <th>agg_cust_id_other_discount_max</th>\n",
              "      <th>agg_cust_id_other_discount_median</th>\n",
              "      <th>agg_cust_id_other_discount_quantile</th>\n",
              "      <th>agg_cust_id_other_discount_mad</th>\n",
              "      <th>agg_cust_id_other_discount_std</th>\n",
              "      <th>agg_cust_id_coupon_discount_mean</th>\n",
              "      <th>agg_cust_id_coupon_discount_sum</th>\n",
              "      <th>agg_cust_id_coupon_discount_min</th>\n",
              "      <th>agg_cust_id_coupon_discount_max</th>\n",
              "      <th>agg_cust_id_coupon_discount_median</th>\n",
              "      <th>agg_cust_id_coupon_discount_quantile</th>\n",
              "      <th>agg_cust_id_coupon_discount_mad</th>\n",
              "      <th>agg_cust_id_coupon_discount_std</th>\n",
              "      <th>agg_cust_id_brand_count</th>\n",
              "      <th>agg_cust_id_brand_nunique</th>\n",
              "      <th>...</th>\n",
              "      <th>agg_cust_id_category_nunique</th>\n",
              "      <th>agg_cust_id_category_min</th>\n",
              "      <th>agg_cust_id_category_max</th>\n",
              "      <th>agg_cust_id_category_last</th>\n",
              "      <th>agg_cust_id_coupon_id_count</th>\n",
              "      <th>agg_cust_id_coupon_id_nunique</th>\n",
              "      <th>agg_cust_id_coupon_id_min</th>\n",
              "      <th>agg_cust_id_coupon_id_max</th>\n",
              "      <th>agg_cust_id_coupon_id_last</th>\n",
              "      <th>agg_cust_id_C_date_month_count</th>\n",
              "      <th>agg_cust_id_C_date_month_nunique</th>\n",
              "      <th>agg_cust_id_C_date_month_min</th>\n",
              "      <th>agg_cust_id_C_date_month_max</th>\n",
              "      <th>agg_cust_id_C_date_month_last</th>\n",
              "      <th>agg_cust_id_C_date_day_count</th>\n",
              "      <th>agg_cust_id_C_date_day_nunique</th>\n",
              "      <th>agg_cust_id_C_date_day_min</th>\n",
              "      <th>agg_cust_id_C_date_day_max</th>\n",
              "      <th>agg_cust_id_C_date_day_last</th>\n",
              "      <th>agg_cust_id_per_item_price_mean</th>\n",
              "      <th>agg_cust_id_per_item_price_sum</th>\n",
              "      <th>agg_cust_id_per_item_price_min</th>\n",
              "      <th>agg_cust_id_per_item_price_max</th>\n",
              "      <th>agg_cust_id_per_item_price_median</th>\n",
              "      <th>agg_cust_id_per_item_price_quantile</th>\n",
              "      <th>agg_cust_id_per_item_price_mad</th>\n",
              "      <th>agg_cust_id_per_item_price_std</th>\n",
              "      <th>agg_cust_id_item_price_after_discount_mean</th>\n",
              "      <th>agg_cust_id_item_price_after_discount_sum</th>\n",
              "      <th>agg_cust_id_item_price_after_discount_min</th>\n",
              "      <th>agg_cust_id_item_price_after_discount_max</th>\n",
              "      <th>agg_cust_id_item_price_after_discount_median</th>\n",
              "      <th>agg_cust_id_item_price_after_discount_quantile</th>\n",
              "      <th>agg_cust_id_item_price_after_discount_mad</th>\n",
              "      <th>agg_cust_id_item_price_after_discount_std</th>\n",
              "      <th>agg_cust_id_NF_coupon_month_count</th>\n",
              "      <th>agg_cust_id_NF_coupon_month_nunique</th>\n",
              "      <th>agg_cust_id_NF_coupon_month_min</th>\n",
              "      <th>agg_cust_id_NF_coupon_month_max</th>\n",
              "      <th>agg_cust_id_NF_coupon_month_last</th>\n",
              "    </tr>\n",
              "  </thead>\n",
              "  <tbody>\n",
              "    <tr>\n",
              "      <th>0</th>\n",
              "      <td>1</td>\n",
              "      <td>2211</td>\n",
              "      <td>463</td>\n",
              "      <td>4315</td>\n",
              "      <td>73348</td>\n",
              "      <td>45986</td>\n",
              "      <td>1.134328</td>\n",
              "      <td>2508</td>\n",
              "      <td>1</td>\n",
              "      <td>5</td>\n",
              "      <td>1</td>\n",
              "      <td>1.0</td>\n",
              "      <td>0.240588</td>\n",
              "      <td>0.454791</td>\n",
              "      <td>95.070873</td>\n",
              "      <td>210201.70</td>\n",
              "      <td>12.11</td>\n",
              "      <td>445.25</td>\n",
              "      <td>89.05</td>\n",
              "      <td>89.05</td>\n",
              "      <td>35.683296</td>\n",
              "      <td>53.433822</td>\n",
              "      <td>-20.346404</td>\n",
              "      <td>-44985.90</td>\n",
              "      <td>-372.23</td>\n",
              "      <td>0.0</td>\n",
              "      <td>-10.69</td>\n",
              "      <td>-10.69</td>\n",
              "      <td>21.518545</td>\n",
              "      <td>36.210123</td>\n",
              "      <td>-1.940900</td>\n",
              "      <td>-4291.33</td>\n",
              "      <td>-106.86</td>\n",
              "      <td>0.0</td>\n",
              "      <td>0.0</td>\n",
              "      <td>0.0</td>\n",
              "      <td>3.595625</td>\n",
              "      <td>8.661971</td>\n",
              "      <td>2211</td>\n",
              "      <td>163</td>\n",
              "      <td>...</td>\n",
              "      <td>9</td>\n",
              "      <td>1</td>\n",
              "      <td>13</td>\n",
              "      <td>6</td>\n",
              "      <td>2211</td>\n",
              "      <td>160</td>\n",
              "      <td>0.0</td>\n",
              "      <td>1089.0</td>\n",
              "      <td>30.0</td>\n",
              "      <td>2211</td>\n",
              "      <td>12</td>\n",
              "      <td>1</td>\n",
              "      <td>12</td>\n",
              "      <td>6</td>\n",
              "      <td>2211</td>\n",
              "      <td>28</td>\n",
              "      <td>1</td>\n",
              "      <td>31</td>\n",
              "      <td>30</td>\n",
              "      <td>86.604146</td>\n",
              "      <td>191481.767500</td>\n",
              "      <td>12.110000</td>\n",
              "      <td>391.46</td>\n",
              "      <td>89.05</td>\n",
              "      <td>89.05</td>\n",
              "      <td>31.372843</td>\n",
              "      <td>43.240596</td>\n",
              "      <td>68.600825</td>\n",
              "      <td>151676.423833</td>\n",
              "      <td>-35.265</td>\n",
              "      <td>391.46</td>\n",
              "      <td>63.760</td>\n",
              "      <td>63.760</td>\n",
              "      <td>36.339287</td>\n",
              "      <td>46.937958</td>\n",
              "      <td>2211</td>\n",
              "      <td>725</td>\n",
              "      <td>0</td>\n",
              "      <td>12108</td>\n",
              "      <td>3738</td>\n",
              "    </tr>\n",
              "    <tr>\n",
              "      <th>1</th>\n",
              "      <td>2</td>\n",
              "      <td>823</td>\n",
              "      <td>352</td>\n",
              "      <td>137</td>\n",
              "      <td>73242</td>\n",
              "      <td>73242</td>\n",
              "      <td>1.117861</td>\n",
              "      <td>920</td>\n",
              "      <td>1</td>\n",
              "      <td>5</td>\n",
              "      <td>1</td>\n",
              "      <td>1.0</td>\n",
              "      <td>0.213669</td>\n",
              "      <td>0.417919</td>\n",
              "      <td>103.368943</td>\n",
              "      <td>85072.64</td>\n",
              "      <td>14.25</td>\n",
              "      <td>640.80</td>\n",
              "      <td>89.05</td>\n",
              "      <td>89.05</td>\n",
              "      <td>45.778112</td>\n",
              "      <td>71.076889</td>\n",
              "      <td>-16.798141</td>\n",
              "      <td>-13824.87</td>\n",
              "      <td>-312.03</td>\n",
              "      <td>0.0</td>\n",
              "      <td>0.00</td>\n",
              "      <td>0.00</td>\n",
              "      <td>20.244751</td>\n",
              "      <td>33.011891</td>\n",
              "      <td>-0.302965</td>\n",
              "      <td>-249.34</td>\n",
              "      <td>-89.05</td>\n",
              "      <td>0.0</td>\n",
              "      <td>0.0</td>\n",
              "      <td>0.0</td>\n",
              "      <td>0.602985</td>\n",
              "      <td>4.721158</td>\n",
              "      <td>823</td>\n",
              "      <td>153</td>\n",
              "      <td>...</td>\n",
              "      <td>9</td>\n",
              "      <td>1</td>\n",
              "      <td>16</td>\n",
              "      <td>11</td>\n",
              "      <td>823</td>\n",
              "      <td>138</td>\n",
              "      <td>0.0</td>\n",
              "      <td>1109.0</td>\n",
              "      <td>32.0</td>\n",
              "      <td>823</td>\n",
              "      <td>11</td>\n",
              "      <td>2</td>\n",
              "      <td>12</td>\n",
              "      <td>6</td>\n",
              "      <td>823</td>\n",
              "      <td>19</td>\n",
              "      <td>1</td>\n",
              "      <td>28</td>\n",
              "      <td>26</td>\n",
              "      <td>95.445093</td>\n",
              "      <td>78551.311667</td>\n",
              "      <td>7.125000</td>\n",
              "      <td>640.80</td>\n",
              "      <td>88.34</td>\n",
              "      <td>88.34</td>\n",
              "      <td>39.491361</td>\n",
              "      <td>63.636083</td>\n",
              "      <td>81.248777</td>\n",
              "      <td>66867.743500</td>\n",
              "      <td>-78.010</td>\n",
              "      <td>640.80</td>\n",
              "      <td>70.880</td>\n",
              "      <td>70.880</td>\n",
              "      <td>43.799330</td>\n",
              "      <td>67.801977</td>\n",
              "      <td>823</td>\n",
              "      <td>302</td>\n",
              "      <td>1</td>\n",
              "      <td>12220</td>\n",
              "      <td>3982</td>\n",
              "    </tr>\n",
              "    <tr>\n",
              "      <th>2</th>\n",
              "      <td>3</td>\n",
              "      <td>1351</td>\n",
              "      <td>406</td>\n",
              "      <td>4308</td>\n",
              "      <td>73698</td>\n",
              "      <td>73698</td>\n",
              "      <td>6.861584</td>\n",
              "      <td>9270</td>\n",
              "      <td>1</td>\n",
              "      <td>6949</td>\n",
              "      <td>1</td>\n",
              "      <td>1.0</td>\n",
              "      <td>10.358366</td>\n",
              "      <td>189.016329</td>\n",
              "      <td>113.680792</td>\n",
              "      <td>153582.75</td>\n",
              "      <td>8.90</td>\n",
              "      <td>862.00</td>\n",
              "      <td>89.05</td>\n",
              "      <td>89.05</td>\n",
              "      <td>59.687796</td>\n",
              "      <td>85.572038</td>\n",
              "      <td>-24.400081</td>\n",
              "      <td>-32964.51</td>\n",
              "      <td>-463.06</td>\n",
              "      <td>0.0</td>\n",
              "      <td>-9.26</td>\n",
              "      <td>-9.26</td>\n",
              "      <td>25.908501</td>\n",
              "      <td>40.760823</td>\n",
              "      <td>-2.578209</td>\n",
              "      <td>-3483.16</td>\n",
              "      <td>-142.48</td>\n",
              "      <td>0.0</td>\n",
              "      <td>0.0</td>\n",
              "      <td>0.0</td>\n",
              "      <td>4.797644</td>\n",
              "      <td>11.568789</td>\n",
              "      <td>1351</td>\n",
              "      <td>114</td>\n",
              "      <td>...</td>\n",
              "      <td>8</td>\n",
              "      <td>4</td>\n",
              "      <td>16</td>\n",
              "      <td>6</td>\n",
              "      <td>1351</td>\n",
              "      <td>136</td>\n",
              "      <td>0.0</td>\n",
              "      <td>1109.0</td>\n",
              "      <td>0.0</td>\n",
              "      <td>1351</td>\n",
              "      <td>12</td>\n",
              "      <td>1</td>\n",
              "      <td>12</td>\n",
              "      <td>6</td>\n",
              "      <td>1351</td>\n",
              "      <td>23</td>\n",
              "      <td>1</td>\n",
              "      <td>31</td>\n",
              "      <td>16</td>\n",
              "      <td>77.733098</td>\n",
              "      <td>105017.415082</td>\n",
              "      <td>0.102570</td>\n",
              "      <td>862.00</td>\n",
              "      <td>70.88</td>\n",
              "      <td>70.88</td>\n",
              "      <td>36.123117</td>\n",
              "      <td>64.565806</td>\n",
              "      <td>60.573072</td>\n",
              "      <td>81834.220831</td>\n",
              "      <td>-70.520</td>\n",
              "      <td>487.63</td>\n",
              "      <td>49.865</td>\n",
              "      <td>49.865</td>\n",
              "      <td>34.352176</td>\n",
              "      <td>52.264127</td>\n",
              "      <td>1351</td>\n",
              "      <td>408</td>\n",
              "      <td>0</td>\n",
              "      <td>12183</td>\n",
              "      <td>8</td>\n",
              "    </tr>\n",
              "    <tr>\n",
              "      <th>3</th>\n",
              "      <td>4</td>\n",
              "      <td>451</td>\n",
              "      <td>125</td>\n",
              "      <td>4617</td>\n",
              "      <td>65281</td>\n",
              "      <td>61047</td>\n",
              "      <td>1.283814</td>\n",
              "      <td>579</td>\n",
              "      <td>1</td>\n",
              "      <td>5</td>\n",
              "      <td>1</td>\n",
              "      <td>1.0</td>\n",
              "      <td>0.440509</td>\n",
              "      <td>0.624805</td>\n",
              "      <td>143.631774</td>\n",
              "      <td>64777.93</td>\n",
              "      <td>14.25</td>\n",
              "      <td>1330.05</td>\n",
              "      <td>106.86</td>\n",
              "      <td>106.86</td>\n",
              "      <td>72.674528</td>\n",
              "      <td>147.361484</td>\n",
              "      <td>-15.565854</td>\n",
              "      <td>-7020.20</td>\n",
              "      <td>-390.04</td>\n",
              "      <td>0.0</td>\n",
              "      <td>0.00</td>\n",
              "      <td>0.00</td>\n",
              "      <td>18.483995</td>\n",
              "      <td>31.132399</td>\n",
              "      <td>-0.197450</td>\n",
              "      <td>-89.05</td>\n",
              "      <td>-89.05</td>\n",
              "      <td>0.0</td>\n",
              "      <td>0.0</td>\n",
              "      <td>0.0</td>\n",
              "      <td>0.394025</td>\n",
              "      <td>4.193201</td>\n",
              "      <td>451</td>\n",
              "      <td>72</td>\n",
              "      <td>...</td>\n",
              "      <td>8</td>\n",
              "      <td>2</td>\n",
              "      <td>16</td>\n",
              "      <td>11</td>\n",
              "      <td>451</td>\n",
              "      <td>67</td>\n",
              "      <td>0.0</td>\n",
              "      <td>1098.0</td>\n",
              "      <td>32.0</td>\n",
              "      <td>451</td>\n",
              "      <td>11</td>\n",
              "      <td>1</td>\n",
              "      <td>12</td>\n",
              "      <td>5</td>\n",
              "      <td>451</td>\n",
              "      <td>23</td>\n",
              "      <td>1</td>\n",
              "      <td>30</td>\n",
              "      <td>11</td>\n",
              "      <td>117.863659</td>\n",
              "      <td>53156.510000</td>\n",
              "      <td>14.250000</td>\n",
              "      <td>1330.05</td>\n",
              "      <td>106.50</td>\n",
              "      <td>106.50</td>\n",
              "      <td>50.081832</td>\n",
              "      <td>136.483424</td>\n",
              "      <td>106.223135</td>\n",
              "      <td>47906.634000</td>\n",
              "      <td>-6.768</td>\n",
              "      <td>1330.05</td>\n",
              "      <td>88.695</td>\n",
              "      <td>88.695</td>\n",
              "      <td>54.810286</td>\n",
              "      <td>139.111221</td>\n",
              "      <td>451</td>\n",
              "      <td>207</td>\n",
              "      <td>1</td>\n",
              "      <td>11726</td>\n",
              "      <td>3981</td>\n",
              "    </tr>\n",
              "    <tr>\n",
              "      <th>4</th>\n",
              "      <td>5</td>\n",
              "      <td>1594</td>\n",
              "      <td>490</td>\n",
              "      <td>4314</td>\n",
              "      <td>71182</td>\n",
              "      <td>69320</td>\n",
              "      <td>59.345671</td>\n",
              "      <td>94597</td>\n",
              "      <td>1</td>\n",
              "      <td>14638</td>\n",
              "      <td>1</td>\n",
              "      <td>1.0</td>\n",
              "      <td>115.211085</td>\n",
              "      <td>826.140617</td>\n",
              "      <td>128.931066</td>\n",
              "      <td>205516.12</td>\n",
              "      <td>12.11</td>\n",
              "      <td>1485.35</td>\n",
              "      <td>99.38</td>\n",
              "      <td>99.38</td>\n",
              "      <td>77.382276</td>\n",
              "      <td>121.436279</td>\n",
              "      <td>-13.463024</td>\n",
              "      <td>-21460.06</td>\n",
              "      <td>-216.21</td>\n",
              "      <td>0.0</td>\n",
              "      <td>0.00</td>\n",
              "      <td>0.00</td>\n",
              "      <td>18.705007</td>\n",
              "      <td>28.304603</td>\n",
              "      <td>-0.126255</td>\n",
              "      <td>-201.25</td>\n",
              "      <td>-71.24</td>\n",
              "      <td>0.0</td>\n",
              "      <td>0.0</td>\n",
              "      <td>0.0</td>\n",
              "      <td>0.251717</td>\n",
              "      <td>2.660559</td>\n",
              "      <td>1594</td>\n",
              "      <td>168</td>\n",
              "      <td>...</td>\n",
              "      <td>14</td>\n",
              "      <td>1</td>\n",
              "      <td>16</td>\n",
              "      <td>6</td>\n",
              "      <td>1594</td>\n",
              "      <td>122</td>\n",
              "      <td>0.0</td>\n",
              "      <td>1101.0</td>\n",
              "      <td>668.0</td>\n",
              "      <td>1594</td>\n",
              "      <td>12</td>\n",
              "      <td>1</td>\n",
              "      <td>12</td>\n",
              "      <td>6</td>\n",
              "      <td>1594</td>\n",
              "      <td>31</td>\n",
              "      <td>1</td>\n",
              "      <td>31</td>\n",
              "      <td>29</td>\n",
              "      <td>103.868092</td>\n",
              "      <td>165565.738810</td>\n",
              "      <td>0.086868</td>\n",
              "      <td>640.80</td>\n",
              "      <td>83.35</td>\n",
              "      <td>83.35</td>\n",
              "      <td>62.031263</td>\n",
              "      <td>89.910336</td>\n",
              "      <td>92.955942</td>\n",
              "      <td>148171.772333</td>\n",
              "      <td>-21.020</td>\n",
              "      <td>640.80</td>\n",
              "      <td>63.760</td>\n",
              "      <td>63.760</td>\n",
              "      <td>63.187028</td>\n",
              "      <td>90.713374</td>\n",
              "      <td>1594</td>\n",
              "      <td>412</td>\n",
              "      <td>0</td>\n",
              "      <td>12103</td>\n",
              "      <td>8249</td>\n",
              "    </tr>\n",
              "  </tbody>\n",
              "</table>\n",
              "<p>5 rows × 89 columns</p>\n",
              "</div>"
            ],
            "text/plain": [
              "   customer_id  ...  agg_cust_id_NF_coupon_month_last\n",
              "0            1  ...                              3738\n",
              "1            2  ...                              3982\n",
              "2            3  ...                                 8\n",
              "3            4  ...                              3981\n",
              "4            5  ...                              8249\n",
              "\n",
              "[5 rows x 89 columns]"
            ]
          },
          "metadata": {
            "tags": []
          },
          "execution_count": 16
        }
      ]
    },
    {
      "cell_type": "code",
      "metadata": {
        "id": "kmiYxtcNa0o-",
        "colab_type": "code",
        "colab": {}
      },
      "source": [
        "train_df = pd.merge(train_df , df_customer_groupby ,on='customer_id',how='left')\n",
        "test_df = pd.merge(test_df , df_customer_groupby ,on='customer_id',how='left')"
      ],
      "execution_count": 0,
      "outputs": []
    },
    {
      "cell_type": "code",
      "metadata": {
        "id": "WHUf-6oz13w7",
        "colab_type": "code",
        "outputId": "c86fbad7-a316-435f-eb5b-a22de502a847",
        "colab": {
          "base_uri": "https://localhost:8080/",
          "height": 224
        }
      },
      "source": [
        "# Add Mode Values\n",
        "\n",
        "import scipy.stats\n",
        "df_customer_groupby_mode = df.groupby(by=['customer_id']).agg(lambda x: scipy.stats.mode(x)[0][0])\n",
        "df_customer_groupby_mode.columns= ['agg_cust_id_' + col +'_mode' for col in df_customer_groupby_mode.columns.values]\n",
        "df_customer_groupby_mode.reset_index(inplace=True)\n",
        "df_customer_groupby_mode.head()"
      ],
      "execution_count": 0,
      "outputs": [
        {
          "output_type": "execute_result",
          "data": {
            "text/html": [
              "<div>\n",
              "<style scoped>\n",
              "    .dataframe tbody tr th:only-of-type {\n",
              "        vertical-align: middle;\n",
              "    }\n",
              "\n",
              "    .dataframe tbody tr th {\n",
              "        vertical-align: top;\n",
              "    }\n",
              "\n",
              "    .dataframe thead th {\n",
              "        text-align: right;\n",
              "    }\n",
              "</style>\n",
              "<table border=\"1\" class=\"dataframe\">\n",
              "  <thead>\n",
              "    <tr style=\"text-align: right;\">\n",
              "      <th></th>\n",
              "      <th>customer_id</th>\n",
              "      <th>agg_cust_id_date_mode</th>\n",
              "      <th>agg_cust_id_item_id_mode</th>\n",
              "      <th>agg_cust_id_quantity_mode</th>\n",
              "      <th>agg_cust_id_selling_price_mode</th>\n",
              "      <th>agg_cust_id_other_discount_mode</th>\n",
              "      <th>agg_cust_id_coupon_discount_mode</th>\n",
              "      <th>agg_cust_id_brand_mode</th>\n",
              "      <th>agg_cust_id_brand_type_mode</th>\n",
              "      <th>agg_cust_id_category_mode</th>\n",
              "      <th>agg_cust_id_coupon_id_mode</th>\n",
              "      <th>agg_cust_id_C_date_month_mode</th>\n",
              "      <th>agg_cust_id_C_date_day_mode</th>\n",
              "      <th>agg_cust_id_per_item_price_mode</th>\n",
              "      <th>agg_cust_id_item_price_after_discount_mode</th>\n",
              "      <th>agg_cust_id_discount_mode</th>\n",
              "      <th>agg_cust_id_NF_coupon_month_mode</th>\n",
              "    </tr>\n",
              "  </thead>\n",
              "  <tbody>\n",
              "    <tr>\n",
              "      <th>0</th>\n",
              "      <td>1</td>\n",
              "      <td>2012-12-03</td>\n",
              "      <td>45986</td>\n",
              "      <td>1</td>\n",
              "      <td>89.05</td>\n",
              "      <td>0.0</td>\n",
              "      <td>0.0</td>\n",
              "      <td>1075</td>\n",
              "      <td>0</td>\n",
              "      <td>6</td>\n",
              "      <td>0.0</td>\n",
              "      <td>5</td>\n",
              "      <td>3</td>\n",
              "      <td>89.05</td>\n",
              "      <td>106.50</td>\n",
              "      <td>0.0</td>\n",
              "      <td>7</td>\n",
              "    </tr>\n",
              "    <tr>\n",
              "      <th>1</th>\n",
              "      <td>2</td>\n",
              "      <td>2012-06-13</td>\n",
              "      <td>30981</td>\n",
              "      <td>1</td>\n",
              "      <td>71.24</td>\n",
              "      <td>0.0</td>\n",
              "      <td>0.0</td>\n",
              "      <td>56</td>\n",
              "      <td>0</td>\n",
              "      <td>6</td>\n",
              "      <td>0.0</td>\n",
              "      <td>6</td>\n",
              "      <td>13</td>\n",
              "      <td>71.24</td>\n",
              "      <td>106.50</td>\n",
              "      <td>0.0</td>\n",
              "      <td>8</td>\n",
              "    </tr>\n",
              "    <tr>\n",
              "      <th>2</th>\n",
              "      <td>3</td>\n",
              "      <td>2012-11-16</td>\n",
              "      <td>22883</td>\n",
              "      <td>1</td>\n",
              "      <td>70.88</td>\n",
              "      <td>0.0</td>\n",
              "      <td>0.0</td>\n",
              "      <td>56</td>\n",
              "      <td>0</td>\n",
              "      <td>6</td>\n",
              "      <td>0.0</td>\n",
              "      <td>9</td>\n",
              "      <td>16</td>\n",
              "      <td>35.62</td>\n",
              "      <td>70.88</td>\n",
              "      <td>0.0</td>\n",
              "      <td>9</td>\n",
              "    </tr>\n",
              "    <tr>\n",
              "      <th>3</th>\n",
              "      <td>4</td>\n",
              "      <td>2012-07-18</td>\n",
              "      <td>47968</td>\n",
              "      <td>1</td>\n",
              "      <td>89.05</td>\n",
              "      <td>0.0</td>\n",
              "      <td>0.0</td>\n",
              "      <td>56</td>\n",
              "      <td>0</td>\n",
              "      <td>6</td>\n",
              "      <td>0.0</td>\n",
              "      <td>7</td>\n",
              "      <td>18</td>\n",
              "      <td>89.05</td>\n",
              "      <td>71.60</td>\n",
              "      <td>0.0</td>\n",
              "      <td>7</td>\n",
              "    </tr>\n",
              "    <tr>\n",
              "      <th>4</th>\n",
              "      <td>5</td>\n",
              "      <td>2012-04-28</td>\n",
              "      <td>35304</td>\n",
              "      <td>1</td>\n",
              "      <td>35.26</td>\n",
              "      <td>0.0</td>\n",
              "      <td>0.0</td>\n",
              "      <td>56</td>\n",
              "      <td>0</td>\n",
              "      <td>6</td>\n",
              "      <td>0.0</td>\n",
              "      <td>5</td>\n",
              "      <td>28</td>\n",
              "      <td>35.26</td>\n",
              "      <td>35.26</td>\n",
              "      <td>0.0</td>\n",
              "      <td>8</td>\n",
              "    </tr>\n",
              "  </tbody>\n",
              "</table>\n",
              "</div>"
            ],
            "text/plain": [
              "   customer_id  ... agg_cust_id_NF_coupon_month_mode\n",
              "0            1  ...                                7\n",
              "1            2  ...                                8\n",
              "2            3  ...                                9\n",
              "3            4  ...                                7\n",
              "4            5  ...                                8\n",
              "\n",
              "[5 rows x 17 columns]"
            ]
          },
          "metadata": {
            "tags": []
          },
          "execution_count": 19
        }
      ]
    },
    {
      "cell_type": "code",
      "metadata": {
        "id": "xe4d4bTj8Q-l",
        "colab_type": "code",
        "colab": {}
      },
      "source": [
        "train_df = pd.merge(train_df , df_customer_groupby_mode ,on='customer_id',how='left')\n",
        "test_df = pd.merge(test_df , df_customer_groupby_mode ,on='customer_id',how='left')"
      ],
      "execution_count": 0,
      "outputs": []
    },
    {
      "cell_type": "markdown",
      "metadata": {
        "id": "df4BKWKga47J",
        "colab_type": "text"
      },
      "source": [
        "## Creating Aggrigate features for coupon_id\n",
        "\n",
        "Note : Created Additional Mode Feature apart from Part 1 Solution\n"
      ]
    },
    {
      "cell_type": "code",
      "metadata": {
        "id": "KS9jDvGEa3U_",
        "colab_type": "code",
        "colab": {}
      },
      "source": [
        "['mean','sum','min','max','median','quantile','mad','std','count','nunique']\n",
        "ag_cat=['count','nunique','min','max','last']\n",
        "ag_num=['mean','sum','min','max','median','quantile','mad','std']\n",
        "\n",
        "agg_func_1 = {     # find the sum of the durations for each group\n",
        "                                    'customer_id' : ag_cat,\n",
        "                                    'quantity':ag_num,\n",
        "                                    'selling_price': ag_num,\n",
        "                                    'other_discount':ag_num,\n",
        "                                    'coupon_discount':ag_num,\n",
        "                                    'brand':ag_cat,\n",
        "                                    'brand_type':ag_cat,\n",
        "                                    'category':ag_cat,\n",
        "                                    'item_id':ag_cat,\n",
        "                                    #'C_date_year':ag_cat,\n",
        "                                    'C_date_month':ag_cat,\n",
        "                                    'C_date_day':ag_cat,\n",
        "                                    'per_item_price':ag_num,\n",
        "                                    'item_price_after_discount':ag_num,\n",
        "                                    'NF_coupon_month':ag_cat\n",
        "                                }"
      ],
      "execution_count": 0,
      "outputs": []
    },
    {
      "cell_type": "code",
      "metadata": {
        "id": "-cJv7Q__bEnv",
        "colab_type": "code",
        "colab": {}
      },
      "source": [
        "df_coupon_id_groupby = df.groupby(by=['coupon_id']).agg(agg_func_1)\n",
        "df_coupon_id_groupby.columns=['agg_cp_id_' + '_'.join(col).strip() for col in df_coupon_id_groupby.columns.values]\n",
        "df_coupon_id_groupby.reset_index(inplace=True)\n",
        "train_df = pd.merge(train_df , df_coupon_id_groupby ,on='coupon_id',how='left')\n",
        "test_df = pd.merge(test_df , df_coupon_id_groupby ,on='coupon_id',how='left')"
      ],
      "execution_count": 0,
      "outputs": []
    },
    {
      "cell_type": "code",
      "metadata": {
        "id": "WR4yUF7a8Vux",
        "colab_type": "code",
        "outputId": "b3f6984b-f6d0-4e9e-aa3c-120aa79a03dd",
        "colab": {
          "base_uri": "https://localhost:8080/",
          "height": 224
        }
      },
      "source": [
        "# Add Mode Values\n",
        "\n",
        "import scipy.stats\n",
        "df_coupon_id_groupby_mode = df.groupby(by=['coupon_id']).agg(lambda x: scipy.stats.mode(x)[0][0])\n",
        "df_coupon_id_groupby_mode.columns= ['agg_cp_id_' + col +'_mode' for col in df_coupon_id_groupby_mode.columns.values]\n",
        "df_coupon_id_groupby_mode.reset_index(inplace=True)\n",
        "df_coupon_id_groupby_mode.head()"
      ],
      "execution_count": 0,
      "outputs": [
        {
          "output_type": "execute_result",
          "data": {
            "text/html": [
              "<div>\n",
              "<style scoped>\n",
              "    .dataframe tbody tr th:only-of-type {\n",
              "        vertical-align: middle;\n",
              "    }\n",
              "\n",
              "    .dataframe tbody tr th {\n",
              "        vertical-align: top;\n",
              "    }\n",
              "\n",
              "    .dataframe thead th {\n",
              "        text-align: right;\n",
              "    }\n",
              "</style>\n",
              "<table border=\"1\" class=\"dataframe\">\n",
              "  <thead>\n",
              "    <tr style=\"text-align: right;\">\n",
              "      <th></th>\n",
              "      <th>coupon_id</th>\n",
              "      <th>agg_cp_id_date_mode</th>\n",
              "      <th>agg_cp_id_customer_id_mode</th>\n",
              "      <th>agg_cp_id_item_id_mode</th>\n",
              "      <th>agg_cp_id_quantity_mode</th>\n",
              "      <th>agg_cp_id_selling_price_mode</th>\n",
              "      <th>agg_cp_id_other_discount_mode</th>\n",
              "      <th>agg_cp_id_coupon_discount_mode</th>\n",
              "      <th>agg_cp_id_brand_mode</th>\n",
              "      <th>agg_cp_id_brand_type_mode</th>\n",
              "      <th>agg_cp_id_category_mode</th>\n",
              "      <th>agg_cp_id_C_date_month_mode</th>\n",
              "      <th>agg_cp_id_C_date_day_mode</th>\n",
              "      <th>agg_cp_id_per_item_price_mode</th>\n",
              "      <th>agg_cp_id_item_price_after_discount_mode</th>\n",
              "      <th>agg_cp_id_discount_mode</th>\n",
              "      <th>agg_cp_id_NF_coupon_month_mode</th>\n",
              "    </tr>\n",
              "  </thead>\n",
              "  <tbody>\n",
              "    <tr>\n",
              "      <th>0</th>\n",
              "      <td>0.0</td>\n",
              "      <td>2012-09-03</td>\n",
              "      <td>711</td>\n",
              "      <td>49009</td>\n",
              "      <td>1</td>\n",
              "      <td>35.62</td>\n",
              "      <td>0.00</td>\n",
              "      <td>0.0</td>\n",
              "      <td>56</td>\n",
              "      <td>0</td>\n",
              "      <td>6</td>\n",
              "      <td>5</td>\n",
              "      <td>15</td>\n",
              "      <td>35.62</td>\n",
              "      <td>70.88</td>\n",
              "      <td>0.00</td>\n",
              "      <td>7</td>\n",
              "    </tr>\n",
              "    <tr>\n",
              "      <th>1</th>\n",
              "      <td>1.0</td>\n",
              "      <td>2013-01-12</td>\n",
              "      <td>435</td>\n",
              "      <td>45529</td>\n",
              "      <td>1</td>\n",
              "      <td>71.24</td>\n",
              "      <td>-35.26</td>\n",
              "      <td>0.0</td>\n",
              "      <td>1475</td>\n",
              "      <td>0</td>\n",
              "      <td>9</td>\n",
              "      <td>5</td>\n",
              "      <td>29</td>\n",
              "      <td>71.24</td>\n",
              "      <td>35.98</td>\n",
              "      <td>-35.26</td>\n",
              "      <td>19</td>\n",
              "    </tr>\n",
              "    <tr>\n",
              "      <th>2</th>\n",
              "      <td>2.0</td>\n",
              "      <td>2012-01-17</td>\n",
              "      <td>1466</td>\n",
              "      <td>12901</td>\n",
              "      <td>1</td>\n",
              "      <td>89.05</td>\n",
              "      <td>-21.02</td>\n",
              "      <td>0.0</td>\n",
              "      <td>2084</td>\n",
              "      <td>0</td>\n",
              "      <td>6</td>\n",
              "      <td>4</td>\n",
              "      <td>6</td>\n",
              "      <td>89.05</td>\n",
              "      <td>68.03</td>\n",
              "      <td>-21.02</td>\n",
              "      <td>2523</td>\n",
              "    </tr>\n",
              "    <tr>\n",
              "      <th>3</th>\n",
              "      <td>3.0</td>\n",
              "      <td>2012-07-06</td>\n",
              "      <td>1064</td>\n",
              "      <td>59117</td>\n",
              "      <td>1</td>\n",
              "      <td>106.86</td>\n",
              "      <td>0.00</td>\n",
              "      <td>0.0</td>\n",
              "      <td>278</td>\n",
              "      <td>0</td>\n",
              "      <td>6</td>\n",
              "      <td>1</td>\n",
              "      <td>1</td>\n",
              "      <td>106.86</td>\n",
              "      <td>78.72</td>\n",
              "      <td>0.00</td>\n",
              "      <td>3718</td>\n",
              "    </tr>\n",
              "    <tr>\n",
              "      <th>4</th>\n",
              "      <td>4.0</td>\n",
              "      <td>2012-11-23</td>\n",
              "      <td>140</td>\n",
              "      <td>51242</td>\n",
              "      <td>1</td>\n",
              "      <td>177.74</td>\n",
              "      <td>-35.62</td>\n",
              "      <td>0.0</td>\n",
              "      <td>544</td>\n",
              "      <td>0</td>\n",
              "      <td>6</td>\n",
              "      <td>6</td>\n",
              "      <td>26</td>\n",
              "      <td>177.74</td>\n",
              "      <td>142.12</td>\n",
              "      <td>-35.62</td>\n",
              "      <td>5017</td>\n",
              "    </tr>\n",
              "  </tbody>\n",
              "</table>\n",
              "</div>"
            ],
            "text/plain": [
              "   coupon_id  ... agg_cp_id_NF_coupon_month_mode\n",
              "0        0.0  ...                              7\n",
              "1        1.0  ...                             19\n",
              "2        2.0  ...                           2523\n",
              "3        3.0  ...                           3718\n",
              "4        4.0  ...                           5017\n",
              "\n",
              "[5 rows x 17 columns]"
            ]
          },
          "metadata": {
            "tags": []
          },
          "execution_count": 23
        }
      ]
    },
    {
      "cell_type": "code",
      "metadata": {
        "id": "1EURrIJ28Vk6",
        "colab_type": "code",
        "colab": {}
      },
      "source": [
        "train_df = pd.merge(train_df , df_coupon_id_groupby_mode ,on='coupon_id',how='left')\n",
        "test_df = pd.merge(test_df , df_coupon_id_groupby_mode ,on='coupon_id',how='left')"
      ],
      "execution_count": 0,
      "outputs": []
    },
    {
      "cell_type": "markdown",
      "metadata": {
        "id": "H_DU8UsabN2L",
        "colab_type": "text"
      },
      "source": [
        "## Aggrigate with customer_id and coupon_id combine\n",
        "\n",
        "Note : Created Additional Mode Feature apart from Part 1 Solution"
      ]
    },
    {
      "cell_type": "code",
      "metadata": {
        "id": "tiGsxfUFbL6o",
        "colab_type": "code",
        "colab": {}
      },
      "source": [
        "['mean','sum','min','max','median','quantile','mad','std','count','nunique']\n",
        "ag_cat=['count','nunique','min','max','last']\n",
        "ag_num=['mean','sum','min','max','median','quantile','mad','std']\n",
        "\n",
        "agg_func_2 = {     # find the sum of the durations for each group\n",
        "                                   # 'customer_id' : ag_cat,\n",
        "                                    'quantity':ag_num,\n",
        "                                    'selling_price': ag_num,\n",
        "                                   # 'other_discount':ag_num,\n",
        "                                   # 'coupon_discount':ag_num,\n",
        "                                    'brand':ag_cat,\n",
        "                                    'brand_type':ag_cat,\n",
        "                                    'category':ag_cat,\n",
        "                                    'item_id':ag_cat,\n",
        "                                    #'C_date_year':ag_cat,\n",
        "                                    'C_date_month':ag_cat,\n",
        "                                    'C_date_day':ag_cat,\n",
        "                                    #'per_item_price':ag_num,\n",
        "                                    #'item_price_after_discount':ag_num\n",
        "                                    'NF_coupon_month':ag_cat\n",
        "                                }"
      ],
      "execution_count": 0,
      "outputs": []
    },
    {
      "cell_type": "code",
      "metadata": {
        "id": "BGAamyChbYQv",
        "colab_type": "code",
        "colab": {}
      },
      "source": [
        "df_cust_cp_id_groupby = df.groupby(by=['customer_id','coupon_id']).agg(agg_func_2)"
      ],
      "execution_count": 0,
      "outputs": []
    },
    {
      "cell_type": "code",
      "metadata": {
        "id": "RRu_sWOrbaDA",
        "colab_type": "code",
        "colab": {}
      },
      "source": [
        "df_cust_cp_id_groupby.columns=['agg_cust_cp_id_' + '_'.join(col).strip() for col in df_cust_cp_id_groupby.columns.values]\n",
        "df_cust_cp_id_groupby.reset_index(inplace=True)\n",
        "train_df = pd.merge(train_df , df_cust_cp_id_groupby ,on=['customer_id','coupon_id'],how='left')\n",
        "test_df = pd.merge(test_df , df_cust_cp_id_groupby ,on=['customer_id','coupon_id'],how='left')"
      ],
      "execution_count": 0,
      "outputs": []
    },
    {
      "cell_type": "code",
      "metadata": {
        "id": "oZepbOVI9K3O",
        "colab_type": "code",
        "outputId": "40e6694a-f1a5-41f0-9afb-64b574252716",
        "colab": {
          "base_uri": "https://localhost:8080/",
          "height": 215
        }
      },
      "source": [
        "# Add Mode Values\n",
        "\n",
        "import scipy.stats\n",
        "df_cust_cp_id_groupby_mode = df.groupby(by=['customer_id','coupon_id']).agg(lambda x: scipy.stats.mode(x)[0][0])\n",
        "df_cust_cp_id_groupby_mode.columns= ['agg_cust_cp_id_' + col +'_mode' for col in df_cust_cp_id_groupby_mode.columns.values]\n",
        "df_cust_cp_id_groupby_mode.reset_index(inplace=True)\n",
        "df_cust_cp_id_groupby_mode.head()"
      ],
      "execution_count": 0,
      "outputs": [
        {
          "output_type": "execute_result",
          "data": {
            "text/html": [
              "<div>\n",
              "<style scoped>\n",
              "    .dataframe tbody tr th:only-of-type {\n",
              "        vertical-align: middle;\n",
              "    }\n",
              "\n",
              "    .dataframe tbody tr th {\n",
              "        vertical-align: top;\n",
              "    }\n",
              "\n",
              "    .dataframe thead th {\n",
              "        text-align: right;\n",
              "    }\n",
              "</style>\n",
              "<table border=\"1\" class=\"dataframe\">\n",
              "  <thead>\n",
              "    <tr style=\"text-align: right;\">\n",
              "      <th></th>\n",
              "      <th>customer_id</th>\n",
              "      <th>coupon_id</th>\n",
              "      <th>agg_cust_cp_id_date_mode</th>\n",
              "      <th>agg_cust_cp_id_item_id_mode</th>\n",
              "      <th>agg_cust_cp_id_quantity_mode</th>\n",
              "      <th>agg_cust_cp_id_selling_price_mode</th>\n",
              "      <th>agg_cust_cp_id_other_discount_mode</th>\n",
              "      <th>agg_cust_cp_id_coupon_discount_mode</th>\n",
              "      <th>agg_cust_cp_id_brand_mode</th>\n",
              "      <th>agg_cust_cp_id_brand_type_mode</th>\n",
              "      <th>agg_cust_cp_id_category_mode</th>\n",
              "      <th>agg_cust_cp_id_C_date_month_mode</th>\n",
              "      <th>agg_cust_cp_id_C_date_day_mode</th>\n",
              "      <th>agg_cust_cp_id_per_item_price_mode</th>\n",
              "      <th>agg_cust_cp_id_item_price_after_discount_mode</th>\n",
              "      <th>agg_cust_cp_id_discount_mode</th>\n",
              "      <th>agg_cust_cp_id_NF_coupon_month_mode</th>\n",
              "    </tr>\n",
              "  </thead>\n",
              "  <tbody>\n",
              "    <tr>\n",
              "      <th>0</th>\n",
              "      <td>1</td>\n",
              "      <td>0.0</td>\n",
              "      <td>2012-08-12</td>\n",
              "      <td>8307</td>\n",
              "      <td>1</td>\n",
              "      <td>106.50</td>\n",
              "      <td>0.00</td>\n",
              "      <td>0.0</td>\n",
              "      <td>141</td>\n",
              "      <td>0</td>\n",
              "      <td>6</td>\n",
              "      <td>5</td>\n",
              "      <td>3</td>\n",
              "      <td>106.50</td>\n",
              "      <td>106.50</td>\n",
              "      <td>0.00</td>\n",
              "      <td>7</td>\n",
              "    </tr>\n",
              "    <tr>\n",
              "      <th>1</th>\n",
              "      <td>1</td>\n",
              "      <td>1.0</td>\n",
              "      <td>2012-10-18</td>\n",
              "      <td>59842</td>\n",
              "      <td>1</td>\n",
              "      <td>71.24</td>\n",
              "      <td>-35.26</td>\n",
              "      <td>0.0</td>\n",
              "      <td>1475</td>\n",
              "      <td>0</td>\n",
              "      <td>9</td>\n",
              "      <td>3</td>\n",
              "      <td>12</td>\n",
              "      <td>71.24</td>\n",
              "      <td>35.98</td>\n",
              "      <td>-35.26</td>\n",
              "      <td>13</td>\n",
              "    </tr>\n",
              "    <tr>\n",
              "      <th>2</th>\n",
              "      <td>1</td>\n",
              "      <td>6.0</td>\n",
              "      <td>2012-06-19</td>\n",
              "      <td>30818</td>\n",
              "      <td>1</td>\n",
              "      <td>44.52</td>\n",
              "      <td>-19.23</td>\n",
              "      <td>0.0</td>\n",
              "      <td>946</td>\n",
              "      <td>0</td>\n",
              "      <td>6</td>\n",
              "      <td>6</td>\n",
              "      <td>3</td>\n",
              "      <td>44.52</td>\n",
              "      <td>32.41</td>\n",
              "      <td>-19.23</td>\n",
              "      <td>7408</td>\n",
              "    </tr>\n",
              "    <tr>\n",
              "      <th>3</th>\n",
              "      <td>1</td>\n",
              "      <td>7.0</td>\n",
              "      <td>2012-06-14</td>\n",
              "      <td>8539</td>\n",
              "      <td>1</td>\n",
              "      <td>89.05</td>\n",
              "      <td>0.00</td>\n",
              "      <td>0.0</td>\n",
              "      <td>1487</td>\n",
              "      <td>0</td>\n",
              "      <td>9</td>\n",
              "      <td>12</td>\n",
              "      <td>18</td>\n",
              "      <td>89.05</td>\n",
              "      <td>71.60</td>\n",
              "      <td>0.00</td>\n",
              "      <td>8644</td>\n",
              "    </tr>\n",
              "    <tr>\n",
              "      <th>4</th>\n",
              "      <td>1</td>\n",
              "      <td>8.0</td>\n",
              "      <td>2012-02-21</td>\n",
              "      <td>17047</td>\n",
              "      <td>1</td>\n",
              "      <td>142.12</td>\n",
              "      <td>0.00</td>\n",
              "      <td>0.0</td>\n",
              "      <td>1898</td>\n",
              "      <td>0</td>\n",
              "      <td>10</td>\n",
              "      <td>2</td>\n",
              "      <td>18</td>\n",
              "      <td>89.05</td>\n",
              "      <td>142.12</td>\n",
              "      <td>0.00</td>\n",
              "      <td>9832</td>\n",
              "    </tr>\n",
              "  </tbody>\n",
              "</table>\n",
              "</div>"
            ],
            "text/plain": [
              "   customer_id  ...  agg_cust_cp_id_NF_coupon_month_mode\n",
              "0            1  ...                                    7\n",
              "1            1  ...                                   13\n",
              "2            1  ...                                 7408\n",
              "3            1  ...                                 8644\n",
              "4            1  ...                                 9832\n",
              "\n",
              "[5 rows x 17 columns]"
            ]
          },
          "metadata": {
            "tags": []
          },
          "execution_count": 23
        }
      ]
    },
    {
      "cell_type": "code",
      "metadata": {
        "id": "ZZMJHdY09l8G",
        "colab_type": "code",
        "colab": {}
      },
      "source": [
        "train_df = pd.merge(train_df , df_cust_cp_id_groupby_mode ,on=['customer_id','coupon_id'],how='left')\n",
        "test_df = pd.merge(test_df , df_cust_cp_id_groupby_mode ,on=['customer_id','coupon_id'],how='left')"
      ],
      "execution_count": 0,
      "outputs": []
    },
    {
      "cell_type": "markdown",
      "metadata": {
        "id": "NxJUeVUNbhQu",
        "colab_type": "text"
      },
      "source": [
        "## Changes in Train and Test DF\n",
        "\n",
        "Note : Created additional feature to find difference between campaign start date to transaction date"
      ]
    },
    {
      "cell_type": "code",
      "metadata": {
        "id": "tf5roZrubfkw",
        "colab_type": "code",
        "outputId": "85170b11-12ae-4a95-b484-346d012c4a6e",
        "colab": {
          "base_uri": "https://localhost:8080/",
          "height": 244
        }
      },
      "source": [
        "# Creating New Feature of Trasaction date to campain date\n",
        "train_df.head()"
      ],
      "execution_count": 0,
      "outputs": [
        {
          "output_type": "execute_result",
          "data": {
            "text/html": [
              "<div>\n",
              "<style scoped>\n",
              "    .dataframe tbody tr th:only-of-type {\n",
              "        vertical-align: middle;\n",
              "    }\n",
              "\n",
              "    .dataframe tbody tr th {\n",
              "        vertical-align: top;\n",
              "    }\n",
              "\n",
              "    .dataframe thead th {\n",
              "        text-align: right;\n",
              "    }\n",
              "</style>\n",
              "<table border=\"1\" class=\"dataframe\">\n",
              "  <thead>\n",
              "    <tr style=\"text-align: right;\">\n",
              "      <th></th>\n",
              "      <th>id</th>\n",
              "      <th>campaign_id</th>\n",
              "      <th>coupon_id</th>\n",
              "      <th>customer_id</th>\n",
              "      <th>redemption_status</th>\n",
              "      <th>campaign_type</th>\n",
              "      <th>start_date</th>\n",
              "      <th>end_date</th>\n",
              "      <th>age_range</th>\n",
              "      <th>marital_status</th>\n",
              "      <th>rented</th>\n",
              "      <th>family_size</th>\n",
              "      <th>no_of_children</th>\n",
              "      <th>income_bracket</th>\n",
              "      <th>agg_cust_id_item_id_count</th>\n",
              "      <th>agg_cust_id_item_id_nunique</th>\n",
              "      <th>agg_cust_id_item_id_min</th>\n",
              "      <th>agg_cust_id_item_id_max</th>\n",
              "      <th>agg_cust_id_item_id_last</th>\n",
              "      <th>agg_cust_id_quantity_mean</th>\n",
              "      <th>agg_cust_id_quantity_sum</th>\n",
              "      <th>agg_cust_id_quantity_min</th>\n",
              "      <th>agg_cust_id_quantity_max</th>\n",
              "      <th>agg_cust_id_quantity_median</th>\n",
              "      <th>agg_cust_id_quantity_quantile</th>\n",
              "      <th>agg_cust_id_quantity_mad</th>\n",
              "      <th>agg_cust_id_quantity_std</th>\n",
              "      <th>agg_cust_id_selling_price_mean</th>\n",
              "      <th>agg_cust_id_selling_price_sum</th>\n",
              "      <th>agg_cust_id_selling_price_min</th>\n",
              "      <th>agg_cust_id_selling_price_max</th>\n",
              "      <th>agg_cust_id_selling_price_median</th>\n",
              "      <th>agg_cust_id_selling_price_quantile</th>\n",
              "      <th>agg_cust_id_selling_price_mad</th>\n",
              "      <th>agg_cust_id_selling_price_std</th>\n",
              "      <th>agg_cust_id_other_discount_mean</th>\n",
              "      <th>agg_cust_id_other_discount_sum</th>\n",
              "      <th>agg_cust_id_other_discount_min</th>\n",
              "      <th>agg_cust_id_other_discount_max</th>\n",
              "      <th>agg_cust_id_other_discount_median</th>\n",
              "      <th>...</th>\n",
              "      <th>agg_cust_cp_id_category_count</th>\n",
              "      <th>agg_cust_cp_id_category_nunique</th>\n",
              "      <th>agg_cust_cp_id_category_min</th>\n",
              "      <th>agg_cust_cp_id_category_max</th>\n",
              "      <th>agg_cust_cp_id_category_last</th>\n",
              "      <th>agg_cust_cp_id_item_id_count</th>\n",
              "      <th>agg_cust_cp_id_item_id_nunique</th>\n",
              "      <th>agg_cust_cp_id_item_id_min</th>\n",
              "      <th>agg_cust_cp_id_item_id_max</th>\n",
              "      <th>agg_cust_cp_id_item_id_last</th>\n",
              "      <th>agg_cust_cp_id_C_date_month_count</th>\n",
              "      <th>agg_cust_cp_id_C_date_month_nunique</th>\n",
              "      <th>agg_cust_cp_id_C_date_month_min</th>\n",
              "      <th>agg_cust_cp_id_C_date_month_max</th>\n",
              "      <th>agg_cust_cp_id_C_date_month_last</th>\n",
              "      <th>agg_cust_cp_id_C_date_day_count</th>\n",
              "      <th>agg_cust_cp_id_C_date_day_nunique</th>\n",
              "      <th>agg_cust_cp_id_C_date_day_min</th>\n",
              "      <th>agg_cust_cp_id_C_date_day_max</th>\n",
              "      <th>agg_cust_cp_id_C_date_day_last</th>\n",
              "      <th>agg_cust_cp_id_NF_coupon_month_count</th>\n",
              "      <th>agg_cust_cp_id_NF_coupon_month_nunique</th>\n",
              "      <th>agg_cust_cp_id_NF_coupon_month_min</th>\n",
              "      <th>agg_cust_cp_id_NF_coupon_month_max</th>\n",
              "      <th>agg_cust_cp_id_NF_coupon_month_last</th>\n",
              "      <th>agg_cust_cp_id_date_mode</th>\n",
              "      <th>agg_cust_cp_id_item_id_mode</th>\n",
              "      <th>agg_cust_cp_id_quantity_mode</th>\n",
              "      <th>agg_cust_cp_id_selling_price_mode</th>\n",
              "      <th>agg_cust_cp_id_other_discount_mode</th>\n",
              "      <th>agg_cust_cp_id_coupon_discount_mode</th>\n",
              "      <th>agg_cust_cp_id_brand_mode</th>\n",
              "      <th>agg_cust_cp_id_brand_type_mode</th>\n",
              "      <th>agg_cust_cp_id_category_mode</th>\n",
              "      <th>agg_cust_cp_id_C_date_month_mode</th>\n",
              "      <th>agg_cust_cp_id_C_date_day_mode</th>\n",
              "      <th>agg_cust_cp_id_per_item_price_mode</th>\n",
              "      <th>agg_cust_cp_id_item_price_after_discount_mode</th>\n",
              "      <th>agg_cust_cp_id_discount_mode</th>\n",
              "      <th>agg_cust_cp_id_NF_coupon_month_mode</th>\n",
              "    </tr>\n",
              "  </thead>\n",
              "  <tbody>\n",
              "    <tr>\n",
              "      <th>0</th>\n",
              "      <td>1</td>\n",
              "      <td>13</td>\n",
              "      <td>27</td>\n",
              "      <td>1053</td>\n",
              "      <td>0</td>\n",
              "      <td>X</td>\n",
              "      <td>19/05/13</td>\n",
              "      <td>05/07/13</td>\n",
              "      <td>46-55</td>\n",
              "      <td>NaN</td>\n",
              "      <td>0.0</td>\n",
              "      <td>1</td>\n",
              "      <td>NaN</td>\n",
              "      <td>5.0</td>\n",
              "      <td>610</td>\n",
              "      <td>208</td>\n",
              "      <td>4308</td>\n",
              "      <td>73371</td>\n",
              "      <td>49009</td>\n",
              "      <td>173.785246</td>\n",
              "      <td>106009</td>\n",
              "      <td>1</td>\n",
              "      <td>12444</td>\n",
              "      <td>1</td>\n",
              "      <td>1.0</td>\n",
              "      <td>336.017119</td>\n",
              "      <td>1159.978943</td>\n",
              "      <td>165.690918</td>\n",
              "      <td>101071.46</td>\n",
              "      <td>17.45</td>\n",
              "      <td>5164.54</td>\n",
              "      <td>71.24</td>\n",
              "      <td>71.24</td>\n",
              "      <td>143.999325</td>\n",
              "      <td>368.818706</td>\n",
              "      <td>-37.773820</td>\n",
              "      <td>-23042.03</td>\n",
              "      <td>-890.50</td>\n",
              "      <td>0.0</td>\n",
              "      <td>-10.69</td>\n",
              "      <td>...</td>\n",
              "      <td>NaN</td>\n",
              "      <td>NaN</td>\n",
              "      <td>NaN</td>\n",
              "      <td>NaN</td>\n",
              "      <td>NaN</td>\n",
              "      <td>NaN</td>\n",
              "      <td>NaN</td>\n",
              "      <td>NaN</td>\n",
              "      <td>NaN</td>\n",
              "      <td>NaN</td>\n",
              "      <td>NaN</td>\n",
              "      <td>NaN</td>\n",
              "      <td>NaN</td>\n",
              "      <td>NaN</td>\n",
              "      <td>NaN</td>\n",
              "      <td>NaN</td>\n",
              "      <td>NaN</td>\n",
              "      <td>NaN</td>\n",
              "      <td>NaN</td>\n",
              "      <td>NaN</td>\n",
              "      <td>NaN</td>\n",
              "      <td>NaN</td>\n",
              "      <td>NaN</td>\n",
              "      <td>NaN</td>\n",
              "      <td>NaN</td>\n",
              "      <td>NaT</td>\n",
              "      <td>NaN</td>\n",
              "      <td>NaN</td>\n",
              "      <td>NaN</td>\n",
              "      <td>NaN</td>\n",
              "      <td>NaN</td>\n",
              "      <td>NaN</td>\n",
              "      <td>NaN</td>\n",
              "      <td>NaN</td>\n",
              "      <td>NaN</td>\n",
              "      <td>NaN</td>\n",
              "      <td>NaN</td>\n",
              "      <td>NaN</td>\n",
              "      <td>NaN</td>\n",
              "      <td>NaN</td>\n",
              "    </tr>\n",
              "    <tr>\n",
              "      <th>1</th>\n",
              "      <td>2</td>\n",
              "      <td>13</td>\n",
              "      <td>116</td>\n",
              "      <td>48</td>\n",
              "      <td>0</td>\n",
              "      <td>X</td>\n",
              "      <td>19/05/13</td>\n",
              "      <td>05/07/13</td>\n",
              "      <td>36-45</td>\n",
              "      <td>Married</td>\n",
              "      <td>0.0</td>\n",
              "      <td>2</td>\n",
              "      <td>NaN</td>\n",
              "      <td>3.0</td>\n",
              "      <td>846</td>\n",
              "      <td>244</td>\n",
              "      <td>4525</td>\n",
              "      <td>71973</td>\n",
              "      <td>64341</td>\n",
              "      <td>15.053191</td>\n",
              "      <td>12735</td>\n",
              "      <td>1</td>\n",
              "      <td>11586</td>\n",
              "      <td>1</td>\n",
              "      <td>1.0</td>\n",
              "      <td>27.354484</td>\n",
              "      <td>398.289120</td>\n",
              "      <td>165.157400</td>\n",
              "      <td>139723.16</td>\n",
              "      <td>7.12</td>\n",
              "      <td>1758.92</td>\n",
              "      <td>89.05</td>\n",
              "      <td>89.05</td>\n",
              "      <td>133.840650</td>\n",
              "      <td>281.595271</td>\n",
              "      <td>-28.870816</td>\n",
              "      <td>-24424.71</td>\n",
              "      <td>-372.23</td>\n",
              "      <td>0.0</td>\n",
              "      <td>-10.69</td>\n",
              "      <td>...</td>\n",
              "      <td>NaN</td>\n",
              "      <td>NaN</td>\n",
              "      <td>NaN</td>\n",
              "      <td>NaN</td>\n",
              "      <td>NaN</td>\n",
              "      <td>NaN</td>\n",
              "      <td>NaN</td>\n",
              "      <td>NaN</td>\n",
              "      <td>NaN</td>\n",
              "      <td>NaN</td>\n",
              "      <td>NaN</td>\n",
              "      <td>NaN</td>\n",
              "      <td>NaN</td>\n",
              "      <td>NaN</td>\n",
              "      <td>NaN</td>\n",
              "      <td>NaN</td>\n",
              "      <td>NaN</td>\n",
              "      <td>NaN</td>\n",
              "      <td>NaN</td>\n",
              "      <td>NaN</td>\n",
              "      <td>NaN</td>\n",
              "      <td>NaN</td>\n",
              "      <td>NaN</td>\n",
              "      <td>NaN</td>\n",
              "      <td>NaN</td>\n",
              "      <td>NaT</td>\n",
              "      <td>NaN</td>\n",
              "      <td>NaN</td>\n",
              "      <td>NaN</td>\n",
              "      <td>NaN</td>\n",
              "      <td>NaN</td>\n",
              "      <td>NaN</td>\n",
              "      <td>NaN</td>\n",
              "      <td>NaN</td>\n",
              "      <td>NaN</td>\n",
              "      <td>NaN</td>\n",
              "      <td>NaN</td>\n",
              "      <td>NaN</td>\n",
              "      <td>NaN</td>\n",
              "      <td>NaN</td>\n",
              "    </tr>\n",
              "    <tr>\n",
              "      <th>2</th>\n",
              "      <td>6</td>\n",
              "      <td>9</td>\n",
              "      <td>635</td>\n",
              "      <td>205</td>\n",
              "      <td>0</td>\n",
              "      <td>Y</td>\n",
              "      <td>11/03/13</td>\n",
              "      <td>12/04/13</td>\n",
              "      <td>46-55</td>\n",
              "      <td>Married</td>\n",
              "      <td>0.0</td>\n",
              "      <td>2</td>\n",
              "      <td>NaN</td>\n",
              "      <td>7.0</td>\n",
              "      <td>2016</td>\n",
              "      <td>533</td>\n",
              "      <td>4368</td>\n",
              "      <td>73695</td>\n",
              "      <td>30289</td>\n",
              "      <td>1.426091</td>\n",
              "      <td>2875</td>\n",
              "      <td>1</td>\n",
              "      <td>10</td>\n",
              "      <td>1</td>\n",
              "      <td>1.0</td>\n",
              "      <td>0.634910</td>\n",
              "      <td>1.021600</td>\n",
              "      <td>120.835823</td>\n",
              "      <td>243605.02</td>\n",
              "      <td>17.45</td>\n",
              "      <td>1056.13</td>\n",
              "      <td>99.38</td>\n",
              "      <td>99.38</td>\n",
              "      <td>61.183193</td>\n",
              "      <td>100.879205</td>\n",
              "      <td>-19.046171</td>\n",
              "      <td>-38397.08</td>\n",
              "      <td>-468.05</td>\n",
              "      <td>0.0</td>\n",
              "      <td>-3.56</td>\n",
              "      <td>...</td>\n",
              "      <td>NaN</td>\n",
              "      <td>NaN</td>\n",
              "      <td>NaN</td>\n",
              "      <td>NaN</td>\n",
              "      <td>NaN</td>\n",
              "      <td>NaN</td>\n",
              "      <td>NaN</td>\n",
              "      <td>NaN</td>\n",
              "      <td>NaN</td>\n",
              "      <td>NaN</td>\n",
              "      <td>NaN</td>\n",
              "      <td>NaN</td>\n",
              "      <td>NaN</td>\n",
              "      <td>NaN</td>\n",
              "      <td>NaN</td>\n",
              "      <td>NaN</td>\n",
              "      <td>NaN</td>\n",
              "      <td>NaN</td>\n",
              "      <td>NaN</td>\n",
              "      <td>NaN</td>\n",
              "      <td>NaN</td>\n",
              "      <td>NaN</td>\n",
              "      <td>NaN</td>\n",
              "      <td>NaN</td>\n",
              "      <td>NaN</td>\n",
              "      <td>NaT</td>\n",
              "      <td>NaN</td>\n",
              "      <td>NaN</td>\n",
              "      <td>NaN</td>\n",
              "      <td>NaN</td>\n",
              "      <td>NaN</td>\n",
              "      <td>NaN</td>\n",
              "      <td>NaN</td>\n",
              "      <td>NaN</td>\n",
              "      <td>NaN</td>\n",
              "      <td>NaN</td>\n",
              "      <td>NaN</td>\n",
              "      <td>NaN</td>\n",
              "      <td>NaN</td>\n",
              "      <td>NaN</td>\n",
              "    </tr>\n",
              "    <tr>\n",
              "      <th>3</th>\n",
              "      <td>7</td>\n",
              "      <td>13</td>\n",
              "      <td>644</td>\n",
              "      <td>1050</td>\n",
              "      <td>0</td>\n",
              "      <td>X</td>\n",
              "      <td>19/05/13</td>\n",
              "      <td>05/07/13</td>\n",
              "      <td>NaN</td>\n",
              "      <td>NaN</td>\n",
              "      <td>NaN</td>\n",
              "      <td>NaN</td>\n",
              "      <td>NaN</td>\n",
              "      <td>NaN</td>\n",
              "      <td>454</td>\n",
              "      <td>216</td>\n",
              "      <td>4740</td>\n",
              "      <td>71849</td>\n",
              "      <td>29771</td>\n",
              "      <td>1.325991</td>\n",
              "      <td>602</td>\n",
              "      <td>1</td>\n",
              "      <td>5</td>\n",
              "      <td>1</td>\n",
              "      <td>1.0</td>\n",
              "      <td>0.515554</td>\n",
              "      <td>0.748440</td>\n",
              "      <td>98.992401</td>\n",
              "      <td>44942.55</td>\n",
              "      <td>13.89</td>\n",
              "      <td>708.48</td>\n",
              "      <td>71.24</td>\n",
              "      <td>71.24</td>\n",
              "      <td>62.803231</td>\n",
              "      <td>96.414604</td>\n",
              "      <td>-18.019978</td>\n",
              "      <td>-8181.07</td>\n",
              "      <td>-312.03</td>\n",
              "      <td>0.0</td>\n",
              "      <td>-7.12</td>\n",
              "      <td>...</td>\n",
              "      <td>NaN</td>\n",
              "      <td>NaN</td>\n",
              "      <td>NaN</td>\n",
              "      <td>NaN</td>\n",
              "      <td>NaN</td>\n",
              "      <td>NaN</td>\n",
              "      <td>NaN</td>\n",
              "      <td>NaN</td>\n",
              "      <td>NaN</td>\n",
              "      <td>NaN</td>\n",
              "      <td>NaN</td>\n",
              "      <td>NaN</td>\n",
              "      <td>NaN</td>\n",
              "      <td>NaN</td>\n",
              "      <td>NaN</td>\n",
              "      <td>NaN</td>\n",
              "      <td>NaN</td>\n",
              "      <td>NaN</td>\n",
              "      <td>NaN</td>\n",
              "      <td>NaN</td>\n",
              "      <td>NaN</td>\n",
              "      <td>NaN</td>\n",
              "      <td>NaN</td>\n",
              "      <td>NaN</td>\n",
              "      <td>NaN</td>\n",
              "      <td>NaT</td>\n",
              "      <td>NaN</td>\n",
              "      <td>NaN</td>\n",
              "      <td>NaN</td>\n",
              "      <td>NaN</td>\n",
              "      <td>NaN</td>\n",
              "      <td>NaN</td>\n",
              "      <td>NaN</td>\n",
              "      <td>NaN</td>\n",
              "      <td>NaN</td>\n",
              "      <td>NaN</td>\n",
              "      <td>NaN</td>\n",
              "      <td>NaN</td>\n",
              "      <td>NaN</td>\n",
              "      <td>NaN</td>\n",
              "    </tr>\n",
              "    <tr>\n",
              "      <th>4</th>\n",
              "      <td>9</td>\n",
              "      <td>8</td>\n",
              "      <td>1017</td>\n",
              "      <td>1489</td>\n",
              "      <td>0</td>\n",
              "      <td>X</td>\n",
              "      <td>16/02/13</td>\n",
              "      <td>05/04/13</td>\n",
              "      <td>46-55</td>\n",
              "      <td>Married</td>\n",
              "      <td>0.0</td>\n",
              "      <td>2</td>\n",
              "      <td>NaN</td>\n",
              "      <td>3.0</td>\n",
              "      <td>1000</td>\n",
              "      <td>327</td>\n",
              "      <td>4308</td>\n",
              "      <td>73135</td>\n",
              "      <td>46442</td>\n",
              "      <td>139.702000</td>\n",
              "      <td>139702</td>\n",
              "      <td>1</td>\n",
              "      <td>15420</td>\n",
              "      <td>1</td>\n",
              "      <td>1.0</td>\n",
              "      <td>272.294344</td>\n",
              "      <td>1241.859979</td>\n",
              "      <td>111.164700</td>\n",
              "      <td>111164.70</td>\n",
              "      <td>8.90</td>\n",
              "      <td>1424.80</td>\n",
              "      <td>71.24</td>\n",
              "      <td>71.24</td>\n",
              "      <td>70.674769</td>\n",
              "      <td>138.614915</td>\n",
              "      <td>-22.526890</td>\n",
              "      <td>-22526.89</td>\n",
              "      <td>-320.22</td>\n",
              "      <td>0.0</td>\n",
              "      <td>-7.12</td>\n",
              "      <td>...</td>\n",
              "      <td>NaN</td>\n",
              "      <td>NaN</td>\n",
              "      <td>NaN</td>\n",
              "      <td>NaN</td>\n",
              "      <td>NaN</td>\n",
              "      <td>NaN</td>\n",
              "      <td>NaN</td>\n",
              "      <td>NaN</td>\n",
              "      <td>NaN</td>\n",
              "      <td>NaN</td>\n",
              "      <td>NaN</td>\n",
              "      <td>NaN</td>\n",
              "      <td>NaN</td>\n",
              "      <td>NaN</td>\n",
              "      <td>NaN</td>\n",
              "      <td>NaN</td>\n",
              "      <td>NaN</td>\n",
              "      <td>NaN</td>\n",
              "      <td>NaN</td>\n",
              "      <td>NaN</td>\n",
              "      <td>NaN</td>\n",
              "      <td>NaN</td>\n",
              "      <td>NaN</td>\n",
              "      <td>NaN</td>\n",
              "      <td>NaN</td>\n",
              "      <td>NaT</td>\n",
              "      <td>NaN</td>\n",
              "      <td>NaN</td>\n",
              "      <td>NaN</td>\n",
              "      <td>NaN</td>\n",
              "      <td>NaN</td>\n",
              "      <td>NaN</td>\n",
              "      <td>NaN</td>\n",
              "      <td>NaN</td>\n",
              "      <td>NaN</td>\n",
              "      <td>NaN</td>\n",
              "      <td>NaN</td>\n",
              "      <td>NaN</td>\n",
              "      <td>NaN</td>\n",
              "      <td>NaN</td>\n",
              "    </tr>\n",
              "  </tbody>\n",
              "</table>\n",
              "<p>5 rows × 256 columns</p>\n",
              "</div>"
            ],
            "text/plain": [
              "   id  ...  agg_cust_cp_id_NF_coupon_month_mode\n",
              "0   1  ...                                  NaN\n",
              "1   2  ...                                  NaN\n",
              "2   6  ...                                  NaN\n",
              "3   7  ...                                  NaN\n",
              "4   9  ...                                  NaN\n",
              "\n",
              "[5 rows x 256 columns]"
            ]
          },
          "metadata": {
            "tags": []
          },
          "execution_count": 25
        }
      ]
    },
    {
      "cell_type": "code",
      "metadata": {
        "id": "AvD6lwszbuLW",
        "colab_type": "code",
        "colab": {}
      },
      "source": [
        "train_df['start_date'] = pd.to_datetime(train_df['start_date'])\n",
        "test_df['start_date'] = pd.to_datetime(test_df['start_date'])\n",
        "\n",
        "train_df['end_date'] = pd.to_datetime(train_df['end_date'])\n",
        "test_df['end_date'] = pd.to_datetime(test_df['end_date'])"
      ],
      "execution_count": 0,
      "outputs": []
    },
    {
      "cell_type": "code",
      "metadata": {
        "id": "s4-qOqRZ-NKv",
        "colab_type": "code",
        "colab": {}
      },
      "source": [
        "train_df['agg_cust_id_date_mode'] = pd.to_datetime(train_df['agg_cust_id_date_mode'])\n",
        "train_df['agg_cust_cp_id_date_mode'] = pd.to_datetime(train_df['agg_cust_cp_id_date_mode'])\n",
        "train_df['agg_cp_id_date_mode'] = pd.to_datetime(train_df['agg_cp_id_date_mode'])\n",
        "\n",
        "test_df['agg_cust_id_date_mode'] = pd.to_datetime(test_df['agg_cust_id_date_mode'])\n",
        "test_df['agg_cust_cp_id_date_mode'] = pd.to_datetime(test_df['agg_cust_cp_id_date_mode'])\n",
        "test_df['agg_cp_id_date_mode'] = pd.to_datetime(test_df['agg_cp_id_date_mode'])"
      ],
      "execution_count": 0,
      "outputs": []
    },
    {
      "cell_type": "code",
      "metadata": {
        "id": "8DTNJ8kKcIOm",
        "colab_type": "code",
        "colab": {}
      },
      "source": [
        "#train_df['start_date_year'] = train_df['start_date'].dt.year\n",
        "train_df['start_date_month'] = train_df['start_date'].dt.month\n",
        "train_df['start_date_day'] = train_df['start_date'].dt.day\n",
        "\n",
        "#test_df['start_date_year'] = test_df['start_date'].dt.year\n",
        "test_df['start_date_month'] = test_df['start_date'].dt.month\n",
        "test_df['start_date_day'] = test_df['start_date'].dt.day"
      ],
      "execution_count": 0,
      "outputs": []
    },
    {
      "cell_type": "code",
      "metadata": {
        "id": "wKCD_Yf4cJ5O",
        "colab_type": "code",
        "colab": {}
      },
      "source": [
        "#train_df['end_date_year'] = train_df['end_date'].dt.year\n",
        "train_df['end_date_month'] = train_df['end_date'].dt.month\n",
        "train_df['end_date_day'] = train_df['end_date'].dt.day\n",
        "\n",
        "#test_df['end_date_year'] = test_df['end_date'].dt.year\n",
        "test_df['end_date_month'] = test_df['end_date'].dt.month\n",
        "test_df['end_date_day'] = test_df['end_date'].dt.day"
      ],
      "execution_count": 0,
      "outputs": []
    },
    {
      "cell_type": "code",
      "metadata": {
        "id": "hv5IbuIm_KTl",
        "colab_type": "code",
        "colab": {}
      },
      "source": [
        "train_df['agg_cust_id_date_mode_month'] = train_df['agg_cust_id_date_mode'].dt.month\n",
        "train_df['agg_cust_cp_id_date_mode_month'] = train_df['agg_cust_cp_id_date_mode'].dt.month\n",
        "train_df['agg_cp_id_date_mode_month'] = train_df['agg_cp_id_date_mode'].dt.month\n",
        "\n",
        "train_df['agg_cust_id_date_mode_day'] = train_df['agg_cust_id_date_mode'].dt.day\n",
        "train_df['agg_cust_cp_id_date_mode_day'] = train_df['agg_cust_cp_id_date_mode'].dt.day\n",
        "train_df['agg_cp_id_date_mode_day'] = train_df['agg_cp_id_date_mode'].dt.day\n",
        "\n",
        "test_df['agg_cust_id_date_mode_month'] = test_df['agg_cust_id_date_mode'].dt.month\n",
        "test_df['agg_cust_cp_id_date_mode_month'] = test_df['agg_cust_cp_id_date_mode'].dt.month\n",
        "test_df['agg_cp_id_date_mode_month'] = test_df['agg_cp_id_date_mode'].dt.month\n",
        "\n",
        "test_df['agg_cust_id_date_mode_day'] = test_df['agg_cust_id_date_mode'].dt.day\n",
        "test_df['agg_cust_cp_id_date_mode_day'] = test_df['agg_cust_cp_id_date_mode'].dt.day\n",
        "test_df['agg_cp_id_date_mode_day'] = test_df['agg_cp_id_date_mode'].dt.day"
      ],
      "execution_count": 0,
      "outputs": []
    },
    {
      "cell_type": "code",
      "metadata": {
        "id": "Zf20_KPW_J_S",
        "colab_type": "code",
        "colab": {}
      },
      "source": [
        "train_df['agg_cust_id_date_mode_diff'] = (train_df['agg_cust_id_date_mode']  - train_df['start_date'])/np.timedelta64(1,'D')\n",
        "train_df['agg_cust_cp_id_date_mode_diff'] = (train_df['agg_cust_cp_id_date_mode']  - train_df['start_date'])/np.timedelta64(1,'D')\n",
        "train_df['agg_cp_id_date_mode_diff'] = (train_df['agg_cp_id_date_mode']  - train_df['start_date'])/np.timedelta64(1,'D')\n",
        "\n",
        "test_df['agg_cust_id_date_mode_diff'] = (test_df['agg_cust_id_date_mode']  - test_df['start_date'])/np.timedelta64(1,'D')\n",
        "test_df['agg_cust_cp_id_date_mode_diff'] = (test_df['agg_cust_cp_id_date_mode']  - test_df['start_date'])/np.timedelta64(1,'D')\n",
        "test_df['agg_cp_id_date_mode_diff'] = (test_df['agg_cp_id_date_mode']  - test_df['start_date'])/np.timedelta64(1,'D')"
      ],
      "execution_count": 0,
      "outputs": []
    },
    {
      "cell_type": "code",
      "metadata": {
        "id": "IwGYPs2YcMBQ",
        "colab_type": "code",
        "colab": {}
      },
      "source": [
        "train_df['campaign_run'] = (train_df['end_date']  - train_df['start_date'])/np.timedelta64(1,'D')\n",
        "test_df['campaign_run'] = (test_df['end_date']  - test_df['start_date'])/ np.timedelta64(1,'D')"
      ],
      "execution_count": 0,
      "outputs": []
    },
    {
      "cell_type": "code",
      "metadata": {
        "id": "cyPF2UOJcSVO",
        "colab_type": "code",
        "colab": {}
      },
      "source": [
        "train_df = train_df.drop(['start_date','end_date','no_of_children','id','agg_cust_cp_id_date_mode'],axis=1)\n",
        "test_df = test_df.drop(['start_date','end_date','no_of_children','id','agg_cust_cp_id_date_mode'],axis=1)"
      ],
      "execution_count": 0,
      "outputs": []
    },
    {
      "cell_type": "code",
      "metadata": {
        "id": "1sFvZlttiJzG",
        "colab_type": "code",
        "colab": {}
      },
      "source": [
        "for f in train_df.columns:\n",
        "    if  train_df[f].dtype=='object': \n",
        "        lbl = preprocessing.LabelEncoder()\n",
        "        lbl.fit(list(train_df[f].values))\n",
        "        train_df[f] = lbl.transform(list(train_df[f].values))"
      ],
      "execution_count": 0,
      "outputs": []
    },
    {
      "cell_type": "code",
      "metadata": {
        "id": "XyLg9-5ajSmj",
        "colab_type": "code",
        "colab": {}
      },
      "source": [
        "for f in test_df.columns:\n",
        "    if  test_df[f].dtype=='object': \n",
        "        lbl = preprocessing.LabelEncoder()\n",
        "        lbl.fit(list(test_df[f].values))\n",
        "        test_df[f] = lbl.transform(list(test_df[f].values))"
      ],
      "execution_count": 0,
      "outputs": []
    },
    {
      "cell_type": "code",
      "metadata": {
        "id": "KwfwvWRAjUNy",
        "colab_type": "code",
        "colab": {}
      },
      "source": [
        "# Function to calculate missing values by column# Funct \n",
        "def missing_values_table(df):\n",
        "        # Total missing values\n",
        "        mis_val = df.isnull().sum()\n",
        "        \n",
        "        # Percentage of missing values\n",
        "        mis_val_percent = 100 * df.isnull().sum() / len(df)\n",
        "        \n",
        "        # Make a table with the results\n",
        "        mis_val_table = pd.concat([mis_val, mis_val_percent], axis=1)\n",
        "        \n",
        "        # Rename the columns\n",
        "        mis_val_table_ren_columns = mis_val_table.rename(\n",
        "        columns = {0 : 'Missing Values', 1 : '% of Total Values'})\n",
        "        \n",
        "        # Sort the table by percentage of missing descending\n",
        "        mis_val_table_ren_columns = mis_val_table_ren_columns[\n",
        "            mis_val_table_ren_columns.iloc[:,1] != 0].sort_values(\n",
        "        '% of Total Values', ascending=False).round(1)\n",
        "        \n",
        "        # Print some summary information\n",
        "        print (\"Your selected dataframe has \" + str(df.shape[1]) + \" columns.\\n\"      \n",
        "            \"There are \" + str(mis_val_table_ren_columns.shape[0]) +\n",
        "              \" columns that have missing values.\")\n",
        "        \n",
        "        # Return the dataframe with missing information\n",
        "        return mis_val_table_ren_columns"
      ],
      "execution_count": 0,
      "outputs": []
    },
    {
      "cell_type": "code",
      "metadata": {
        "id": "npM_gARWjWJ2",
        "colab_type": "code",
        "outputId": "9954a6e3-d9f4-4b28-b343-5213a4fb591b",
        "colab": {
          "base_uri": "https://localhost:8080/",
          "height": 377
        }
      },
      "source": [
        "# Missing values statistics of Customers\n",
        "missing_values = missing_values_table(train_df)\n",
        "missing_values.head(10)"
      ],
      "execution_count": 0,
      "outputs": [
        {
          "output_type": "stream",
          "text": [
            "Your selected dataframe has 259 columns.\n",
            "There are 76 columns that have missing values.\n"
          ],
          "name": "stdout"
        },
        {
          "output_type": "execute_result",
          "data": {
            "text/html": [
              "<div>\n",
              "<style scoped>\n",
              "    .dataframe tbody tr th:only-of-type {\n",
              "        vertical-align: middle;\n",
              "    }\n",
              "\n",
              "    .dataframe tbody tr th {\n",
              "        vertical-align: top;\n",
              "    }\n",
              "\n",
              "    .dataframe thead th {\n",
              "        text-align: right;\n",
              "    }\n",
              "</style>\n",
              "<table border=\"1\" class=\"dataframe\">\n",
              "  <thead>\n",
              "    <tr style=\"text-align: right;\">\n",
              "      <th></th>\n",
              "      <th>Missing Values</th>\n",
              "      <th>% of Total Values</th>\n",
              "    </tr>\n",
              "  </thead>\n",
              "  <tbody>\n",
              "    <tr>\n",
              "      <th>agg_cust_cp_id_selling_price_std</th>\n",
              "      <td>69506</td>\n",
              "      <td>88.7</td>\n",
              "    </tr>\n",
              "    <tr>\n",
              "      <th>agg_cust_cp_id_quantity_std</th>\n",
              "      <td>69506</td>\n",
              "      <td>88.7</td>\n",
              "    </tr>\n",
              "    <tr>\n",
              "      <th>agg_cust_cp_id_category_last</th>\n",
              "      <td>64489</td>\n",
              "      <td>82.3</td>\n",
              "    </tr>\n",
              "    <tr>\n",
              "      <th>agg_cust_cp_id_NF_coupon_month_max</th>\n",
              "      <td>64489</td>\n",
              "      <td>82.3</td>\n",
              "    </tr>\n",
              "    <tr>\n",
              "      <th>agg_cust_cp_id_NF_coupon_month_nunique</th>\n",
              "      <td>64489</td>\n",
              "      <td>82.3</td>\n",
              "    </tr>\n",
              "    <tr>\n",
              "      <th>agg_cust_cp_id_NF_coupon_month_count</th>\n",
              "      <td>64489</td>\n",
              "      <td>82.3</td>\n",
              "    </tr>\n",
              "    <tr>\n",
              "      <th>agg_cust_cp_id_C_date_day_last</th>\n",
              "      <td>64489</td>\n",
              "      <td>82.3</td>\n",
              "    </tr>\n",
              "    <tr>\n",
              "      <th>agg_cust_cp_id_C_date_day_max</th>\n",
              "      <td>64489</td>\n",
              "      <td>82.3</td>\n",
              "    </tr>\n",
              "    <tr>\n",
              "      <th>agg_cust_cp_id_C_date_day_min</th>\n",
              "      <td>64489</td>\n",
              "      <td>82.3</td>\n",
              "    </tr>\n",
              "    <tr>\n",
              "      <th>agg_cust_cp_id_C_date_day_nunique</th>\n",
              "      <td>64489</td>\n",
              "      <td>82.3</td>\n",
              "    </tr>\n",
              "  </tbody>\n",
              "</table>\n",
              "</div>"
            ],
            "text/plain": [
              "                                        Missing Values  % of Total Values\n",
              "agg_cust_cp_id_selling_price_std                 69506               88.7\n",
              "agg_cust_cp_id_quantity_std                      69506               88.7\n",
              "agg_cust_cp_id_category_last                     64489               82.3\n",
              "agg_cust_cp_id_NF_coupon_month_max               64489               82.3\n",
              "agg_cust_cp_id_NF_coupon_month_nunique           64489               82.3\n",
              "agg_cust_cp_id_NF_coupon_month_count             64489               82.3\n",
              "agg_cust_cp_id_C_date_day_last                   64489               82.3\n",
              "agg_cust_cp_id_C_date_day_max                    64489               82.3\n",
              "agg_cust_cp_id_C_date_day_min                    64489               82.3\n",
              "agg_cust_cp_id_C_date_day_nunique                64489               82.3"
            ]
          },
          "metadata": {
            "tags": []
          },
          "execution_count": 49
        }
      ]
    },
    {
      "cell_type": "code",
      "metadata": {
        "id": "mBG8Cxv8jXiF",
        "colab_type": "code",
        "outputId": "1ff3d86e-c0ff-46f5-cc53-4e2e93bad8d3",
        "colab": {
          "base_uri": "https://localhost:8080/",
          "height": 377
        }
      },
      "source": [
        "# Missing values statistics of Customers\n",
        "missing_values = missing_values_table(test_df)\n",
        "missing_values.head(10)"
      ],
      "execution_count": 0,
      "outputs": [
        {
          "output_type": "stream",
          "text": [
            "Your selected dataframe has 258 columns.\n",
            "There are 76 columns that have missing values.\n"
          ],
          "name": "stdout"
        },
        {
          "output_type": "execute_result",
          "data": {
            "text/html": [
              "<div>\n",
              "<style scoped>\n",
              "    .dataframe tbody tr th:only-of-type {\n",
              "        vertical-align: middle;\n",
              "    }\n",
              "\n",
              "    .dataframe tbody tr th {\n",
              "        vertical-align: top;\n",
              "    }\n",
              "\n",
              "    .dataframe thead th {\n",
              "        text-align: right;\n",
              "    }\n",
              "</style>\n",
              "<table border=\"1\" class=\"dataframe\">\n",
              "  <thead>\n",
              "    <tr style=\"text-align: right;\">\n",
              "      <th></th>\n",
              "      <th>Missing Values</th>\n",
              "      <th>% of Total Values</th>\n",
              "    </tr>\n",
              "  </thead>\n",
              "  <tbody>\n",
              "    <tr>\n",
              "      <th>agg_cust_cp_id_selling_price_std</th>\n",
              "      <td>41686</td>\n",
              "      <td>83.0</td>\n",
              "    </tr>\n",
              "    <tr>\n",
              "      <th>agg_cust_cp_id_quantity_std</th>\n",
              "      <td>41686</td>\n",
              "      <td>83.0</td>\n",
              "    </tr>\n",
              "    <tr>\n",
              "      <th>agg_cust_cp_id_category_last</th>\n",
              "      <td>37305</td>\n",
              "      <td>74.3</td>\n",
              "    </tr>\n",
              "    <tr>\n",
              "      <th>agg_cust_cp_id_NF_coupon_month_max</th>\n",
              "      <td>37305</td>\n",
              "      <td>74.3</td>\n",
              "    </tr>\n",
              "    <tr>\n",
              "      <th>agg_cust_cp_id_NF_coupon_month_nunique</th>\n",
              "      <td>37305</td>\n",
              "      <td>74.3</td>\n",
              "    </tr>\n",
              "    <tr>\n",
              "      <th>agg_cust_cp_id_NF_coupon_month_count</th>\n",
              "      <td>37305</td>\n",
              "      <td>74.3</td>\n",
              "    </tr>\n",
              "    <tr>\n",
              "      <th>agg_cust_cp_id_C_date_day_last</th>\n",
              "      <td>37305</td>\n",
              "      <td>74.3</td>\n",
              "    </tr>\n",
              "    <tr>\n",
              "      <th>agg_cust_cp_id_C_date_day_max</th>\n",
              "      <td>37305</td>\n",
              "      <td>74.3</td>\n",
              "    </tr>\n",
              "    <tr>\n",
              "      <th>agg_cust_cp_id_C_date_day_min</th>\n",
              "      <td>37305</td>\n",
              "      <td>74.3</td>\n",
              "    </tr>\n",
              "    <tr>\n",
              "      <th>agg_cust_cp_id_C_date_day_nunique</th>\n",
              "      <td>37305</td>\n",
              "      <td>74.3</td>\n",
              "    </tr>\n",
              "  </tbody>\n",
              "</table>\n",
              "</div>"
            ],
            "text/plain": [
              "                                        Missing Values  % of Total Values\n",
              "agg_cust_cp_id_selling_price_std                 41686               83.0\n",
              "agg_cust_cp_id_quantity_std                      41686               83.0\n",
              "agg_cust_cp_id_category_last                     37305               74.3\n",
              "agg_cust_cp_id_NF_coupon_month_max               37305               74.3\n",
              "agg_cust_cp_id_NF_coupon_month_nunique           37305               74.3\n",
              "agg_cust_cp_id_NF_coupon_month_count             37305               74.3\n",
              "agg_cust_cp_id_C_date_day_last                   37305               74.3\n",
              "agg_cust_cp_id_C_date_day_max                    37305               74.3\n",
              "agg_cust_cp_id_C_date_day_min                    37305               74.3\n",
              "agg_cust_cp_id_C_date_day_nunique                37305               74.3"
            ]
          },
          "metadata": {
            "tags": []
          },
          "execution_count": 50
        }
      ]
    },
    {
      "cell_type": "markdown",
      "metadata": {
        "id": "3Cw-IALLjh_Y",
        "colab_type": "text"
      },
      "source": [
        "## Lets Make aggrigate features for campain ID"
      ]
    },
    {
      "cell_type": "code",
      "metadata": {
        "id": "8yNobufkje8u",
        "colab_type": "code",
        "colab": {}
      },
      "source": [
        "target = train_df['redemption_status']\n",
        "train_df=train_df.drop('redemption_status',axis=1)"
      ],
      "execution_count": 0,
      "outputs": []
    },
    {
      "cell_type": "code",
      "metadata": {
        "id": "Gfk8L7mvGF6h",
        "colab_type": "code",
        "colab": {}
      },
      "source": [
        "frames = [train_df,test_df]"
      ],
      "execution_count": 0,
      "outputs": []
    },
    {
      "cell_type": "code",
      "metadata": {
        "id": "G8ynFA7tGF3w",
        "colab_type": "code",
        "colab": {}
      },
      "source": [
        "all_df = pd.concat(frames,join='inner',ignore_index=True)"
      ],
      "execution_count": 0,
      "outputs": []
    },
    {
      "cell_type": "code",
      "metadata": {
        "id": "9_m0DWnlGF09",
        "colab_type": "code",
        "outputId": "e5010e37-2a84-4056-8c33-ffa3b7b55090",
        "colab": {
          "base_uri": "https://localhost:8080/",
          "height": 34
        }
      },
      "source": [
        "all_df.shape"
      ],
      "execution_count": 0,
      "outputs": [
        {
          "output_type": "execute_result",
          "data": {
            "text/plain": [
              "(128595, 258)"
            ]
          },
          "metadata": {
            "tags": []
          },
          "execution_count": 72
        }
      ]
    },
    {
      "cell_type": "code",
      "metadata": {
        "id": "t_oPqAvoGFxU",
        "colab_type": "code",
        "colab": {}
      },
      "source": [
        "['mean','sum','min','max','median','quantile','mad','std','count','nunique']\n",
        "ag_cat=['sum', 'mean','count','nunique','min','max']\n",
        "ag_num=['mean','sum','min','max','median','quantile','mad','std']\n",
        "agg_func4 = {\n",
        "    'coupon_id':ag_cat,\n",
        "'customer_id':ag_cat,\n",
        "'campaign_type':ag_cat,\n",
        "'start_date_month':ag_cat,\n",
        "'start_date_day':ag_cat,\n",
        "'campaign_run':ag_num,\n",
        "'age_range':ag_cat,\n",
        "'marital_status':ag_cat,\n",
        "'rented':ag_cat,\n",
        "'family_size':ag_cat,\n",
        "#'no_of_children':ag_cat,\n",
        "'income_bracket':ag_cat\n",
        "    }"
      ],
      "execution_count": 0,
      "outputs": []
    },
    {
      "cell_type": "code",
      "metadata": {
        "id": "hVvqZHzTIH8p",
        "colab_type": "code",
        "colab": {}
      },
      "source": [
        "campaign_id_groupby = all_df.groupby(by=['campaign_id']).agg(agg_func4)"
      ],
      "execution_count": 0,
      "outputs": []
    },
    {
      "cell_type": "code",
      "metadata": {
        "id": "wpsYRIjkIH54",
        "colab_type": "code",
        "outputId": "a7af4a5a-4a7c-42ca-be00-f6514518ed70",
        "colab": {
          "base_uri": "https://localhost:8080/",
          "height": 215
        }
      },
      "source": [
        "campaign_id_groupby.columns=['agg_campaign_id' + '_'.join(col).strip() for col in campaign_id_groupby.columns.values]\n",
        "campaign_id_groupby.reset_index(inplace=True)\n",
        "campaign_id_groupby.head()"
      ],
      "execution_count": 0,
      "outputs": [
        {
          "output_type": "execute_result",
          "data": {
            "text/html": [
              "<div>\n",
              "<style scoped>\n",
              "    .dataframe tbody tr th:only-of-type {\n",
              "        vertical-align: middle;\n",
              "    }\n",
              "\n",
              "    .dataframe tbody tr th {\n",
              "        vertical-align: top;\n",
              "    }\n",
              "\n",
              "    .dataframe thead th {\n",
              "        text-align: right;\n",
              "    }\n",
              "</style>\n",
              "<table border=\"1\" class=\"dataframe\">\n",
              "  <thead>\n",
              "    <tr style=\"text-align: right;\">\n",
              "      <th></th>\n",
              "      <th>campaign_id</th>\n",
              "      <th>agg_campaign_idcoupon_id_sum</th>\n",
              "      <th>agg_campaign_idcoupon_id_mean</th>\n",
              "      <th>agg_campaign_idcoupon_id_count</th>\n",
              "      <th>agg_campaign_idcoupon_id_nunique</th>\n",
              "      <th>agg_campaign_idcoupon_id_min</th>\n",
              "      <th>agg_campaign_idcoupon_id_max</th>\n",
              "      <th>agg_campaign_idcustomer_id_sum</th>\n",
              "      <th>agg_campaign_idcustomer_id_mean</th>\n",
              "      <th>agg_campaign_idcustomer_id_count</th>\n",
              "      <th>agg_campaign_idcustomer_id_nunique</th>\n",
              "      <th>agg_campaign_idcustomer_id_min</th>\n",
              "      <th>agg_campaign_idcustomer_id_max</th>\n",
              "      <th>agg_campaign_idcampaign_type_sum</th>\n",
              "      <th>agg_campaign_idcampaign_type_mean</th>\n",
              "      <th>agg_campaign_idcampaign_type_count</th>\n",
              "      <th>agg_campaign_idcampaign_type_nunique</th>\n",
              "      <th>agg_campaign_idcampaign_type_min</th>\n",
              "      <th>agg_campaign_idcampaign_type_max</th>\n",
              "      <th>agg_campaign_idstart_date_month_sum</th>\n",
              "      <th>agg_campaign_idstart_date_month_mean</th>\n",
              "      <th>agg_campaign_idstart_date_month_count</th>\n",
              "      <th>agg_campaign_idstart_date_month_nunique</th>\n",
              "      <th>agg_campaign_idstart_date_month_min</th>\n",
              "      <th>agg_campaign_idstart_date_month_max</th>\n",
              "      <th>agg_campaign_idstart_date_day_sum</th>\n",
              "      <th>agg_campaign_idstart_date_day_mean</th>\n",
              "      <th>agg_campaign_idstart_date_day_count</th>\n",
              "      <th>agg_campaign_idstart_date_day_nunique</th>\n",
              "      <th>agg_campaign_idstart_date_day_min</th>\n",
              "      <th>agg_campaign_idstart_date_day_max</th>\n",
              "      <th>agg_campaign_idcampaign_run_mean</th>\n",
              "      <th>agg_campaign_idcampaign_run_sum</th>\n",
              "      <th>agg_campaign_idcampaign_run_min</th>\n",
              "      <th>agg_campaign_idcampaign_run_max</th>\n",
              "      <th>agg_campaign_idcampaign_run_median</th>\n",
              "      <th>agg_campaign_idcampaign_run_quantile</th>\n",
              "      <th>agg_campaign_idcampaign_run_mad</th>\n",
              "      <th>agg_campaign_idcampaign_run_std</th>\n",
              "      <th>agg_campaign_idage_range_sum</th>\n",
              "      <th>agg_campaign_idage_range_mean</th>\n",
              "      <th>agg_campaign_idage_range_count</th>\n",
              "      <th>agg_campaign_idage_range_nunique</th>\n",
              "      <th>agg_campaign_idage_range_min</th>\n",
              "      <th>agg_campaign_idage_range_max</th>\n",
              "      <th>agg_campaign_idmarital_status_sum</th>\n",
              "      <th>agg_campaign_idmarital_status_mean</th>\n",
              "      <th>agg_campaign_idmarital_status_count</th>\n",
              "      <th>agg_campaign_idmarital_status_nunique</th>\n",
              "      <th>agg_campaign_idmarital_status_min</th>\n",
              "      <th>agg_campaign_idmarital_status_max</th>\n",
              "      <th>agg_campaign_idrented_sum</th>\n",
              "      <th>agg_campaign_idrented_mean</th>\n",
              "      <th>agg_campaign_idrented_count</th>\n",
              "      <th>agg_campaign_idrented_nunique</th>\n",
              "      <th>agg_campaign_idrented_min</th>\n",
              "      <th>agg_campaign_idrented_max</th>\n",
              "      <th>agg_campaign_idfamily_size_sum</th>\n",
              "      <th>agg_campaign_idfamily_size_mean</th>\n",
              "      <th>agg_campaign_idfamily_size_count</th>\n",
              "      <th>agg_campaign_idfamily_size_nunique</th>\n",
              "      <th>agg_campaign_idfamily_size_min</th>\n",
              "      <th>agg_campaign_idfamily_size_max</th>\n",
              "      <th>agg_campaign_idincome_bracket_sum</th>\n",
              "      <th>agg_campaign_idincome_bracket_mean</th>\n",
              "      <th>agg_campaign_idincome_bracket_count</th>\n",
              "      <th>agg_campaign_idincome_bracket_nunique</th>\n",
              "      <th>agg_campaign_idincome_bracket_min</th>\n",
              "      <th>agg_campaign_idincome_bracket_max</th>\n",
              "    </tr>\n",
              "  </thead>\n",
              "  <tbody>\n",
              "    <tr>\n",
              "      <th>0</th>\n",
              "      <td>1</td>\n",
              "      <td>97448</td>\n",
              "      <td>681.454545</td>\n",
              "      <td>143</td>\n",
              "      <td>11</td>\n",
              "      <td>312</td>\n",
              "      <td>1112</td>\n",
              "      <td>69432</td>\n",
              "      <td>485.538462</td>\n",
              "      <td>143</td>\n",
              "      <td>13</td>\n",
              "      <td>46</td>\n",
              "      <td>1387</td>\n",
              "      <td>143</td>\n",
              "      <td>1</td>\n",
              "      <td>143</td>\n",
              "      <td>1</td>\n",
              "      <td>1</td>\n",
              "      <td>1</td>\n",
              "      <td>1716</td>\n",
              "      <td>12</td>\n",
              "      <td>143</td>\n",
              "      <td>1</td>\n",
              "      <td>12</td>\n",
              "      <td>12</td>\n",
              "      <td>1716</td>\n",
              "      <td>12</td>\n",
              "      <td>143</td>\n",
              "      <td>1</td>\n",
              "      <td>12</td>\n",
              "      <td>12</td>\n",
              "      <td>37.0</td>\n",
              "      <td>5291.0</td>\n",
              "      <td>37.0</td>\n",
              "      <td>37.0</td>\n",
              "      <td>37.0</td>\n",
              "      <td>37.0</td>\n",
              "      <td>0.0</td>\n",
              "      <td>0.0</td>\n",
              "      <td>561</td>\n",
              "      <td>3.923077</td>\n",
              "      <td>143</td>\n",
              "      <td>5</td>\n",
              "      <td>0</td>\n",
              "      <td>6</td>\n",
              "      <td>253</td>\n",
              "      <td>1.769231</td>\n",
              "      <td>143</td>\n",
              "      <td>3</td>\n",
              "      <td>0</td>\n",
              "      <td>2</td>\n",
              "      <td>0.0</td>\n",
              "      <td>0.000000</td>\n",
              "      <td>66</td>\n",
              "      <td>1</td>\n",
              "      <td>0.0</td>\n",
              "      <td>0.0</td>\n",
              "      <td>440</td>\n",
              "      <td>3.076923</td>\n",
              "      <td>143</td>\n",
              "      <td>4</td>\n",
              "      <td>0</td>\n",
              "      <td>5</td>\n",
              "      <td>165.0</td>\n",
              "      <td>2.500000</td>\n",
              "      <td>66</td>\n",
              "      <td>4</td>\n",
              "      <td>1.0</td>\n",
              "      <td>6.0</td>\n",
              "    </tr>\n",
              "    <tr>\n",
              "      <th>1</th>\n",
              "      <td>2</td>\n",
              "      <td>564528</td>\n",
              "      <td>735.062500</td>\n",
              "      <td>768</td>\n",
              "      <td>16</td>\n",
              "      <td>347</td>\n",
              "      <td>1107</td>\n",
              "      <td>580160</td>\n",
              "      <td>755.416667</td>\n",
              "      <td>768</td>\n",
              "      <td>48</td>\n",
              "      <td>10</td>\n",
              "      <td>1555</td>\n",
              "      <td>768</td>\n",
              "      <td>1</td>\n",
              "      <td>768</td>\n",
              "      <td>1</td>\n",
              "      <td>1</td>\n",
              "      <td>1</td>\n",
              "      <td>9216</td>\n",
              "      <td>12</td>\n",
              "      <td>768</td>\n",
              "      <td>1</td>\n",
              "      <td>12</td>\n",
              "      <td>12</td>\n",
              "      <td>13056</td>\n",
              "      <td>17</td>\n",
              "      <td>768</td>\n",
              "      <td>1</td>\n",
              "      <td>17</td>\n",
              "      <td>17</td>\n",
              "      <td>32.0</td>\n",
              "      <td>24576.0</td>\n",
              "      <td>32.0</td>\n",
              "      <td>32.0</td>\n",
              "      <td>32.0</td>\n",
              "      <td>32.0</td>\n",
              "      <td>0.0</td>\n",
              "      <td>0.0</td>\n",
              "      <td>3600</td>\n",
              "      <td>4.687500</td>\n",
              "      <td>768</td>\n",
              "      <td>6</td>\n",
              "      <td>0</td>\n",
              "      <td>6</td>\n",
              "      <td>1232</td>\n",
              "      <td>1.604167</td>\n",
              "      <td>768</td>\n",
              "      <td>3</td>\n",
              "      <td>0</td>\n",
              "      <td>2</td>\n",
              "      <td>112.0</td>\n",
              "      <td>0.368421</td>\n",
              "      <td>304</td>\n",
              "      <td>2</td>\n",
              "      <td>0.0</td>\n",
              "      <td>1.0</td>\n",
              "      <td>2608</td>\n",
              "      <td>3.395833</td>\n",
              "      <td>768</td>\n",
              "      <td>5</td>\n",
              "      <td>0</td>\n",
              "      <td>5</td>\n",
              "      <td>1328.0</td>\n",
              "      <td>4.368421</td>\n",
              "      <td>304</td>\n",
              "      <td>8</td>\n",
              "      <td>1.0</td>\n",
              "      <td>12.0</td>\n",
              "    </tr>\n",
              "    <tr>\n",
              "      <th>2</th>\n",
              "      <td>3</td>\n",
              "      <td>255624</td>\n",
              "      <td>626.529412</td>\n",
              "      <td>408</td>\n",
              "      <td>34</td>\n",
              "      <td>263</td>\n",
              "      <td>864</td>\n",
              "      <td>342312</td>\n",
              "      <td>839.000000</td>\n",
              "      <td>408</td>\n",
              "      <td>12</td>\n",
              "      <td>67</td>\n",
              "      <td>1534</td>\n",
              "      <td>408</td>\n",
              "      <td>1</td>\n",
              "      <td>408</td>\n",
              "      <td>1</td>\n",
              "      <td>1</td>\n",
              "      <td>1</td>\n",
              "      <td>4896</td>\n",
              "      <td>12</td>\n",
              "      <td>408</td>\n",
              "      <td>1</td>\n",
              "      <td>12</td>\n",
              "      <td>12</td>\n",
              "      <td>8976</td>\n",
              "      <td>22</td>\n",
              "      <td>408</td>\n",
              "      <td>1</td>\n",
              "      <td>22</td>\n",
              "      <td>22</td>\n",
              "      <td>56.0</td>\n",
              "      <td>22848.0</td>\n",
              "      <td>56.0</td>\n",
              "      <td>56.0</td>\n",
              "      <td>56.0</td>\n",
              "      <td>56.0</td>\n",
              "      <td>0.0</td>\n",
              "      <td>0.0</td>\n",
              "      <td>1530</td>\n",
              "      <td>3.750000</td>\n",
              "      <td>408</td>\n",
              "      <td>5</td>\n",
              "      <td>2</td>\n",
              "      <td>6</td>\n",
              "      <td>578</td>\n",
              "      <td>1.416667</td>\n",
              "      <td>408</td>\n",
              "      <td>3</td>\n",
              "      <td>0</td>\n",
              "      <td>2</td>\n",
              "      <td>34.0</td>\n",
              "      <td>0.111111</td>\n",
              "      <td>306</td>\n",
              "      <td>2</td>\n",
              "      <td>0.0</td>\n",
              "      <td>1.0</td>\n",
              "      <td>918</td>\n",
              "      <td>2.250000</td>\n",
              "      <td>408</td>\n",
              "      <td>5</td>\n",
              "      <td>0</td>\n",
              "      <td>5</td>\n",
              "      <td>1020.0</td>\n",
              "      <td>3.333333</td>\n",
              "      <td>306</td>\n",
              "      <td>5</td>\n",
              "      <td>1.0</td>\n",
              "      <td>5.0</td>\n",
              "    </tr>\n",
              "    <tr>\n",
              "      <th>3</th>\n",
              "      <td>4</td>\n",
              "      <td>572103</td>\n",
              "      <td>588.583333</td>\n",
              "      <td>972</td>\n",
              "      <td>12</td>\n",
              "      <td>16</td>\n",
              "      <td>935</td>\n",
              "      <td>725124</td>\n",
              "      <td>746.012346</td>\n",
              "      <td>972</td>\n",
              "      <td>81</td>\n",
              "      <td>7</td>\n",
              "      <td>1574</td>\n",
              "      <td>972</td>\n",
              "      <td>1</td>\n",
              "      <td>972</td>\n",
              "      <td>1</td>\n",
              "      <td>1</td>\n",
              "      <td>1</td>\n",
              "      <td>6804</td>\n",
              "      <td>7</td>\n",
              "      <td>972</td>\n",
              "      <td>1</td>\n",
              "      <td>7</td>\n",
              "      <td>7</td>\n",
              "      <td>972</td>\n",
              "      <td>1</td>\n",
              "      <td>972</td>\n",
              "      <td>1</td>\n",
              "      <td>1</td>\n",
              "      <td>1</td>\n",
              "      <td>32.0</td>\n",
              "      <td>31104.0</td>\n",
              "      <td>32.0</td>\n",
              "      <td>32.0</td>\n",
              "      <td>32.0</td>\n",
              "      <td>32.0</td>\n",
              "      <td>0.0</td>\n",
              "      <td>0.0</td>\n",
              "      <td>3480</td>\n",
              "      <td>3.580247</td>\n",
              "      <td>972</td>\n",
              "      <td>7</td>\n",
              "      <td>0</td>\n",
              "      <td>6</td>\n",
              "      <td>1152</td>\n",
              "      <td>1.185185</td>\n",
              "      <td>972</td>\n",
              "      <td>3</td>\n",
              "      <td>0</td>\n",
              "      <td>2</td>\n",
              "      <td>12.0</td>\n",
              "      <td>0.018182</td>\n",
              "      <td>660</td>\n",
              "      <td>2</td>\n",
              "      <td>0.0</td>\n",
              "      <td>1.0</td>\n",
              "      <td>2400</td>\n",
              "      <td>2.469136</td>\n",
              "      <td>972</td>\n",
              "      <td>6</td>\n",
              "      <td>0</td>\n",
              "      <td>5</td>\n",
              "      <td>3552.0</td>\n",
              "      <td>5.381818</td>\n",
              "      <td>660</td>\n",
              "      <td>10</td>\n",
              "      <td>1.0</td>\n",
              "      <td>12.0</td>\n",
              "    </tr>\n",
              "    <tr>\n",
              "      <th>4</th>\n",
              "      <td>5</td>\n",
              "      <td>1397413</td>\n",
              "      <td>764.867542</td>\n",
              "      <td>1827</td>\n",
              "      <td>11</td>\n",
              "      <td>279</td>\n",
              "      <td>1105</td>\n",
              "      <td>1610410</td>\n",
              "      <td>881.450465</td>\n",
              "      <td>1827</td>\n",
              "      <td>166</td>\n",
              "      <td>7</td>\n",
              "      <td>1574</td>\n",
              "      <td>1827</td>\n",
              "      <td>1</td>\n",
              "      <td>1827</td>\n",
              "      <td>1</td>\n",
              "      <td>1</td>\n",
              "      <td>1</td>\n",
              "      <td>21924</td>\n",
              "      <td>12</td>\n",
              "      <td>1827</td>\n",
              "      <td>1</td>\n",
              "      <td>12</td>\n",
              "      <td>12</td>\n",
              "      <td>1827</td>\n",
              "      <td>1</td>\n",
              "      <td>1827</td>\n",
              "      <td>1</td>\n",
              "      <td>1</td>\n",
              "      <td>1</td>\n",
              "      <td>-289.0</td>\n",
              "      <td>-528003.0</td>\n",
              "      <td>-289.0</td>\n",
              "      <td>-289.0</td>\n",
              "      <td>-289.0</td>\n",
              "      <td>-289.0</td>\n",
              "      <td>0.0</td>\n",
              "      <td>0.0</td>\n",
              "      <td>6657</td>\n",
              "      <td>3.643678</td>\n",
              "      <td>1827</td>\n",
              "      <td>7</td>\n",
              "      <td>0</td>\n",
              "      <td>6</td>\n",
              "      <td>2630</td>\n",
              "      <td>1.439518</td>\n",
              "      <td>1827</td>\n",
              "      <td>3</td>\n",
              "      <td>0</td>\n",
              "      <td>2</td>\n",
              "      <td>99.0</td>\n",
              "      <td>0.089029</td>\n",
              "      <td>1112</td>\n",
              "      <td>2</td>\n",
              "      <td>0.0</td>\n",
              "      <td>1.0</td>\n",
              "      <td>5292</td>\n",
              "      <td>2.896552</td>\n",
              "      <td>1827</td>\n",
              "      <td>6</td>\n",
              "      <td>0</td>\n",
              "      <td>5</td>\n",
              "      <td>5427.0</td>\n",
              "      <td>4.880396</td>\n",
              "      <td>1112</td>\n",
              "      <td>10</td>\n",
              "      <td>1.0</td>\n",
              "      <td>10.0</td>\n",
              "    </tr>\n",
              "  </tbody>\n",
              "</table>\n",
              "</div>"
            ],
            "text/plain": [
              "   campaign_id  ...  agg_campaign_idincome_bracket_max\n",
              "0            1  ...                                6.0\n",
              "1            2  ...                               12.0\n",
              "2            3  ...                                5.0\n",
              "3            4  ...                               12.0\n",
              "4            5  ...                               10.0\n",
              "\n",
              "[5 rows x 69 columns]"
            ]
          },
          "metadata": {
            "tags": []
          },
          "execution_count": 79
        }
      ]
    },
    {
      "cell_type": "code",
      "metadata": {
        "id": "eyH1_gSnIH26",
        "colab_type": "code",
        "colab": {}
      },
      "source": [
        "train_df = pd.merge(train_df, campaign_id_groupby, on='campaign_id',how='left')\n",
        "test_df = pd.merge(test_df, campaign_id_groupby, on='campaign_id',how='left')"
      ],
      "execution_count": 0,
      "outputs": []
    },
    {
      "cell_type": "code",
      "metadata": {
        "id": "M5U5mS-6I380",
        "colab_type": "code",
        "colab": {}
      },
      "source": [
        "train_df['redemption_status'] = target"
      ],
      "execution_count": 0,
      "outputs": []
    },
    {
      "cell_type": "markdown",
      "metadata": {
        "id": "FKxj1Mj1LEtm",
        "colab_type": "text"
      },
      "source": [
        "## Apply LGB\n",
        "\n",
        "Note : LGB and CatBooster didnt provided good result on LB but those score had 92.76 AUC on Private LB"
      ]
    },
    {
      "cell_type": "code",
      "metadata": {
        "id": "GIZFN8NXLF7a",
        "colab_type": "code",
        "outputId": "cfab429b-deb0-4cda-979f-281e60f228fe",
        "colab": {
          "base_uri": "https://localhost:8080/",
          "height": 50
        }
      },
      "source": [
        "# Align train and test\n",
        "train_labels = train_df['redemption_status']\n",
        "\n",
        "# Align the training and testing data, keep only columns present in both dataframes\n",
        "train_df, test_df = train_df.align(test_df, join = 'inner', axis = 1)\n",
        "\n",
        "# Add the target back in\n",
        "train_df['redemption_status'] = train_labels\n",
        "\n",
        "print('Training Features shape: ', train_df.shape)\n",
        "print('Testing Features shape: ', test_df.shape)"
      ],
      "execution_count": 0,
      "outputs": [
        {
          "output_type": "stream",
          "text": [
            "Training Features shape:  (78369, 327)\n",
            "Testing Features shape:  (50226, 326)\n"
          ],
          "name": "stdout"
        }
      ]
    },
    {
      "cell_type": "code",
      "metadata": {
        "id": "liUddXTALXZD",
        "colab_type": "code",
        "colab": {}
      },
      "source": [
        "y = train_df['redemption_status']\n",
        "X = train_df.drop('redemption_status',axis=1)"
      ],
      "execution_count": 0,
      "outputs": []
    },
    {
      "cell_type": "code",
      "metadata": {
        "id": "chwMJwJXLaSw",
        "colab_type": "code",
        "colab": {}
      },
      "source": [
        "X_train, X_test, y_train, y_test = train_test_split(X, y, test_size=0.2,stratify=y.values,random_state=10)"
      ],
      "execution_count": 0,
      "outputs": []
    },
    {
      "cell_type": "markdown",
      "metadata": {
        "id": "SLabfs7rLdHH",
        "colab_type": "text"
      },
      "source": [
        "## LGB"
      ]
    },
    {
      "cell_type": "code",
      "metadata": {
        "id": "ZcSRSl6CPTcm",
        "colab_type": "code",
        "colab": {}
      },
      "source": [
        "from sklearn.metrics import f1_score\n",
        "\n",
        "def lgb_f1_score(y_hat, data):\n",
        "    y_true = data.get_label()\n",
        "    y_hat = np.round(y_hat) # scikits f1 doesn't like probabilities\n",
        "    return 'f1', f1_score(y_true, y_hat), True"
      ],
      "execution_count": 0,
      "outputs": []
    },
    {
      "cell_type": "code",
      "metadata": {
        "id": "DpE_o9KeLcAR",
        "colab_type": "code",
        "colab": {}
      },
      "source": [
        "def run_lgb(X_train, X_test, y_train, y_test, test_df):\n",
        "    params = {\n",
        "        \"objective\" : \"binary\",\n",
        "       \"n_estimators\":10000,\n",
        "        \"learning_rate\" :0.007,\n",
        "        \"num_leaves\" :90,\n",
        "        \"min_data_in_leaf\":3,\n",
        "        'max_bin':200,\n",
        "        'max_depth':3,\n",
        "        \"metric\" : \"auc\",\n",
        "        \"reg_alpha\" :3,\n",
        "        \"reg_lambda\":5,\n",
        "        'feature_fraction':0.8999999999999121,\n",
        "        'min_gain_to_split':0.2,\n",
        "        'bagging_fraction':0.8999999999997461,\n",
        "        'bagging_freq':50,\n",
        "        #'scale_pos_weight':15.0\n",
        "        \n",
        "    }\n",
        "    \n",
        "    lgtrain = lgb.Dataset(X_train, label=y_train)\n",
        "    lgval = lgb.Dataset(X_test, label=y_test)\n",
        "    evals_result = {}\n",
        "    model = lgb.train(params, lgtrain, 10000, \n",
        "                      valid_sets=[lgtrain, lgval], \n",
        "                      early_stopping_rounds=50, \n",
        "                      verbose_eval=50, \n",
        "                      evals_result=evals_result)\n",
        "    \n",
        "    pred_test_y = model.predict(test_df, num_iteration=model.best_iteration)\n",
        "    return pred_test_y, model, evals_result"
      ],
      "execution_count": 0,
      "outputs": []
    },
    {
      "cell_type": "code",
      "metadata": {
        "id": "34jgrNHjLgRA",
        "colab_type": "code",
        "outputId": "60d46e8b-e5f1-4c3d-f19c-726d093401e0",
        "colab": {
          "base_uri": "https://localhost:8080/",
          "height": 756
        }
      },
      "source": [
        "pred_test, model, evals_result = run_lgb(X_train, X_test, y_train, y_test, test_df)\n",
        "print(\"LightGBM Training Completed...\")"
      ],
      "execution_count": 0,
      "outputs": [
        {
          "output_type": "stream",
          "text": [
            "Training until validation scores don't improve for 50 rounds.\n",
            "[50]\ttraining's auc: 0.994399\tvalid_1's auc: 0.994245\n",
            "[100]\ttraining's auc: 0.995106\tvalid_1's auc: 0.994934\n",
            "[150]\ttraining's auc: 0.996243\tvalid_1's auc: 0.995222\n",
            "[200]\ttraining's auc: 0.996484\tvalid_1's auc: 0.99547\n",
            "[250]\ttraining's auc: 0.996724\tvalid_1's auc: 0.995766\n",
            "[300]\ttraining's auc: 0.997028\tvalid_1's auc: 0.996007\n",
            "[350]\ttraining's auc: 0.997262\tvalid_1's auc: 0.996277\n",
            "[400]\ttraining's auc: 0.997457\tvalid_1's auc: 0.996518\n",
            "[450]\ttraining's auc: 0.997624\tvalid_1's auc: 0.996718\n",
            "[500]\ttraining's auc: 0.997725\tvalid_1's auc: 0.996769\n",
            "[550]\ttraining's auc: 0.99784\tvalid_1's auc: 0.996906\n",
            "[600]\ttraining's auc: 0.997937\tvalid_1's auc: 0.997026\n",
            "[650]\ttraining's auc: 0.998077\tvalid_1's auc: 0.997142\n",
            "[700]\ttraining's auc: 0.998199\tvalid_1's auc: 0.997266\n",
            "[750]\ttraining's auc: 0.998309\tvalid_1's auc: 0.997399\n",
            "[800]\ttraining's auc: 0.998391\tvalid_1's auc: 0.997498\n",
            "[850]\ttraining's auc: 0.998468\tvalid_1's auc: 0.997524\n",
            "[900]\ttraining's auc: 0.998548\tvalid_1's auc: 0.997567\n",
            "[950]\ttraining's auc: 0.998611\tvalid_1's auc: 0.997621\n",
            "[1000]\ttraining's auc: 0.998657\tvalid_1's auc: 0.997676\n",
            "[1050]\ttraining's auc: 0.998708\tvalid_1's auc: 0.997708\n",
            "[1100]\ttraining's auc: 0.998774\tvalid_1's auc: 0.997777\n",
            "[1150]\ttraining's auc: 0.998839\tvalid_1's auc: 0.997828\n",
            "[1200]\ttraining's auc: 0.998898\tvalid_1's auc: 0.997851\n",
            "[1250]\ttraining's auc: 0.998954\tvalid_1's auc: 0.997891\n",
            "[1300]\ttraining's auc: 0.998995\tvalid_1's auc: 0.997918\n",
            "[1350]\ttraining's auc: 0.999035\tvalid_1's auc: 0.997932\n",
            "[1400]\ttraining's auc: 0.999061\tvalid_1's auc: 0.997969\n",
            "[1450]\ttraining's auc: 0.9991\tvalid_1's auc: 0.998015\n",
            "[1500]\ttraining's auc: 0.999129\tvalid_1's auc: 0.998046\n",
            "[1550]\ttraining's auc: 0.99917\tvalid_1's auc: 0.998065\n",
            "[1600]\ttraining's auc: 0.999198\tvalid_1's auc: 0.998071\n",
            "[1650]\ttraining's auc: 0.99923\tvalid_1's auc: 0.99809\n",
            "[1700]\ttraining's auc: 0.999251\tvalid_1's auc: 0.998095\n",
            "[1750]\ttraining's auc: 0.999274\tvalid_1's auc: 0.998131\n",
            "[1800]\ttraining's auc: 0.999298\tvalid_1's auc: 0.998137\n",
            "[1850]\ttraining's auc: 0.999315\tvalid_1's auc: 0.99815\n",
            "[1900]\ttraining's auc: 0.999347\tvalid_1's auc: 0.998177\n",
            "[1950]\ttraining's auc: 0.999371\tvalid_1's auc: 0.99818\n",
            "[2000]\ttraining's auc: 0.999394\tvalid_1's auc: 0.99818\n",
            "Early stopping, best iteration is:\n",
            "[1953]\ttraining's auc: 0.999372\tvalid_1's auc: 0.998182\n",
            "LightGBM Training Completed...\n"
          ],
          "name": "stdout"
        }
      ]
    },
    {
      "cell_type": "code",
      "metadata": {
        "id": "OMm694-qLiPf",
        "colab_type": "code",
        "outputId": "3014a362-478b-4f14-9f8a-5e2fce3105b1",
        "colab": {
          "base_uri": "https://localhost:8080/",
          "height": 749
        }
      },
      "source": [
        "feature_imp = pd.DataFrame(sorted(zip(model.feature_importance(),X_train.columns)), columns=['Value','Feature'])\n",
        "import matplotlib.pyplot as plt\n",
        "import seaborn as sns\n",
        "import warnings\n",
        "warnings.simplefilter(action='ignore', category=FutureWarning)\n",
        "\n",
        "# sorted(zip(clf.feature_importances_, X.columns), reverse=True)\n",
        "feature_imp = pd.DataFrame(sorted(zip(model.feature_importance(importance_type='gain'),X_train.columns)), columns=['Value','Feature'])\n",
        "\n",
        "plt.figure(figsize=(20, 10))\n",
        "sns.barplot(x=\"Value\", y=\"Feature\", data=feature_imp.sort_values(by=\"Value\", ascending=False).head(50))\n",
        "plt.title('LightGBM Features (avg over folds)')\n",
        "plt.tight_layout()\n",
        "plt.show()"
      ],
      "execution_count": 0,
      "outputs": [
        {
          "output_type": "display_data",
          "data": {
            "image/png": "[encoded data removed]",
            "text/plain": [
              "<Figure size 1440x720 with 1 Axes>"
            ]
          },
          "metadata": {
            "tags": []
          }
        }
      ]
    },
    {
      "cell_type": "code",
      "metadata": {
        "id": "EiMQiCRkLn3P",
        "colab_type": "code",
        "colab": {}
      },
      "source": [
        "sub = pd.read_csv('../content/Submission.csv')"
      ],
      "execution_count": 0,
      "outputs": []
    },
    {
      "cell_type": "code",
      "metadata": {
        "id": "Iu7p5gEgMQBH",
        "colab_type": "code",
        "colab": {}
      },
      "source": [
        "sub['redemption_status'] = pred_test"
      ],
      "execution_count": 0,
      "outputs": []
    },
    {
      "cell_type": "code",
      "metadata": {
        "id": "hDL06DsOMV0V",
        "colab_type": "code",
        "colab": {}
      },
      "source": [
        "sub.to_csv('LGB_Mode_Sub7.csv',index=False)"
      ],
      "execution_count": 0,
      "outputs": []
    },
    {
      "cell_type": "markdown",
      "metadata": {
        "id": "NqDK4qNCO58w",
        "colab_type": "text"
      },
      "source": [
        "## Confusion Matrix"
      ]
    },
    {
      "cell_type": "code",
      "metadata": {
        "id": "zG_n5kGNO8Ic",
        "colab_type": "code",
        "outputId": "8a6b693c-25cc-478b-f8d7-490b5c6f141e",
        "colab": {
          "base_uri": "https://localhost:8080/",
          "height": 50
        }
      },
      "source": [
        "from sklearn.metrics import confusion_matrix\n",
        "y_pred = model.predict(X_test)\n",
        "confusion_matrix(y_test,y_pred.round())"
      ],
      "execution_count": 0,
      "outputs": [
        {
          "output_type": "execute_result",
          "data": {
            "text/plain": [
              "array([[19397,    13],\n",
              "       [   60,   122]])"
            ]
          },
          "metadata": {
            "tags": []
          },
          "execution_count": 140
        }
      ]
    },
    {
      "cell_type": "code",
      "metadata": {
        "id": "5sf7AkUkO8Fa",
        "colab_type": "code",
        "outputId": "768f06dd-86a4-4f11-9fd9-544ac958d704",
        "colab": {
          "base_uri": "https://localhost:8080/",
          "height": 168
        }
      },
      "source": [
        "from sklearn.metrics import classification_report\n",
        "print(classification_report(y_test,y_pred.round()))"
      ],
      "execution_count": 0,
      "outputs": [
        {
          "output_type": "stream",
          "text": [
            "              precision    recall  f1-score   support\n",
            "\n",
            "           0       1.00      1.00      1.00     19410\n",
            "           1       0.90      0.67      0.77       182\n",
            "\n",
            "    accuracy                           1.00     19592\n",
            "   macro avg       0.95      0.83      0.88     19592\n",
            "weighted avg       1.00      1.00      1.00     19592\n",
            "\n"
          ],
          "name": "stdout"
        }
      ]
    },
    {
      "cell_type": "markdown",
      "metadata": {
        "id": "Ysuk2jdIPFg8",
        "colab_type": "text"
      },
      "source": [
        "## Kfold"
      ]
    },
    {
      "cell_type": "code",
      "metadata": {
        "id": "oecOGnfuMezS",
        "colab_type": "code",
        "colab": {}
      },
      "source": [
        "params = {\n",
        "        \"objective\" : \"binary\",\n",
        "       \"n_estimators\":10000,\n",
        "       \"reg_alpha\" : 2.0,\n",
        "       \"reg_lambda\":2.1,\n",
        "       \"n_jobs\":-1,\n",
        "       \"colsample_bytree\":.8,\n",
        "       \"min_child_weight\":0.9,\n",
        "       \"subsample\":0.8715623,\n",
        "       \"min_data_in_leaf\":5,\n",
        "       \"nthread\":4,\n",
        "       \"metric\" : \"auc\",\n",
        "       \"num_leaves\" : 50,\n",
        "       \"learning_rate\" : 0.01,\n",
        "       \"verbosity\" : -1,\n",
        "       \"seed\": 120,\n",
        "       \"max_bin\":150,\n",
        "       'max_depth':3,\n",
        "       #'min_gain_to_split':.0222415,\n",
        "      # 'scale_pos_weight':1\n",
        "    }"
      ],
      "execution_count": 0,
      "outputs": []
    },
    {
      "cell_type": "code",
      "metadata": {
        "id": "5Z7qXFw-RU1b",
        "colab_type": "code",
        "outputId": "c5eaab60-cbd0-4cc1-d7fb-69027de5f3bb",
        "colab": {
          "base_uri": "https://localhost:8080/",
          "height": 1000
        }
      },
      "source": [
        "from sklearn.metrics import accuracy_score,confusion_matrix,roc_auc_score\n",
        "errcb=[]\n",
        "y_pred_totcb=[]\n",
        "from sklearn.model_selection import KFold,StratifiedKFold\n",
        "fold=StratifiedKFold(n_splits=4,shuffle=True,random_state=1994)\n",
        "i=1\n",
        "for train_index, test_index in fold.split(X,y):\n",
        "    X_train, X_test = X.iloc[train_index], X.iloc[test_index]\n",
        "    y_train, y_test = y[train_index], y[test_index]\n",
        "    lgtrain = lgb.Dataset(X_train, label=y_train)\n",
        "    lgval = lgb.Dataset(X_test, label=y_test)\n",
        "    model = lgb.train(params, lgtrain, 10000, \n",
        "                      valid_sets=[lgtrain, lgval], \n",
        "                      early_stopping_rounds=100, \n",
        "                      verbose_eval=100)\n",
        "    preds = model.predict(X_test, num_iteration=model.best_iteration)\n",
        "    print(\"err: \",roc_auc_score(y_test,preds))\n",
        "    errcb.append(roc_auc_score(y_test,preds))\n",
        "    p = model.predict(test_df, num_iteration=model.best_iteration)\n",
        "    y_pred_totcb.append(p)"
      ],
      "execution_count": 0,
      "outputs": [
        {
          "output_type": "stream",
          "text": [
            "Training until validation scores don't improve for 100 rounds.\n",
            "[100]\ttraining's auc: 0.996357\tvalid_1's auc: 0.995476\n",
            "[200]\ttraining's auc: 0.997127\tvalid_1's auc: 0.996122\n",
            "[300]\ttraining's auc: 0.997761\tvalid_1's auc: 0.99673\n",
            "[400]\ttraining's auc: 0.998193\tvalid_1's auc: 0.997028\n",
            "[500]\ttraining's auc: 0.998492\tvalid_1's auc: 0.997201\n",
            "[600]\ttraining's auc: 0.998729\tvalid_1's auc: 0.997293\n",
            "[700]\ttraining's auc: 0.998919\tvalid_1's auc: 0.997343\n",
            "[800]\ttraining's auc: 0.99908\tvalid_1's auc: 0.997384\n",
            "[900]\ttraining's auc: 0.999213\tvalid_1's auc: 0.997423\n",
            "[1000]\ttraining's auc: 0.999329\tvalid_1's auc: 0.997426\n",
            "Early stopping, best iteration is:\n",
            "[975]\ttraining's auc: 0.999302\tvalid_1's auc: 0.997431\n",
            "err:  0.9974310464720174\n",
            "Training until validation scores don't improve for 100 rounds.\n",
            "[100]\ttraining's auc: 0.996376\tvalid_1's auc: 0.995257\n",
            "[200]\ttraining's auc: 0.997127\tvalid_1's auc: 0.995841\n",
            "[300]\ttraining's auc: 0.997769\tvalid_1's auc: 0.996356\n",
            "[400]\ttraining's auc: 0.998165\tvalid_1's auc: 0.996673\n",
            "[500]\ttraining's auc: 0.998467\tvalid_1's auc: 0.996884\n",
            "[600]\ttraining's auc: 0.998691\tvalid_1's auc: 0.99705\n",
            "[700]\ttraining's auc: 0.99888\tvalid_1's auc: 0.997151\n",
            "[800]\ttraining's auc: 0.999049\tvalid_1's auc: 0.997263\n",
            "[900]\ttraining's auc: 0.999181\tvalid_1's auc: 0.997348\n",
            "[1000]\ttraining's auc: 0.999291\tvalid_1's auc: 0.997426\n",
            "[1100]\ttraining's auc: 0.999384\tvalid_1's auc: 0.997474\n",
            "[1200]\ttraining's auc: 0.999464\tvalid_1's auc: 0.997519\n",
            "[1300]\ttraining's auc: 0.999538\tvalid_1's auc: 0.997542\n",
            "[1400]\ttraining's auc: 0.999603\tvalid_1's auc: 0.997558\n",
            "[1500]\ttraining's auc: 0.999658\tvalid_1's auc: 0.997566\n",
            "[1600]\ttraining's auc: 0.999707\tvalid_1's auc: 0.997576\n",
            "[1700]\ttraining's auc: 0.999749\tvalid_1's auc: 0.997582\n",
            "Early stopping, best iteration is:\n",
            "[1682]\ttraining's auc: 0.999743\tvalid_1's auc: 0.997585\n",
            "err:  0.9975847954209623\n",
            "Training until validation scores don't improve for 100 rounds.\n",
            "[100]\ttraining's auc: 0.996186\tvalid_1's auc: 0.99613\n",
            "[200]\ttraining's auc: 0.997092\tvalid_1's auc: 0.996705\n",
            "[300]\ttraining's auc: 0.997724\tvalid_1's auc: 0.997041\n",
            "[400]\ttraining's auc: 0.998149\tvalid_1's auc: 0.997208\n",
            "[500]\ttraining's auc: 0.998446\tvalid_1's auc: 0.997319\n",
            "[600]\ttraining's auc: 0.998674\tvalid_1's auc: 0.997412\n",
            "[700]\ttraining's auc: 0.99887\tvalid_1's auc: 0.99753\n",
            "[800]\ttraining's auc: 0.999034\tvalid_1's auc: 0.997613\n",
            "[900]\ttraining's auc: 0.999168\tvalid_1's auc: 0.997666\n",
            "[1000]\ttraining's auc: 0.999277\tvalid_1's auc: 0.997719\n",
            "[1100]\ttraining's auc: 0.999371\tvalid_1's auc: 0.997745\n",
            "[1200]\ttraining's auc: 0.999452\tvalid_1's auc: 0.997787\n",
            "[1300]\ttraining's auc: 0.999527\tvalid_1's auc: 0.997809\n",
            "[1400]\ttraining's auc: 0.999591\tvalid_1's auc: 0.997832\n",
            "[1500]\ttraining's auc: 0.999639\tvalid_1's auc: 0.99787\n",
            "[1600]\ttraining's auc: 0.999685\tvalid_1's auc: 0.997884\n",
            "[1700]\ttraining's auc: 0.999727\tvalid_1's auc: 0.997912\n",
            "[1800]\ttraining's auc: 0.999764\tvalid_1's auc: 0.997925\n",
            "[1900]\ttraining's auc: 0.999791\tvalid_1's auc: 0.99793\n",
            "[2000]\ttraining's auc: 0.999817\tvalid_1's auc: 0.99793\n",
            "Early stopping, best iteration is:\n",
            "[1950]\ttraining's auc: 0.999804\tvalid_1's auc: 0.997939\n",
            "err:  0.9979394896705561\n",
            "Training until validation scores don't improve for 100 rounds.\n",
            "[100]\ttraining's auc: 0.99643\tvalid_1's auc: 0.995314\n",
            "[200]\ttraining's auc: 0.997152\tvalid_1's auc: 0.995969\n",
            "[300]\ttraining's auc: 0.997661\tvalid_1's auc: 0.996621\n",
            "[400]\ttraining's auc: 0.998085\tvalid_1's auc: 0.997119\n",
            "[500]\ttraining's auc: 0.998381\tvalid_1's auc: 0.997383\n",
            "[600]\ttraining's auc: 0.998613\tvalid_1's auc: 0.997562\n",
            "[700]\ttraining's auc: 0.998798\tvalid_1's auc: 0.997697\n",
            "[800]\ttraining's auc: 0.998965\tvalid_1's auc: 0.997775\n",
            "[900]\ttraining's auc: 0.999111\tvalid_1's auc: 0.997873\n",
            "[1000]\ttraining's auc: 0.999229\tvalid_1's auc: 0.997919\n",
            "[1100]\ttraining's auc: 0.999321\tvalid_1's auc: 0.997971\n",
            "[1200]\ttraining's auc: 0.999396\tvalid_1's auc: 0.998\n",
            "[1300]\ttraining's auc: 0.999466\tvalid_1's auc: 0.99803\n",
            "[1400]\ttraining's auc: 0.999527\tvalid_1's auc: 0.998057\n",
            "[1500]\ttraining's auc: 0.99958\tvalid_1's auc: 0.998077\n",
            "[1600]\ttraining's auc: 0.999625\tvalid_1's auc: 0.998092\n",
            "[1700]\ttraining's auc: 0.999664\tvalid_1's auc: 0.99811\n",
            "[1800]\ttraining's auc: 0.999701\tvalid_1's auc: 0.998116\n",
            "[1900]\ttraining's auc: 0.999733\tvalid_1's auc: 0.998126\n",
            "[2000]\ttraining's auc: 0.999762\tvalid_1's auc: 0.998139\n",
            "[2100]\ttraining's auc: 0.999786\tvalid_1's auc: 0.998138\n",
            "Early stopping, best iteration is:\n",
            "[2002]\ttraining's auc: 0.999762\tvalid_1's auc: 0.998142\n",
            "err:  0.9981416059468609\n"
          ],
          "name": "stdout"
        }
      ]
    },
    {
      "cell_type": "code",
      "metadata": {
        "id": "Ef_MwPjZRX69",
        "colab_type": "code",
        "outputId": "b1e1e2dd-9419-471e-d002-4c6269d39eb2",
        "colab": {
          "base_uri": "https://localhost:8080/",
          "height": 749
        }
      },
      "source": [
        "feature_imp = pd.DataFrame(sorted(zip(model.feature_importance(),X_train.columns)), columns=['Value','Feature'])\n",
        "import matplotlib.pyplot as plt\n",
        "import seaborn as sns\n",
        "import warnings\n",
        "warnings.simplefilter(action='ignore', category=FutureWarning)\n",
        "\n",
        "# sorted(zip(clf.feature_importances_, X.columns), reverse=True)\n",
        "feature_imp = pd.DataFrame(sorted(zip(model.feature_importance(importance_type='gain'),X_train.columns)), columns=['Value','Feature'])\n",
        "\n",
        "plt.figure(figsize=(20, 10))\n",
        "sns.barplot(x=\"Value\", y=\"Feature\", data=feature_imp.sort_values(by=\"Value\", ascending=False).head(50))\n",
        "plt.title('LightGBM Features (avg over folds)')\n",
        "plt.tight_layout()\n",
        "plt.show()"
      ],
      "execution_count": 0,
      "outputs": [
        {
          "output_type": "display_data",
          "data": {
            "image/png": "[encoded data removed]",
            "text/plain": [
              "<Figure size 1440x720 with 1 Axes>"
            ]
          },
          "metadata": {
            "tags": []
          }
        }
      ]
    },
    {
      "cell_type": "code",
      "metadata": {
        "id": "T11U-0jqTIDS",
        "colab_type": "code",
        "outputId": "ebb8774b-7554-4c1d-d841-b3f1a63a5325",
        "colab": {
          "base_uri": "https://localhost:8080/",
          "height": 151
        }
      },
      "source": [
        "y_pred_totcb"
      ],
      "execution_count": 0,
      "outputs": [
        {
          "output_type": "execute_result",
          "data": {
            "text/plain": [
              "[array([1.52934598e-01, 2.08471872e-02, 2.72206833e-05, ...,\n",
              "        4.59152474e-02, 4.76528554e-02, 1.84901818e-05]),\n",
              " array([1.29535227e-01, 7.80923266e-03, 8.19167532e-06, ...,\n",
              "        1.82690339e-02, 1.05686701e-02, 5.83375482e-06]),\n",
              " array([5.47200901e-02, 6.16006247e-03, 3.14403845e-06, ...,\n",
              "        1.19049884e-02, 2.21174590e-02, 1.86537195e-06]),\n",
              " array([1.16461252e-01, 6.89779350e-03, 5.02105588e-06, ...,\n",
              "        8.60839950e-03, 5.06512839e-02, 4.67432324e-06])]"
            ]
          },
          "metadata": {
            "tags": []
          },
          "execution_count": 101
        }
      ]
    },
    {
      "cell_type": "code",
      "metadata": {
        "id": "73WhUdxMTOde",
        "colab_type": "code",
        "colab": {}
      },
      "source": [
        "y_pred = np.mean(y_pred_totcb,0)"
      ],
      "execution_count": 0,
      "outputs": []
    },
    {
      "cell_type": "code",
      "metadata": {
        "id": "QbOX55U8TQqs",
        "colab_type": "code",
        "colab": {}
      },
      "source": [
        "sub['redemption_status']= y_pred"
      ],
      "execution_count": 0,
      "outputs": []
    },
    {
      "cell_type": "code",
      "metadata": {
        "id": "SENr1oCyTSmO",
        "colab_type": "code",
        "colab": {}
      },
      "source": [
        "sub.to_csv(\"LGB_Mode_Kfold_Sub4.csv\",index=False)"
      ],
      "execution_count": 0,
      "outputs": []
    },
    {
      "cell_type": "markdown",
      "metadata": {
        "id": "loyx5L6FUY47",
        "colab_type": "text"
      },
      "source": [
        "## XGB"
      ]
    },
    {
      "cell_type": "code",
      "metadata": {
        "id": "21OZTJmlTb5t",
        "colab_type": "code",
        "colab": {}
      },
      "source": [
        "import xgboost as xgb"
      ],
      "execution_count": 0,
      "outputs": []
    },
    {
      "cell_type": "code",
      "metadata": {
        "id": "CswU8JBBUaLN",
        "colab_type": "code",
        "colab": {}
      },
      "source": [
        "def run_xgb(X_train, X_test, y_train, y_test, test_df_lgb):\n",
        "    params = {'objective': 'binary:logistic', \n",
        "              'booster' : \"gbtree\",\n",
        "              'eval_metric':'auc',\n",
        "              'eta': 0.04,\n",
        "              'max_depth': 4, \n",
        "              'subsample': 0.9500000000000001, #changed from 0.6\n",
        "              'colsample_bytree': 0.65,\n",
        "              'lambda':0.3,\n",
        "              'gamma':0.6,\n",
        "              'max_delta_step':1,\n",
        "              'min_child_weight':1.0,\n",
        "              #'alpha':0.001,\n",
        "              'random_state': 42,\n",
        "              #'scale_pos_weight':106,\n",
        "              'max_bin':300, #changed from 450\n",
        "              'silent': True}\n",
        "    \n",
        "    tr_data = xgb.DMatrix(X_train, y_train)\n",
        "    va_data = xgb.DMatrix(X_test, y_test)\n",
        "    \n",
        "    watchlist = [(tr_data, 'train'), (va_data, 'valid')]\n",
        "    \n",
        "    model_xgb = xgb.train(params, tr_data, 1000, watchlist, maximize=False, early_stopping_rounds = 10, verbose_eval=10)\n",
        "    \n",
        "    #cv = xgb.cv(params, tr_data, 271, nfold=5, early_stopping_rounds=10, verbose_eval=10)\n",
        "    \n",
        "    dtest = xgb.DMatrix(test_df_lgb)\n",
        "    xgb_pred_y = model_xgb.predict(dtest, ntree_limit=model_xgb.best_ntree_limit)\n",
        "    \n",
        "    return xgb_pred_y, model_xgb"
      ],
      "execution_count": 0,
      "outputs": []
    },
    {
      "cell_type": "code",
      "metadata": {
        "id": "7qxMBcRtUcwN",
        "colab_type": "code",
        "outputId": "e66f6c64-7228-43df-b524-83dc3707cee8",
        "colab": {
          "base_uri": "https://localhost:8080/",
          "height": 588
        }
      },
      "source": [
        "# Training XGB\n",
        "pred_test_xgb, model_xgb = run_xgb(X_train, X_test, y_train, y_test, test_df)\n",
        "print(\"XGB Training Completed...\")"
      ],
      "execution_count": 0,
      "outputs": [
        {
          "output_type": "stream",
          "text": [
            "[0]\ttrain-auc:0.657651\tvalid-auc:0.612099\n",
            "Multiple eval metrics have been passed: 'valid-auc' will be used for early stopping.\n",
            "\n",
            "Will train until valid-auc hasn't improved in 10 rounds.\n",
            "[10]\ttrain-auc:0.704425\tvalid-auc:0.674675\n",
            "[20]\ttrain-auc:0.941264\tvalid-auc:0.91409\n",
            "[30]\ttrain-auc:0.983786\tvalid-auc:0.968966\n",
            "[40]\ttrain-auc:0.996539\tvalid-auc:0.987757\n",
            "[50]\ttrain-auc:0.996624\tvalid-auc:0.992916\n",
            "[60]\ttrain-auc:0.996865\tvalid-auc:0.996216\n",
            "[70]\ttrain-auc:0.997075\tvalid-auc:0.99655\n",
            "[80]\ttrain-auc:0.997194\tvalid-auc:0.996768\n",
            "[90]\ttrain-auc:0.998131\tvalid-auc:0.996968\n",
            "[100]\ttrain-auc:0.998279\tvalid-auc:0.997145\n",
            "[110]\ttrain-auc:0.998376\tvalid-auc:0.997263\n",
            "[120]\ttrain-auc:0.998528\tvalid-auc:0.997365\n",
            "[130]\ttrain-auc:0.998646\tvalid-auc:0.99744\n",
            "[140]\ttrain-auc:0.998759\tvalid-auc:0.997492\n",
            "[150]\ttrain-auc:0.99887\tvalid-auc:0.99753\n",
            "[160]\ttrain-auc:0.998972\tvalid-auc:0.997575\n",
            "[170]\ttrain-auc:0.999061\tvalid-auc:0.997649\n",
            "[180]\ttrain-auc:0.999138\tvalid-auc:0.997688\n",
            "[190]\ttrain-auc:0.999209\tvalid-auc:0.997759\n",
            "[200]\ttrain-auc:0.999276\tvalid-auc:0.99778\n",
            "[210]\ttrain-auc:0.999346\tvalid-auc:0.997838\n",
            "[220]\ttrain-auc:0.999398\tvalid-auc:0.997884\n",
            "[230]\ttrain-auc:0.999452\tvalid-auc:0.997904\n",
            "[240]\ttrain-auc:0.999515\tvalid-auc:0.997936\n",
            "[250]\ttrain-auc:0.999564\tvalid-auc:0.997962\n",
            "[260]\ttrain-auc:0.999623\tvalid-auc:0.997986\n",
            "Stopping. Best iteration:\n",
            "[258]\ttrain-auc:0.999612\tvalid-auc:0.997995\n",
            "\n",
            "XGB Training Completed...\n"
          ],
          "name": "stdout"
        }
      ]
    },
    {
      "cell_type": "code",
      "metadata": {
        "id": "DhqDBOguUeK7",
        "colab_type": "code",
        "colab": {}
      },
      "source": [
        "sub['redemption_status'] = pred_test_xgb"
      ],
      "execution_count": 0,
      "outputs": []
    },
    {
      "cell_type": "code",
      "metadata": {
        "id": "-6yFROQYUlP8",
        "colab_type": "code",
        "colab": {}
      },
      "source": [
        "sub.to_csv('XGB_Mode_Sub4.csv',index=False)"
      ],
      "execution_count": 0,
      "outputs": []
    },
    {
      "cell_type": "code",
      "metadata": {
        "id": "3wNcxhoYV2Oi",
        "colab_type": "code",
        "colab": {}
      },
      "source": [
        ""
      ],
      "execution_count": 0,
      "outputs": []
    }
  ]
}