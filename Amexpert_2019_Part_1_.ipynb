{
  "nbformat": 4,
  "nbformat_minor": 0,
  "metadata": {
    "colab": {
      "name": "Amexpert-2019 - Part 1 .ipynb",
      "provenance": [],
      "collapsed_sections": [
        "-EAiRLNREYqS",
        "ExkVQSvTEp4z",
        "7Fy4g1qsE6Oa",
        "j0_75SqpE_Ei",
        "kutrWro-FByo",
        "iSRceTCWFRRA",
        "VbIALFsNFaty",
        "Phved2E2FhMS",
        "3vXXHWYSGd9F",
        "9gn75eNCG0sZ",
        "S5CooNmRG64l",
        "_FwTauOoPe0W",
        "yuR52dUDxwAF",
        "1RyonKfnCj-r"
      ],
      "toc_visible": true,
      "include_colab_link": true
    },
    "kernelspec": {
      "name": "python3",
      "display_name": "Python 3"
    },
    "accelerator": "GPU"
  },
  "cells": [
    {
      "cell_type": "markdown",
      "metadata": {
        "id": "view-in-github",
        "colab_type": "text"
      },
      "source": [
        "<a href=\"https://colab.research.google.com/github/buntys2010/AV-AmExpert-2019-ML-Hackathon/blob/master/Amexpert_2019_Part_1_.ipynb\" target=\"_parent\"><img src=\"https://colab.research.google.com/assets/colab-badge.svg\" alt=\"Open In Colab\"/></a>"
      ]
    },
    {
      "cell_type": "markdown",
      "metadata": {
        "id": "-EAiRLNREYqS",
        "colab_type": "text"
      },
      "source": [
        "## Get Data"
      ]
    },
    {
      "cell_type": "code",
      "metadata": {
        "id": "K59ufnd9EQFA",
        "colab_type": "code",
        "colab": {}
      },
      "source": [
        "from google.colab import files"
      ],
      "execution_count": 0,
      "outputs": []
    },
    {
      "cell_type": "code",
      "metadata": {
        "id": "kqVO2X9yEdAY",
        "colab_type": "code",
        "colab": {}
      },
      "source": [
        "files.upload()"
      ],
      "execution_count": 0,
      "outputs": []
    },
    {
      "cell_type": "code",
      "metadata": {
        "id": "JYBs84vCEf-H",
        "colab_type": "code",
        "colab": {}
      },
      "source": [
        "!pip install -q kaggle\n",
        "!mkdir -p ~/.kaggle\n",
        "!cp kaggle.json ~/.kaggle/\n",
        "!chmod 600 /root/.kaggle/kaggle.json"
      ],
      "execution_count": 0,
      "outputs": []
    },
    {
      "cell_type": "code",
      "metadata": {
        "id": "_EJYVqzUElbz",
        "colab_type": "code",
        "colab": {}
      },
      "source": [
        "!kaggle datasets download buntyshah/amexpert-2019"
      ],
      "execution_count": 0,
      "outputs": []
    },
    {
      "cell_type": "code",
      "metadata": {
        "id": "82Y4GgJYEnBU",
        "colab_type": "code",
        "colab": {}
      },
      "source": [
        "!unzip \"../content/amexpert-2019.zip\" "
      ],
      "execution_count": 0,
      "outputs": []
    },
    {
      "cell_type": "markdown",
      "metadata": {
        "id": "ExkVQSvTEp4z",
        "colab_type": "text"
      },
      "source": [
        "## Read Data"
      ]
    },
    {
      "cell_type": "code",
      "metadata": {
        "id": "oPVm4QkCEokr",
        "colab_type": "code",
        "colab": {}
      },
      "source": [
        "import pandas as pd\n",
        "import numpy as np\n",
        "#  Libraries\n",
        "import numpy as np \n",
        "import pandas as pd \n",
        "# Data processing, metrics and modeling\n",
        "from sklearn.preprocessing import LabelEncoder\n",
        "from sklearn.model_selection import train_test_split, StratifiedKFold,KFold\n",
        "\n",
        "from datetime import datetime\n",
        "from sklearn.metrics import precision_score, recall_score, confusion_matrix, accuracy_score, roc_auc_score, f1_score, roc_curve, auc,precision_recall_curve\n",
        "from sklearn import metrics\n",
        "from sklearn import preprocessing\n",
        "# Lgbm\n",
        "import lightgbm as lgb\n",
        "# Suppr warning\n",
        "import warnings\n",
        "warnings.filterwarnings(\"ignore\")\n",
        "\n",
        "import itertools\n",
        "from scipy import interp\n",
        "\n",
        "# Plots\n",
        "import seaborn as sns\n",
        "import matplotlib.pyplot as plt\n",
        "%matplotlib inline\n",
        "from matplotlib import rcParams"
      ],
      "execution_count": 0,
      "outputs": []
    },
    {
      "cell_type": "code",
      "metadata": {
        "id": "h9zR4YZtEtGj",
        "colab_type": "code",
        "colab": {}
      },
      "source": [
        "train= pd.read_csv(\"../content/train_AUpWtIz (1)/train.csv\")"
      ],
      "execution_count": 0,
      "outputs": []
    },
    {
      "cell_type": "code",
      "metadata": {
        "id": "KOjMixawEuq2",
        "colab_type": "code",
        "outputId": "5e83bab4-48b2-4db6-c0d9-e248d7d2ebbc",
        "colab": {
          "base_uri": "https://localhost:8080/",
          "height": 67
        }
      },
      "source": [
        "train.redemption_status.value_counts()"
      ],
      "execution_count": 0,
      "outputs": [
        {
          "output_type": "execute_result",
          "data": {
            "text/plain": [
              "0    77640\n",
              "1      729\n",
              "Name: redemption_status, dtype: int64"
            ]
          },
          "metadata": {
            "tags": []
          },
          "execution_count": 3
        }
      ]
    },
    {
      "cell_type": "code",
      "metadata": {
        "id": "hcXnY2LGEwKl",
        "colab_type": "code",
        "colab": {}
      },
      "source": [
        "test = pd.read_csv(\"../content/test_QyjYwdj.csv\")"
      ],
      "execution_count": 0,
      "outputs": []
    },
    {
      "cell_type": "code",
      "metadata": {
        "id": "mgfo_e7bEyUE",
        "colab_type": "code",
        "colab": {}
      },
      "source": [
        "# Read 5 common files\n",
        "\n",
        "campaign_data = pd.read_csv(\"../content/train_AUpWtIz (1)/campaign_data.csv\")\n",
        "coupon_item_mapping =  pd.read_csv(\"../content/train_AUpWtIz (1)/coupon_item_mapping.csv\")\n",
        "customer_demographics = pd.read_csv(\"../content/train_AUpWtIz (1)/customer_demographics.csv\")\n",
        "customer_transaction_data = pd.read_csv(\"../content/train_AUpWtIz (1)/customer_transaction_data.csv\")\n",
        "item_data = pd.read_csv(\"../content/train_AUpWtIz (1)/item_data.csv\")"
      ],
      "execution_count": 0,
      "outputs": []
    },
    {
      "cell_type": "markdown",
      "metadata": {
        "id": "mkeiRWQfE3LS",
        "colab_type": "text"
      },
      "source": [
        "![alt text](https://s3-ap-south-1.amazonaws.com/av-blog-media/wp-content/uploads/2019/09/Screenshot-2019-09-28-at-8.58.32-PM.png)"
      ]
    },
    {
      "cell_type": "markdown",
      "metadata": {
        "id": "7Fy4g1qsE6Oa",
        "colab_type": "text"
      },
      "source": [
        "## Lets Combine campaign_id with Train/test as it doesnt have any dependency"
      ]
    },
    {
      "cell_type": "code",
      "metadata": {
        "id": "m-5WEX4dEzzD",
        "colab_type": "code",
        "colab": {}
      },
      "source": [
        "train_df = pd.merge(train,campaign_data,on='campaign_id',how='left')\n",
        "test_df = pd.merge(test,campaign_data,on='campaign_id',how='left')"
      ],
      "execution_count": 0,
      "outputs": []
    },
    {
      "cell_type": "markdown",
      "metadata": {
        "id": "j0_75SqpE_Ei",
        "colab_type": "text"
      },
      "source": [
        "## Lets Combine customer_demographics with train and test"
      ]
    },
    {
      "cell_type": "code",
      "metadata": {
        "id": "VSY5fLHZE8N0",
        "colab_type": "code",
        "colab": {}
      },
      "source": [
        "train_df = pd.merge(train_df , customer_demographics ,on='customer_id',how='left')\n",
        "test_df = pd.merge(test_df , customer_demographics ,on='customer_id',how='left')"
      ],
      "execution_count": 0,
      "outputs": []
    },
    {
      "cell_type": "markdown",
      "metadata": {
        "id": "kutrWro-FByo",
        "colab_type": "text"
      },
      "source": [
        "## Create new DF to combine remaining blocks\n",
        "\n",
        "Note : \n",
        "\n",
        "\n",
        "\n",
        "1.   Tried Many features combination of catagorical Features\n",
        "2.   Tried to create many new features few worked as below\n",
        "\n"
      ]
    },
    {
      "cell_type": "code",
      "metadata": {
        "id": "bnWPoIuUFBS4",
        "colab_type": "code",
        "colab": {}
      },
      "source": [
        "df = pd.merge(customer_transaction_data , item_data ,on='item_id',how='left')\n",
        "df = pd.merge(df , coupon_item_mapping ,on='item_id',how='left')"
      ],
      "execution_count": 0,
      "outputs": []
    },
    {
      "cell_type": "code",
      "metadata": {
        "id": "3HDEbhBhFFQv",
        "colab_type": "code",
        "colab": {}
      },
      "source": [
        "df = df.fillna(120)"
      ],
      "execution_count": 0,
      "outputs": []
    },
    {
      "cell_type": "code",
      "metadata": {
        "id": "D_1zdoDDFGrB",
        "colab_type": "code",
        "colab": {}
      },
      "source": [
        "df['date'] = df['date'].astype('datetime64[ns]') "
      ],
      "execution_count": 0,
      "outputs": []
    },
    {
      "cell_type": "code",
      "metadata": {
        "id": "r-MFvRR96iBX",
        "colab_type": "code",
        "colab": {}
      },
      "source": [
        "df['C_date_year'] = df['date'].dt.year\n",
        "df['C_date_month'] = df['date'].dt.month\n",
        "df['C_date_day'] = df['date'].dt.day\n",
        "df = df.drop('date',axis=1)"
      ],
      "execution_count": 0,
      "outputs": []
    },
    {
      "cell_type": "code",
      "metadata": {
        "id": "UJUq73iU6zAa",
        "colab_type": "code",
        "outputId": "6374e58b-a4d0-4714-80e3-f2c1b9f0e5a8",
        "colab": {
          "base_uri": "https://localhost:8080/",
          "height": 299
        }
      },
      "source": [
        "df.head()"
      ],
      "execution_count": 0,
      "outputs": [
        {
          "output_type": "execute_result",
          "data": {
            "text/html": [
              "<div>\n",
              "<style scoped>\n",
              "    .dataframe tbody tr th:only-of-type {\n",
              "        vertical-align: middle;\n",
              "    }\n",
              "\n",
              "    .dataframe tbody tr th {\n",
              "        vertical-align: top;\n",
              "    }\n",
              "\n",
              "    .dataframe thead th {\n",
              "        text-align: right;\n",
              "    }\n",
              "</style>\n",
              "<table border=\"1\" class=\"dataframe\">\n",
              "  <thead>\n",
              "    <tr style=\"text-align: right;\">\n",
              "      <th></th>\n",
              "      <th>customer_id</th>\n",
              "      <th>item_id</th>\n",
              "      <th>quantity</th>\n",
              "      <th>selling_price</th>\n",
              "      <th>other_discount</th>\n",
              "      <th>coupon_discount</th>\n",
              "      <th>brand</th>\n",
              "      <th>brand_type</th>\n",
              "      <th>category</th>\n",
              "      <th>coupon_id</th>\n",
              "      <th>C_date_year</th>\n",
              "      <th>C_date_month</th>\n",
              "      <th>C_date_day</th>\n",
              "    </tr>\n",
              "  </thead>\n",
              "  <tbody>\n",
              "    <tr>\n",
              "      <th>0</th>\n",
              "      <td>1501</td>\n",
              "      <td>26830</td>\n",
              "      <td>1</td>\n",
              "      <td>35.26</td>\n",
              "      <td>-10.69</td>\n",
              "      <td>0.0</td>\n",
              "      <td>56</td>\n",
              "      <td>Local</td>\n",
              "      <td>Natural Products</td>\n",
              "      <td>7.0</td>\n",
              "      <td>2012</td>\n",
              "      <td>1</td>\n",
              "      <td>2</td>\n",
              "    </tr>\n",
              "    <tr>\n",
              "      <th>1</th>\n",
              "      <td>1501</td>\n",
              "      <td>26830</td>\n",
              "      <td>1</td>\n",
              "      <td>35.26</td>\n",
              "      <td>-10.69</td>\n",
              "      <td>0.0</td>\n",
              "      <td>56</td>\n",
              "      <td>Local</td>\n",
              "      <td>Natural Products</td>\n",
              "      <td>20.0</td>\n",
              "      <td>2012</td>\n",
              "      <td>1</td>\n",
              "      <td>2</td>\n",
              "    </tr>\n",
              "    <tr>\n",
              "      <th>2</th>\n",
              "      <td>1501</td>\n",
              "      <td>26830</td>\n",
              "      <td>1</td>\n",
              "      <td>35.26</td>\n",
              "      <td>-10.69</td>\n",
              "      <td>0.0</td>\n",
              "      <td>56</td>\n",
              "      <td>Local</td>\n",
              "      <td>Natural Products</td>\n",
              "      <td>29.0</td>\n",
              "      <td>2012</td>\n",
              "      <td>1</td>\n",
              "      <td>2</td>\n",
              "    </tr>\n",
              "    <tr>\n",
              "      <th>3</th>\n",
              "      <td>1501</td>\n",
              "      <td>54253</td>\n",
              "      <td>1</td>\n",
              "      <td>53.43</td>\n",
              "      <td>-13.89</td>\n",
              "      <td>0.0</td>\n",
              "      <td>56</td>\n",
              "      <td>Local</td>\n",
              "      <td>Natural Products</td>\n",
              "      <td>7.0</td>\n",
              "      <td>2012</td>\n",
              "      <td>1</td>\n",
              "      <td>2</td>\n",
              "    </tr>\n",
              "    <tr>\n",
              "      <th>4</th>\n",
              "      <td>1501</td>\n",
              "      <td>54253</td>\n",
              "      <td>1</td>\n",
              "      <td>53.43</td>\n",
              "      <td>-13.89</td>\n",
              "      <td>0.0</td>\n",
              "      <td>56</td>\n",
              "      <td>Local</td>\n",
              "      <td>Natural Products</td>\n",
              "      <td>20.0</td>\n",
              "      <td>2012</td>\n",
              "      <td>1</td>\n",
              "      <td>2</td>\n",
              "    </tr>\n",
              "  </tbody>\n",
              "</table>\n",
              "</div>"
            ],
            "text/plain": [
              "   customer_id  item_id  quantity  ...  C_date_year  C_date_month  C_date_day\n",
              "0         1501    26830         1  ...         2012             1           2\n",
              "1         1501    26830         1  ...         2012             1           2\n",
              "2         1501    26830         1  ...         2012             1           2\n",
              "3         1501    54253         1  ...         2012             1           2\n",
              "4         1501    54253         1  ...         2012             1           2\n",
              "\n",
              "[5 rows x 13 columns]"
            ]
          },
          "metadata": {
            "tags": []
          },
          "execution_count": 12
        }
      ]
    },
    {
      "cell_type": "code",
      "metadata": {
        "id": "PA00RnDiFIt-",
        "colab_type": "code",
        "colab": {}
      },
      "source": [
        "## Feature engg\n",
        "df['per_item_price'] = df['selling_price'] / df['quantity']\n",
        "df['item_price_after_discount'] = (df['selling_price'] + df['other_discount'] + df['coupon_discount']) / df['quantity']\n",
        "df['discount'] = df['other_discount'] + df['coupon_discount']"
      ],
      "execution_count": 0,
      "outputs": []
    },
    {
      "cell_type": "code",
      "metadata": {
        "id": "kr4GtiZBFMM9",
        "colab_type": "code",
        "colab": {}
      },
      "source": [
        "df['NF_coupon_month'] = df['coupon_id'].astype(str) + \"_\" + df['C_date_month'].astype(str)"
      ],
      "execution_count": 0,
      "outputs": []
    },
    {
      "cell_type": "code",
      "metadata": {
        "id": "psj6JzjDFN7X",
        "colab_type": "code",
        "colab": {}
      },
      "source": [
        "from sklearn.preprocessing import LabelEncoder\n",
        "for f in df.columns:\n",
        "    if  df[f].dtype=='object': \n",
        "        lbl = preprocessing.LabelEncoder()\n",
        "        lbl.fit(list(df[f].values))\n",
        "        df[f] = lbl.transform(list(df[f].values))"
      ],
      "execution_count": 0,
      "outputs": []
    },
    {
      "cell_type": "markdown",
      "metadata": {
        "id": "iSRceTCWFRRA",
        "colab_type": "text"
      },
      "source": [
        "## Creating Aggrigate features for *customer_id*\n",
        "\n",
        "Note: Tried to hide few features as their importance was almost Zero"
      ]
    },
    {
      "cell_type": "code",
      "metadata": {
        "id": "XTNhNxbJFPdH",
        "colab_type": "code",
        "colab": {}
      },
      "source": [
        "['mean','sum','min','max','median','quantile','mad','std','count','nunique']\n",
        "ag_cat=['count','nunique','min','max','last']\n",
        "ag_num=['mean','sum','min','max','median','quantile','mad','std']\n",
        "\n",
        "agg_func = {     # find the sum of the durations for each group\n",
        "                                    'item_id' : ag_cat,\n",
        "                                    'quantity':ag_num,\n",
        "                                    'selling_price': ag_num,\n",
        "                                    'other_discount':ag_num,\n",
        "                                    #'coupon_discount':ag_num,\n",
        "                                    'brand':ag_cat,\n",
        "                                    'brand_type':ag_cat,\n",
        "                                    'category':ag_cat,\n",
        "                                    'coupon_id':ag_cat,\n",
        "                                    #'C_date_year':ag_cat,\n",
        "                                    'C_date_month':ag_cat,\n",
        "                                    'C_date_day':ag_cat,\n",
        "                                    #'per_item_price':ag_num,\n",
        "                                    #'item_price_after_discount':ag_num,\n",
        "                                    'NF_coupon_month':ag_cat\n",
        "                                   \n",
        "                                }"
      ],
      "execution_count": 0,
      "outputs": []
    },
    {
      "cell_type": "code",
      "metadata": {
        "id": "fBWLSFJOFTG3",
        "colab_type": "code",
        "outputId": "3dccad23-04cc-4b27-9b18-2a5342786124",
        "colab": {
          "base_uri": "https://localhost:8080/",
          "height": 215
        }
      },
      "source": [
        "df_customer_groupby = df.groupby(by=['customer_id']).agg(agg_func)\n",
        "df_customer_groupby.columns=['agg_cust_id_' + '_'.join(col).strip() for col in df_customer_groupby.columns.values]\n",
        "df_customer_groupby.reset_index(inplace=True)\n",
        "df_customer_groupby.head()"
      ],
      "execution_count": 0,
      "outputs": [
        {
          "output_type": "execute_result",
          "data": {
            "text/html": [
              "<div>\n",
              "<style scoped>\n",
              "    .dataframe tbody tr th:only-of-type {\n",
              "        vertical-align: middle;\n",
              "    }\n",
              "\n",
              "    .dataframe tbody tr th {\n",
              "        vertical-align: top;\n",
              "    }\n",
              "\n",
              "    .dataframe thead th {\n",
              "        text-align: right;\n",
              "    }\n",
              "</style>\n",
              "<table border=\"1\" class=\"dataframe\">\n",
              "  <thead>\n",
              "    <tr style=\"text-align: right;\">\n",
              "      <th></th>\n",
              "      <th>customer_id</th>\n",
              "      <th>agg_cust_id_item_id_count</th>\n",
              "      <th>agg_cust_id_item_id_nunique</th>\n",
              "      <th>agg_cust_id_item_id_min</th>\n",
              "      <th>agg_cust_id_item_id_max</th>\n",
              "      <th>agg_cust_id_item_id_last</th>\n",
              "      <th>agg_cust_id_quantity_mean</th>\n",
              "      <th>agg_cust_id_quantity_sum</th>\n",
              "      <th>agg_cust_id_quantity_min</th>\n",
              "      <th>agg_cust_id_quantity_max</th>\n",
              "      <th>agg_cust_id_quantity_median</th>\n",
              "      <th>agg_cust_id_quantity_quantile</th>\n",
              "      <th>agg_cust_id_quantity_mad</th>\n",
              "      <th>agg_cust_id_quantity_std</th>\n",
              "      <th>agg_cust_id_selling_price_mean</th>\n",
              "      <th>agg_cust_id_selling_price_sum</th>\n",
              "      <th>agg_cust_id_selling_price_min</th>\n",
              "      <th>agg_cust_id_selling_price_max</th>\n",
              "      <th>agg_cust_id_selling_price_median</th>\n",
              "      <th>agg_cust_id_selling_price_quantile</th>\n",
              "      <th>agg_cust_id_selling_price_mad</th>\n",
              "      <th>agg_cust_id_selling_price_std</th>\n",
              "      <th>agg_cust_id_other_discount_mean</th>\n",
              "      <th>agg_cust_id_other_discount_sum</th>\n",
              "      <th>agg_cust_id_other_discount_min</th>\n",
              "      <th>agg_cust_id_other_discount_max</th>\n",
              "      <th>agg_cust_id_other_discount_median</th>\n",
              "      <th>agg_cust_id_other_discount_quantile</th>\n",
              "      <th>agg_cust_id_other_discount_mad</th>\n",
              "      <th>agg_cust_id_other_discount_std</th>\n",
              "      <th>agg_cust_id_brand_count</th>\n",
              "      <th>agg_cust_id_brand_nunique</th>\n",
              "      <th>agg_cust_id_brand_min</th>\n",
              "      <th>agg_cust_id_brand_max</th>\n",
              "      <th>agg_cust_id_brand_last</th>\n",
              "      <th>agg_cust_id_brand_type_count</th>\n",
              "      <th>agg_cust_id_brand_type_nunique</th>\n",
              "      <th>agg_cust_id_brand_type_min</th>\n",
              "      <th>agg_cust_id_brand_type_max</th>\n",
              "      <th>agg_cust_id_brand_type_last</th>\n",
              "      <th>agg_cust_id_category_count</th>\n",
              "      <th>agg_cust_id_category_nunique</th>\n",
              "      <th>agg_cust_id_category_min</th>\n",
              "      <th>agg_cust_id_category_max</th>\n",
              "      <th>agg_cust_id_category_last</th>\n",
              "      <th>agg_cust_id_coupon_id_count</th>\n",
              "      <th>agg_cust_id_coupon_id_nunique</th>\n",
              "      <th>agg_cust_id_coupon_id_min</th>\n",
              "      <th>agg_cust_id_coupon_id_max</th>\n",
              "      <th>agg_cust_id_coupon_id_last</th>\n",
              "      <th>agg_cust_id_C_date_month_count</th>\n",
              "      <th>agg_cust_id_C_date_month_nunique</th>\n",
              "      <th>agg_cust_id_C_date_month_min</th>\n",
              "      <th>agg_cust_id_C_date_month_max</th>\n",
              "      <th>agg_cust_id_C_date_month_last</th>\n",
              "      <th>agg_cust_id_C_date_day_count</th>\n",
              "      <th>agg_cust_id_C_date_day_nunique</th>\n",
              "      <th>agg_cust_id_C_date_day_min</th>\n",
              "      <th>agg_cust_id_C_date_day_max</th>\n",
              "      <th>agg_cust_id_C_date_day_last</th>\n",
              "      <th>agg_cust_id_NF_coupon_month_count</th>\n",
              "      <th>agg_cust_id_NF_coupon_month_nunique</th>\n",
              "      <th>agg_cust_id_NF_coupon_month_min</th>\n",
              "      <th>agg_cust_id_NF_coupon_month_max</th>\n",
              "      <th>agg_cust_id_NF_coupon_month_last</th>\n",
              "    </tr>\n",
              "  </thead>\n",
              "  <tbody>\n",
              "    <tr>\n",
              "      <th>0</th>\n",
              "      <td>1</td>\n",
              "      <td>2211</td>\n",
              "      <td>463</td>\n",
              "      <td>4315</td>\n",
              "      <td>73348</td>\n",
              "      <td>45986</td>\n",
              "      <td>1.134328</td>\n",
              "      <td>2508</td>\n",
              "      <td>1</td>\n",
              "      <td>5</td>\n",
              "      <td>1</td>\n",
              "      <td>1.0</td>\n",
              "      <td>0.240588</td>\n",
              "      <td>0.454791</td>\n",
              "      <td>95.070873</td>\n",
              "      <td>210201.70</td>\n",
              "      <td>12.11</td>\n",
              "      <td>445.25</td>\n",
              "      <td>89.05</td>\n",
              "      <td>89.05</td>\n",
              "      <td>35.683296</td>\n",
              "      <td>53.433822</td>\n",
              "      <td>-20.346404</td>\n",
              "      <td>-44985.90</td>\n",
              "      <td>-372.23</td>\n",
              "      <td>0.0</td>\n",
              "      <td>-10.69</td>\n",
              "      <td>-10.69</td>\n",
              "      <td>21.518545</td>\n",
              "      <td>36.210123</td>\n",
              "      <td>2211</td>\n",
              "      <td>163</td>\n",
              "      <td>1</td>\n",
              "      <td>5403</td>\n",
              "      <td>1075</td>\n",
              "      <td>2211</td>\n",
              "      <td>2</td>\n",
              "      <td>0</td>\n",
              "      <td>1</td>\n",
              "      <td>0</td>\n",
              "      <td>2211</td>\n",
              "      <td>9</td>\n",
              "      <td>1</td>\n",
              "      <td>13</td>\n",
              "      <td>6</td>\n",
              "      <td>2211</td>\n",
              "      <td>160</td>\n",
              "      <td>1.0</td>\n",
              "      <td>1089.0</td>\n",
              "      <td>30.0</td>\n",
              "      <td>2211</td>\n",
              "      <td>12</td>\n",
              "      <td>1</td>\n",
              "      <td>12</td>\n",
              "      <td>6</td>\n",
              "      <td>2211</td>\n",
              "      <td>28</td>\n",
              "      <td>1</td>\n",
              "      <td>31</td>\n",
              "      <td>30</td>\n",
              "      <td>2211</td>\n",
              "      <td>725</td>\n",
              "      <td>1</td>\n",
              "      <td>12096</td>\n",
              "      <td>3726</td>\n",
              "    </tr>\n",
              "    <tr>\n",
              "      <th>1</th>\n",
              "      <td>2</td>\n",
              "      <td>823</td>\n",
              "      <td>352</td>\n",
              "      <td>137</td>\n",
              "      <td>73242</td>\n",
              "      <td>73242</td>\n",
              "      <td>1.117861</td>\n",
              "      <td>920</td>\n",
              "      <td>1</td>\n",
              "      <td>5</td>\n",
              "      <td>1</td>\n",
              "      <td>1.0</td>\n",
              "      <td>0.213669</td>\n",
              "      <td>0.417919</td>\n",
              "      <td>103.368943</td>\n",
              "      <td>85072.64</td>\n",
              "      <td>14.25</td>\n",
              "      <td>640.80</td>\n",
              "      <td>89.05</td>\n",
              "      <td>89.05</td>\n",
              "      <td>45.778112</td>\n",
              "      <td>71.076889</td>\n",
              "      <td>-16.798141</td>\n",
              "      <td>-13824.87</td>\n",
              "      <td>-312.03</td>\n",
              "      <td>0.0</td>\n",
              "      <td>0.00</td>\n",
              "      <td>0.00</td>\n",
              "      <td>20.244751</td>\n",
              "      <td>33.011891</td>\n",
              "      <td>823</td>\n",
              "      <td>153</td>\n",
              "      <td>1</td>\n",
              "      <td>5131</td>\n",
              "      <td>158</td>\n",
              "      <td>823</td>\n",
              "      <td>2</td>\n",
              "      <td>0</td>\n",
              "      <td>1</td>\n",
              "      <td>0</td>\n",
              "      <td>823</td>\n",
              "      <td>9</td>\n",
              "      <td>1</td>\n",
              "      <td>16</td>\n",
              "      <td>11</td>\n",
              "      <td>823</td>\n",
              "      <td>138</td>\n",
              "      <td>6.0</td>\n",
              "      <td>1109.0</td>\n",
              "      <td>32.0</td>\n",
              "      <td>823</td>\n",
              "      <td>11</td>\n",
              "      <td>2</td>\n",
              "      <td>12</td>\n",
              "      <td>6</td>\n",
              "      <td>823</td>\n",
              "      <td>19</td>\n",
              "      <td>1</td>\n",
              "      <td>28</td>\n",
              "      <td>26</td>\n",
              "      <td>823</td>\n",
              "      <td>302</td>\n",
              "      <td>138</td>\n",
              "      <td>12208</td>\n",
              "      <td>3970</td>\n",
              "    </tr>\n",
              "    <tr>\n",
              "      <th>2</th>\n",
              "      <td>3</td>\n",
              "      <td>1351</td>\n",
              "      <td>406</td>\n",
              "      <td>4308</td>\n",
              "      <td>73698</td>\n",
              "      <td>73698</td>\n",
              "      <td>6.861584</td>\n",
              "      <td>9270</td>\n",
              "      <td>1</td>\n",
              "      <td>6949</td>\n",
              "      <td>1</td>\n",
              "      <td>1.0</td>\n",
              "      <td>10.358366</td>\n",
              "      <td>189.016329</td>\n",
              "      <td>113.680792</td>\n",
              "      <td>153582.75</td>\n",
              "      <td>8.90</td>\n",
              "      <td>862.00</td>\n",
              "      <td>89.05</td>\n",
              "      <td>89.05</td>\n",
              "      <td>59.687796</td>\n",
              "      <td>85.572038</td>\n",
              "      <td>-24.400081</td>\n",
              "      <td>-32964.51</td>\n",
              "      <td>-463.06</td>\n",
              "      <td>0.0</td>\n",
              "      <td>-9.26</td>\n",
              "      <td>-9.26</td>\n",
              "      <td>25.908501</td>\n",
              "      <td>40.760823</td>\n",
              "      <td>1351</td>\n",
              "      <td>114</td>\n",
              "      <td>1</td>\n",
              "      <td>5220</td>\n",
              "      <td>172</td>\n",
              "      <td>1351</td>\n",
              "      <td>2</td>\n",
              "      <td>0</td>\n",
              "      <td>1</td>\n",
              "      <td>0</td>\n",
              "      <td>1351</td>\n",
              "      <td>8</td>\n",
              "      <td>4</td>\n",
              "      <td>16</td>\n",
              "      <td>6</td>\n",
              "      <td>1351</td>\n",
              "      <td>136</td>\n",
              "      <td>6.0</td>\n",
              "      <td>1109.0</td>\n",
              "      <td>120.0</td>\n",
              "      <td>1351</td>\n",
              "      <td>12</td>\n",
              "      <td>1</td>\n",
              "      <td>12</td>\n",
              "      <td>6</td>\n",
              "      <td>1351</td>\n",
              "      <td>23</td>\n",
              "      <td>1</td>\n",
              "      <td>31</td>\n",
              "      <td>16</td>\n",
              "      <td>1351</td>\n",
              "      <td>408</td>\n",
              "      <td>35</td>\n",
              "      <td>12171</td>\n",
              "      <td>1582</td>\n",
              "    </tr>\n",
              "    <tr>\n",
              "      <th>3</th>\n",
              "      <td>4</td>\n",
              "      <td>451</td>\n",
              "      <td>125</td>\n",
              "      <td>4617</td>\n",
              "      <td>65281</td>\n",
              "      <td>61047</td>\n",
              "      <td>1.283814</td>\n",
              "      <td>579</td>\n",
              "      <td>1</td>\n",
              "      <td>5</td>\n",
              "      <td>1</td>\n",
              "      <td>1.0</td>\n",
              "      <td>0.440509</td>\n",
              "      <td>0.624805</td>\n",
              "      <td>143.631774</td>\n",
              "      <td>64777.93</td>\n",
              "      <td>14.25</td>\n",
              "      <td>1330.05</td>\n",
              "      <td>106.86</td>\n",
              "      <td>106.86</td>\n",
              "      <td>72.674528</td>\n",
              "      <td>147.361484</td>\n",
              "      <td>-15.565854</td>\n",
              "      <td>-7020.20</td>\n",
              "      <td>-390.04</td>\n",
              "      <td>0.0</td>\n",
              "      <td>0.00</td>\n",
              "      <td>0.00</td>\n",
              "      <td>18.483995</td>\n",
              "      <td>31.132399</td>\n",
              "      <td>451</td>\n",
              "      <td>72</td>\n",
              "      <td>1</td>\n",
              "      <td>5303</td>\n",
              "      <td>5303</td>\n",
              "      <td>451</td>\n",
              "      <td>2</td>\n",
              "      <td>0</td>\n",
              "      <td>1</td>\n",
              "      <td>0</td>\n",
              "      <td>451</td>\n",
              "      <td>8</td>\n",
              "      <td>2</td>\n",
              "      <td>16</td>\n",
              "      <td>11</td>\n",
              "      <td>451</td>\n",
              "      <td>67</td>\n",
              "      <td>6.0</td>\n",
              "      <td>1098.0</td>\n",
              "      <td>32.0</td>\n",
              "      <td>451</td>\n",
              "      <td>11</td>\n",
              "      <td>1</td>\n",
              "      <td>12</td>\n",
              "      <td>5</td>\n",
              "      <td>451</td>\n",
              "      <td>23</td>\n",
              "      <td>1</td>\n",
              "      <td>30</td>\n",
              "      <td>11</td>\n",
              "      <td>451</td>\n",
              "      <td>207</td>\n",
              "      <td>284</td>\n",
              "      <td>11714</td>\n",
              "      <td>3969</td>\n",
              "    </tr>\n",
              "    <tr>\n",
              "      <th>4</th>\n",
              "      <td>5</td>\n",
              "      <td>1594</td>\n",
              "      <td>490</td>\n",
              "      <td>4314</td>\n",
              "      <td>71182</td>\n",
              "      <td>69320</td>\n",
              "      <td>59.345671</td>\n",
              "      <td>94597</td>\n",
              "      <td>1</td>\n",
              "      <td>14638</td>\n",
              "      <td>1</td>\n",
              "      <td>1.0</td>\n",
              "      <td>115.211085</td>\n",
              "      <td>826.140617</td>\n",
              "      <td>128.931066</td>\n",
              "      <td>205516.12</td>\n",
              "      <td>12.11</td>\n",
              "      <td>1485.35</td>\n",
              "      <td>99.38</td>\n",
              "      <td>99.38</td>\n",
              "      <td>77.382276</td>\n",
              "      <td>121.436279</td>\n",
              "      <td>-13.463024</td>\n",
              "      <td>-21460.06</td>\n",
              "      <td>-216.21</td>\n",
              "      <td>0.0</td>\n",
              "      <td>0.00</td>\n",
              "      <td>0.00</td>\n",
              "      <td>18.705007</td>\n",
              "      <td>28.304603</td>\n",
              "      <td>1594</td>\n",
              "      <td>168</td>\n",
              "      <td>1</td>\n",
              "      <td>5423</td>\n",
              "      <td>673</td>\n",
              "      <td>1594</td>\n",
              "      <td>2</td>\n",
              "      <td>0</td>\n",
              "      <td>1</td>\n",
              "      <td>0</td>\n",
              "      <td>1594</td>\n",
              "      <td>14</td>\n",
              "      <td>1</td>\n",
              "      <td>16</td>\n",
              "      <td>6</td>\n",
              "      <td>1594</td>\n",
              "      <td>122</td>\n",
              "      <td>6.0</td>\n",
              "      <td>1101.0</td>\n",
              "      <td>668.0</td>\n",
              "      <td>1594</td>\n",
              "      <td>12</td>\n",
              "      <td>1</td>\n",
              "      <td>12</td>\n",
              "      <td>6</td>\n",
              "      <td>1594</td>\n",
              "      <td>31</td>\n",
              "      <td>1</td>\n",
              "      <td>31</td>\n",
              "      <td>29</td>\n",
              "      <td>1594</td>\n",
              "      <td>412</td>\n",
              "      <td>289</td>\n",
              "      <td>12091</td>\n",
              "      <td>8237</td>\n",
              "    </tr>\n",
              "  </tbody>\n",
              "</table>\n",
              "</div>"
            ],
            "text/plain": [
              "   customer_id  ...  agg_cust_id_NF_coupon_month_last\n",
              "0            1  ...                              3726\n",
              "1            2  ...                              3970\n",
              "2            3  ...                              1582\n",
              "3            4  ...                              3969\n",
              "4            5  ...                              8237\n",
              "\n",
              "[5 rows x 65 columns]"
            ]
          },
          "metadata": {
            "tags": []
          },
          "execution_count": 19
        }
      ]
    },
    {
      "cell_type": "code",
      "metadata": {
        "id": "df3g3xVSFUp3",
        "colab_type": "code",
        "colab": {}
      },
      "source": [
        "train_df = pd.merge(train_df , df_customer_groupby ,on='customer_id',how='left')\n",
        "test_df = pd.merge(test_df , df_customer_groupby ,on='customer_id',how='left')"
      ],
      "execution_count": 0,
      "outputs": []
    },
    {
      "cell_type": "markdown",
      "metadata": {
        "id": "VbIALFsNFaty",
        "colab_type": "text"
      },
      "source": [
        "## Creating Aggrigate features for coupon_id"
      ]
    },
    {
      "cell_type": "code",
      "metadata": {
        "id": "_xQqwaaSFWIZ",
        "colab_type": "code",
        "colab": {}
      },
      "source": [
        "['mean','sum','min','max','median','quantile','mad','std','count','nunique']\n",
        "ag_cat=['count','nunique','min','max','last']\n",
        "ag_num=['mean','sum','min','max','median','quantile','mad','std']\n",
        "\n",
        "agg_func_1 = {     # find the sum of the durations for each group\n",
        "                                    'customer_id' : ag_cat,\n",
        "                                    'quantity':ag_num,\n",
        "                                    'selling_price': ag_num,\n",
        "                                    'other_discount':ag_num,\n",
        "                                    'coupon_discount':ag_num,\n",
        "                                    'brand':ag_cat,\n",
        "                                    'brand_type':ag_cat,\n",
        "                                    'category':ag_cat,\n",
        "                                    'item_id':ag_cat,\n",
        "                                    #'C_date_year':ag_cat,\n",
        "                                    'C_date_month':ag_cat,\n",
        "                                    'C_date_day':ag_cat,\n",
        "                                    'per_item_price':ag_num,\n",
        "                                    'item_price_after_discount':ag_num,\n",
        "                                    'NF_coupon_month':ag_cat\n",
        "                                }"
      ],
      "execution_count": 0,
      "outputs": []
    },
    {
      "cell_type": "code",
      "metadata": {
        "id": "N_mugkZ4Fcuj",
        "colab_type": "code",
        "colab": {}
      },
      "source": [
        "df_coupon_id_groupby = df.groupby(by=['coupon_id']).agg(agg_func_1)\n",
        "df_coupon_id_groupby.columns=['agg_cp_id_' + '_'.join(col).strip() for col in df_coupon_id_groupby.columns.values]\n",
        "df_coupon_id_groupby.reset_index(inplace=True)\n",
        "train_df = pd.merge(train_df , df_coupon_id_groupby ,on='coupon_id',how='left')\n",
        "test_df = pd.merge(test_df , df_coupon_id_groupby ,on='coupon_id',how='left')"
      ],
      "execution_count": 0,
      "outputs": []
    },
    {
      "cell_type": "markdown",
      "metadata": {
        "id": "Phved2E2FhMS",
        "colab_type": "text"
      },
      "source": [
        "## Aggrigate with customer_id and coupon_id combine\n",
        "\n",
        "Note : Creating this features provided boost from AUC of 89 to 92 in LB"
      ]
    },
    {
      "cell_type": "code",
      "metadata": {
        "id": "2niAhOZtFeTz",
        "colab_type": "code",
        "colab": {}
      },
      "source": [
        "['mean','sum','min','max','median','quantile','mad','std','count','nunique']\n",
        "ag_cat=['count','nunique','min','max','last']\n",
        "ag_num=['mean','sum','min','max','median','quantile','mad','std']\n",
        "\n",
        "agg_func_2 = {     # find the sum of the durations for each group\n",
        "                                   # 'customer_id' : ag_cat,\n",
        "                                    'quantity':ag_num,\n",
        "                                    'selling_price': ag_num,\n",
        "                                    'other_discount':ag_num,\n",
        "                                    'coupon_discount':ag_num,\n",
        "                                    'brand':ag_cat,\n",
        "                                    'brand_type':ag_cat,\n",
        "                                    'category':ag_cat,\n",
        "                                    'item_id':ag_cat,\n",
        "                                    #'C_date_year':ag_cat,\n",
        "                                    'C_date_month':ag_cat,\n",
        "                                    'C_date_day':ag_cat,\n",
        "                                    'per_item_price':ag_num,\n",
        "                                    'item_price_after_discount':ag_num,\n",
        "                                    'NF_coupon_month':ag_cat\n",
        "                                }"
      ],
      "execution_count": 0,
      "outputs": []
    },
    {
      "cell_type": "code",
      "metadata": {
        "id": "7yAn0MTPFjMC",
        "colab_type": "code",
        "colab": {}
      },
      "source": [
        "df_cust_cp_id_groupby = df.groupby(by=['customer_id','coupon_id']).agg(agg_func_2)"
      ],
      "execution_count": 0,
      "outputs": []
    },
    {
      "cell_type": "code",
      "metadata": {
        "id": "z2sjYe7oFlPi",
        "colab_type": "code",
        "colab": {}
      },
      "source": [
        "df_cust_cp_id_groupby.columns=['agg_cust_cp_id_' + '_'.join(col).strip() for col in df_cust_cp_id_groupby.columns.values]\n",
        "df_cust_cp_id_groupby.reset_index(inplace=True)\n",
        "train_df = pd.merge(train_df , df_cust_cp_id_groupby ,on=['customer_id','coupon_id'],how='left')\n",
        "test_df = pd.merge(test_df , df_cust_cp_id_groupby ,on=['customer_id','coupon_id'],how='left')"
      ],
      "execution_count": 0,
      "outputs": []
    },
    {
      "cell_type": "markdown",
      "metadata": {
        "id": "3vXXHWYSGd9F",
        "colab_type": "text"
      },
      "source": [
        "## Changes in Train and Test DF"
      ]
    },
    {
      "cell_type": "code",
      "metadata": {
        "id": "RYoCKj4tFmui",
        "colab_type": "code",
        "colab": {}
      },
      "source": [
        "train_df['start_date'] = pd.to_datetime(train_df['start_date'])\n",
        "test_df['start_date'] = pd.to_datetime(test_df['start_date'])\n",
        "\n",
        "train_df['end_date'] = pd.to_datetime(train_df['end_date'])\n",
        "test_df['end_date'] = pd.to_datetime(test_df['end_date'])"
      ],
      "execution_count": 0,
      "outputs": []
    },
    {
      "cell_type": "code",
      "metadata": {
        "id": "HWixR03gGheG",
        "colab_type": "code",
        "colab": {}
      },
      "source": [
        "#train_df['start_date_year'] = train_df['start_date'].dt.year\n",
        "train_df['start_date_month'] = train_df['start_date'].dt.month\n",
        "train_df['start_date_day'] = train_df['start_date'].dt.day\n",
        "\n",
        "#test_df['start_date_year'] = test_df['start_date'].dt.year\n",
        "test_df['start_date_month'] = test_df['start_date'].dt.month\n",
        "test_df['start_date_day'] = test_df['start_date'].dt.day"
      ],
      "execution_count": 0,
      "outputs": []
    },
    {
      "cell_type": "code",
      "metadata": {
        "id": "vMnbaN6sGhZu",
        "colab_type": "code",
        "colab": {}
      },
      "source": [
        "#train_df['end_date_year'] = train_df['end_date'].dt.year\n",
        "train_df['end_date_month'] = train_df['end_date'].dt.month\n",
        "train_df['end_date_day'] = train_df['end_date'].dt.day\n",
        "\n",
        "#test_df['end_date_year'] = test_df['end_date'].dt.year\n",
        "test_df['end_date_month'] = test_df['end_date'].dt.month\n",
        "test_df['end_date_day'] = test_df['end_date'].dt.day"
      ],
      "execution_count": 0,
      "outputs": []
    },
    {
      "cell_type": "code",
      "metadata": {
        "id": "rcbYL-2RGhVG",
        "colab_type": "code",
        "colab": {}
      },
      "source": [
        "train_df['campaign_run'] = (train_df['end_date']  - train_df['start_date'])/np.timedelta64(1,'D')\n",
        "test_df['campaign_run'] = (test_df['end_date']  - test_df['start_date'])/ np.timedelta64(1,'D')"
      ],
      "execution_count": 0,
      "outputs": []
    },
    {
      "cell_type": "code",
      "metadata": {
        "id": "tSQdBHZJGhRJ",
        "colab_type": "code",
        "colab": {}
      },
      "source": [
        "train_df = train_df.drop(['start_date','end_date','no_of_children','id'],axis=1)\n",
        "test_df = test_df.drop(['start_date','end_date','no_of_children','id',],axis=1)"
      ],
      "execution_count": 0,
      "outputs": []
    },
    {
      "cell_type": "code",
      "metadata": {
        "id": "MmLL_T8-GhKs",
        "colab_type": "code",
        "colab": {}
      },
      "source": [
        "for f in train_df.columns:\n",
        "    if  train_df[f].dtype=='object': \n",
        "        lbl = preprocessing.LabelEncoder()\n",
        "        lbl.fit(list(train_df[f].values))\n",
        "        train_df[f] = lbl.transform(list(train_df[f].values))"
      ],
      "execution_count": 0,
      "outputs": []
    },
    {
      "cell_type": "code",
      "metadata": {
        "id": "6yt6zd1EGhCp",
        "colab_type": "code",
        "colab": {}
      },
      "source": [
        "for f in test_df.columns:\n",
        "    if  test_df[f].dtype=='object': \n",
        "        lbl = preprocessing.LabelEncoder()\n",
        "        lbl.fit(list(test_df[f].values))\n",
        "        test_df[f] = lbl.transform(list(test_df[f].values))"
      ],
      "execution_count": 0,
      "outputs": []
    },
    {
      "cell_type": "code",
      "metadata": {
        "id": "VelgaPw3Gg5I",
        "colab_type": "code",
        "colab": {}
      },
      "source": [
        "# Function to calculate missing values by column# Funct \n",
        "def missing_values_table(df):\n",
        "        # Total missing values\n",
        "        mis_val = df.isnull().sum()\n",
        "        \n",
        "        # Percentage of missing values\n",
        "        mis_val_percent = 100 * df.isnull().sum() / len(df)\n",
        "        \n",
        "        # Make a table with the results\n",
        "        mis_val_table = pd.concat([mis_val, mis_val_percent], axis=1)\n",
        "        \n",
        "        # Rename the columns\n",
        "        mis_val_table_ren_columns = mis_val_table.rename(\n",
        "        columns = {0 : 'Missing Values', 1 : '% of Total Values'})\n",
        "        \n",
        "        # Sort the table by percentage of missing descending\n",
        "        mis_val_table_ren_columns = mis_val_table_ren_columns[\n",
        "            mis_val_table_ren_columns.iloc[:,1] != 0].sort_values(\n",
        "        '% of Total Values', ascending=False).round(1)\n",
        "        \n",
        "        # Print some summary information\n",
        "        print (\"Your selected dataframe has \" + str(df.shape[1]) + \" columns.\\n\"      \n",
        "            \"There are \" + str(mis_val_table_ren_columns.shape[0]) +\n",
        "              \" columns that have missing values.\")\n",
        "        \n",
        "        # Return the dataframe with missing information\n",
        "        return mis_val_table_ren_columns"
      ],
      "execution_count": 0,
      "outputs": []
    },
    {
      "cell_type": "code",
      "metadata": {
        "id": "eEaCnwLsGvO9",
        "colab_type": "code",
        "colab": {}
      },
      "source": [
        "# Missing values statistics of Customers\n",
        "missing_values = missing_values_table(train_df)\n",
        "missing_values.head(10)"
      ],
      "execution_count": 0,
      "outputs": []
    },
    {
      "cell_type": "code",
      "metadata": {
        "id": "0qzGLndVGvMz",
        "colab_type": "code",
        "colab": {}
      },
      "source": [
        "# Missing values statistics of Customers\n",
        "missing_values = missing_values_table(test_df)\n",
        "missing_values.head(10)"
      ],
      "execution_count": 0,
      "outputs": []
    },
    {
      "cell_type": "markdown",
      "metadata": {
        "id": "9gn75eNCG0sZ",
        "colab_type": "text"
      },
      "source": [
        "## Pre-Process"
      ]
    },
    {
      "cell_type": "code",
      "metadata": {
        "id": "gSr_f97WGvI8",
        "colab_type": "code",
        "colab": {}
      },
      "source": [
        "# Align train and test\n",
        "train_labels = train_df['redemption_status']\n",
        "\n",
        "# Align the training and testing data, keep only columns present in both dataframes\n",
        "train_df, test_df = train_df.align(test_df, join = 'inner', axis = 1)\n",
        "\n",
        "# Add the target back in\n",
        "train_df['redemption_status'] = train_labels\n",
        "\n",
        "print('Training Features shape: ', train_df.shape)\n",
        "print('Testing Features shape: ', test_df.shape)"
      ],
      "execution_count": 0,
      "outputs": []
    },
    {
      "cell_type": "code",
      "metadata": {
        "id": "OBZdS9VeG2W_",
        "colab_type": "code",
        "colab": {}
      },
      "source": [
        "y = train_df['redemption_status']\n",
        "X = train_df.drop('redemption_status',axis=1)"
      ],
      "execution_count": 0,
      "outputs": []
    },
    {
      "cell_type": "code",
      "metadata": {
        "id": "874obYMbG2S1",
        "colab_type": "code",
        "colab": {}
      },
      "source": [
        "X_train, X_test, y_train, y_test = train_test_split(X, y, test_size=0.2,stratify=y.values,random_state=10)"
      ],
      "execution_count": 0,
      "outputs": []
    },
    {
      "cell_type": "markdown",
      "metadata": {
        "id": "S5CooNmRG64l",
        "colab_type": "text"
      },
      "source": [
        "## LGB\n",
        "\n",
        "Note : LGB gave a good score of 92.7 on LB , After many attemps the score remained the same"
      ]
    },
    {
      "cell_type": "code",
      "metadata": {
        "id": "QCKMSYbFG7hd",
        "colab_type": "code",
        "colab": {}
      },
      "source": [
        "def run_lgb(X_train, X_test, y_train, y_test, test_df):\n",
        "  params = {\n",
        "        \"objective\" : \"binary\",\n",
        "       \"n_estimators\":10000,\n",
        "        \"learning_rate\" :0.007,\n",
        "        \"num_leaves\" :90,\n",
        "        \"min_data_in_leaf\":3,\n",
        "        'max_bin':200,\n",
        "        'max_depth':3,\n",
        "        \"metric\" : \"auc\",\n",
        "        \"reg_alpha\" :3,\n",
        "        \"reg_lambda\":5,\n",
        "        'feature_fraction':0.8999999999999121,\n",
        "        'min_gain_to_split':0.2,\n",
        "        'bagging_fraction':0.8999999999997461,\n",
        "        'bagging_freq':50,\n",
        "        'scale_pos_weight':15.0\n",
        "        \n",
        "    }\n",
        "    \n",
        "  lgtrain = lgb.Dataset(X_train, label=y_train)\n",
        "  lgval = lgb.Dataset(X_test, label=y_test)\n",
        "  evals_result = {}\n",
        "  model = lgb.train(params, lgtrain, 10000, \n",
        "                      valid_sets=[lgtrain, lgval], \n",
        "                      early_stopping_rounds=50, \n",
        "                      verbose_eval=50, \n",
        "                      evals_result=evals_result)\n",
        "    \n",
        "  pred_test_y = model.predict(test_df, num_iteration=model.best_iteration)\n",
        "  return pred_test_y, model, evals_result"
      ],
      "execution_count": 0,
      "outputs": []
    },
    {
      "cell_type": "code",
      "metadata": {
        "id": "gPVFFD_aG-jF",
        "colab_type": "code",
        "colab": {}
      },
      "source": [
        "pred_test, model, evals_result = run_lgb(X_train, X_test, y_train, y_test, test_df)\n",
        "print(\"LightGBM Training Completed...\")"
      ],
      "execution_count": 0,
      "outputs": []
    },
    {
      "cell_type": "code",
      "metadata": {
        "id": "Hj0N7jPjG-dE",
        "colab_type": "code",
        "colab": {}
      },
      "source": [
        "feature_imp = pd.DataFrame(sorted(zip(model.feature_importance(),X_train.columns)), columns=['Value','Feature'])\n",
        "import matplotlib.pyplot as plt\n",
        "import seaborn as sns\n",
        "import warnings\n",
        "warnings.simplefilter(action='ignore', category=FutureWarning)\n",
        "\n",
        "# sorted(zip(clf.feature_importances_, X.columns), reverse=True)\n",
        "feature_imp = pd.DataFrame(sorted(zip(model.feature_importance(importance_type='gain'),X_train.columns)), columns=['Value','Feature'])\n",
        "\n",
        "plt.figure(figsize=(20, 10))\n",
        "sns.barplot(x=\"Value\", y=\"Feature\", data=feature_imp.sort_values(by=\"Value\", ascending=False).head(50))\n",
        "plt.title('LightGBM Features (avg over folds)')\n",
        "plt.tight_layout()\n",
        "plt.show()"
      ],
      "execution_count": 0,
      "outputs": []
    },
    {
      "cell_type": "code",
      "metadata": {
        "id": "xQB-um6ELOt2",
        "colab_type": "code",
        "colab": {}
      },
      "source": [
        "sub = pd.read_csv('../content/Submission.csv')"
      ],
      "execution_count": 0,
      "outputs": []
    },
    {
      "cell_type": "code",
      "metadata": {
        "id": "qr14ugLwLVT8",
        "colab_type": "code",
        "colab": {}
      },
      "source": [
        "sub['redemption_status'] = pred_test"
      ],
      "execution_count": 0,
      "outputs": []
    },
    {
      "cell_type": "code",
      "metadata": {
        "id": "_nzkBEQRLWjr",
        "colab_type": "code",
        "colab": {}
      },
      "source": [
        "sub.to_csv('LGB_Mode_Sub11.csv',index=False)"
      ],
      "execution_count": 0,
      "outputs": []
    },
    {
      "cell_type": "markdown",
      "metadata": {
        "id": "_FwTauOoPe0W",
        "colab_type": "text"
      },
      "source": [
        "## Kfold\n",
        "\n",
        "Note : Kfold provided better score then LGB"
      ]
    },
    {
      "cell_type": "code",
      "metadata": {
        "id": "MASAaRFdLYiL",
        "colab_type": "code",
        "colab": {}
      },
      "source": [
        "params = {\n",
        "        \"objective\" : \"binary\",\n",
        "       \"n_estimators\":10000,\n",
        "        \"learning_rate\" :0.007,\n",
        "        \"num_leaves\" :90,\n",
        "        \"min_data_in_leaf\":3,\n",
        "        'max_bin':200,\n",
        "        'max_depth':3,\n",
        "        \"metric\" : \"auc\",\n",
        "        \"reg_alpha\" :3,\n",
        "        \"reg_lambda\":5,\n",
        "        'feature_fraction':0.8999999999999121,\n",
        "        'min_gain_to_split':0.2,\n",
        "        'bagging_fraction':0.8999999999997461,\n",
        "        'bagging_freq':50,\n",
        "        'scale_pos_weight':15.0\n",
        "        \n",
        "    }"
      ],
      "execution_count": 0,
      "outputs": []
    },
    {
      "cell_type": "code",
      "metadata": {
        "id": "dJykAGIVPgFA",
        "colab_type": "code",
        "colab": {}
      },
      "source": [
        "from sklearn.metrics import accuracy_score,confusion_matrix,roc_auc_score\n",
        "errcb=[]\n",
        "y_pred_totcb=[]\n",
        "from sklearn.model_selection import KFold,StratifiedKFold\n",
        "fold=StratifiedKFold(n_splits=6,shuffle=True,random_state=1994)\n",
        "i=1\n",
        "for train_index, test_index in fold.split(X,y):\n",
        "    X_train, X_test = X.iloc[train_index], X.iloc[test_index]\n",
        "    y_train, y_test = y[train_index], y[test_index]\n",
        "    lgtrain = lgb.Dataset(X_train, label=y_train)\n",
        "    lgval = lgb.Dataset(X_test, label=y_test)\n",
        "    model = lgb.train(params, lgtrain, 10000, \n",
        "                      valid_sets=[lgtrain, lgval], \n",
        "                      early_stopping_rounds=100, \n",
        "                      verbose_eval=100)\n",
        "    preds = model.predict(X_test, num_iteration=model.best_iteration)\n",
        "    print(\"err: \",roc_auc_score(y_test,preds))\n",
        "    errcb.append(roc_auc_score(y_test,preds))\n",
        "    p = model.predict(test_df, num_iteration=model.best_iteration)\n",
        "    y_pred_totcb.append(p)"
      ],
      "execution_count": 0,
      "outputs": []
    },
    {
      "cell_type": "code",
      "metadata": {
        "id": "Bmt8u1hhPjFf",
        "colab_type": "code",
        "colab": {}
      },
      "source": [
        "feature_imp = pd.DataFrame(sorted(zip(model.feature_importance(),X_train.columns)), columns=['Value','Feature'])\n",
        "import matplotlib.pyplot as plt\n",
        "import seaborn as sns\n",
        "import warnings\n",
        "warnings.simplefilter(action='ignore', category=FutureWarning)\n",
        "\n",
        "# sorted(zip(clf.feature_importances_, X.columns), reverse=True)\n",
        "feature_imp = pd.DataFrame(sorted(zip(model.feature_importance(importance_type='gain'),X_train.columns)), columns=['Value','Feature'])\n",
        "\n",
        "plt.figure(figsize=(20, 10))\n",
        "sns.barplot(x=\"Value\", y=\"Feature\", data=feature_imp.sort_values(by=\"Value\", ascending=False).head(50))\n",
        "plt.title('LightGBM Features (avg over folds)')\n",
        "plt.tight_layout()\n",
        "plt.show()"
      ],
      "execution_count": 0,
      "outputs": []
    },
    {
      "cell_type": "code",
      "metadata": {
        "id": "TPPUCF0sPmkx",
        "colab_type": "code",
        "colab": {}
      },
      "source": [
        "y_pred = np.mean(y_pred_totcb,0)"
      ],
      "execution_count": 0,
      "outputs": []
    },
    {
      "cell_type": "code",
      "metadata": {
        "id": "fce_mvZQPn3e",
        "colab_type": "code",
        "colab": {}
      },
      "source": [
        "sub['redemption_status']= y_pred"
      ],
      "execution_count": 0,
      "outputs": []
    },
    {
      "cell_type": "code",
      "metadata": {
        "id": "IaTs4IxPPpXf",
        "colab_type": "code",
        "colab": {}
      },
      "source": [
        "sub.to_csv(\"LGB_Kfold_Sub4.csv\",index=False)"
      ],
      "execution_count": 0,
      "outputs": []
    },
    {
      "cell_type": "markdown",
      "metadata": {
        "id": "yuR52dUDxwAF",
        "colab_type": "text"
      },
      "source": [
        "## Cat Booster\n",
        "\n",
        "Note : Used skopt to find best learning parameter for CatBooster"
      ]
    },
    {
      "cell_type": "code",
      "metadata": {
        "id": "_8GIpu4-zTtw",
        "colab_type": "code",
        "colab": {}
      },
      "source": [
        "!pip install catboost"
      ],
      "execution_count": 0,
      "outputs": []
    },
    {
      "cell_type": "code",
      "metadata": {
        "id": "NCHaJWkzzG80",
        "colab_type": "code",
        "colab": {}
      },
      "source": [
        "from catboost import CatBoostClassifier,Pool, cv"
      ],
      "execution_count": 0,
      "outputs": []
    },
    {
      "cell_type": "code",
      "metadata": {
        "id": "8CH7jKduzCrV",
        "colab_type": "code",
        "colab": {}
      },
      "source": [
        "import catboost\n",
        "\n",
        "class ModelOptimizer:\n",
        "    best_score = None\n",
        "    opt = None\n",
        "    \n",
        "    def __init__(self, model, X_train, y_train, categorical_columns_indices=None, n_fold=3, seed=1994, early_stopping_rounds=30, is_stratified=True, is_shuffle=True):\n",
        "        self.model = model\n",
        "        self.X_train = X_train\n",
        "        self.y_train = y_train\n",
        "        self.categorical_columns_indices = categorical_columns_indices\n",
        "        self.n_fold = n_fold\n",
        "        self.seed = seed\n",
        "        self.early_stopping_rounds = early_stopping_rounds\n",
        "        self.is_stratified = is_stratified\n",
        "        self.is_shuffle = is_shuffle\n",
        "        \n",
        "        \n",
        "    def update_model(self, **kwargs):\n",
        "        for k, v in kwargs.items():\n",
        "            setattr(self.model, k, v)\n",
        "            \n",
        "    def evaluate_model(self):\n",
        "        pass\n",
        "    \n",
        "    def optimize(self, param_space, max_evals=10, n_random_starts=2):\n",
        "        start_time = time.time()\n",
        "        \n",
        "        @use_named_args(param_space)\n",
        "        def _minimize(**params):\n",
        "            self.model.set_params(**params)\n",
        "            return self.evaluate_model()\n",
        "        \n",
        "        opt = gp_minimize(_minimize, param_space, n_calls=max_evals, n_random_starts=n_random_starts, random_state=2405, n_jobs=-1)\n",
        "        best_values = opt.x\n",
        "        optimal_values = dict(zip([param.name for param in param_space], best_values))\n",
        "        best_score = opt.fun\n",
        "        self.best_score = best_score\n",
        "        self.opt = opt\n",
        "        \n",
        "        print('optimal_parameters: {}\\noptimal score: {}\\noptimization time: {}'.format(optimal_values, best_score, time.time() - start_time))\n",
        "        print('updating model with optimal values')\n",
        "        self.update_model(**optimal_values)\n",
        "        plot_convergence(opt)\n",
        "        return optimal_values\n",
        "    \n",
        "class CatboostOptimizer(ModelOptimizer):\n",
        "    def evaluate_model(self):\n",
        "        validation_scores = catboost.cv(\n",
        "        catboost.Pool(self.X_train, \n",
        "                      self.y_train, \n",
        "                      cat_features=self.categorical_columns_indices),\n",
        "        self.model.get_params(), \n",
        "        nfold=self.n_fold,\n",
        "        stratified=self.is_stratified,\n",
        "        seed=self.seed,\n",
        "        early_stopping_rounds=self.early_stopping_rounds,\n",
        "        shuffle=self.is_shuffle,\n",
        "        verbose=100,\n",
        "        plot=False)\n",
        "        self.scores = validation_scores\n",
        "        test_scores = validation_scores.iloc[:, 2]\n",
        "        best_metric = test_scores.max()\n",
        "        return 1 - best_metric"
      ],
      "execution_count": 0,
      "outputs": []
    },
    {
      "cell_type": "code",
      "metadata": {
        "id": "YyK-GG-Gz49k",
        "colab_type": "code",
        "colab": {}
      },
      "source": [
        "!pip install scikit-optimize"
      ],
      "execution_count": 0,
      "outputs": []
    },
    {
      "cell_type": "code",
      "metadata": {
        "id": "5uyn_xJJzyCE",
        "colab_type": "code",
        "colab": {}
      },
      "source": [
        "from skopt import gp_minimize\n",
        "from skopt.space import Real, Integer\n",
        "from skopt.utils import use_named_args\n",
        "from skopt.plots import plot_convergence\n",
        "import time"
      ],
      "execution_count": 0,
      "outputs": []
    },
    {
      "cell_type": "code",
      "metadata": {
        "id": "qsP_qP6Cz0qt",
        "colab_type": "code",
        "colab": {}
      },
      "source": [
        "cb = catboost.CatBoostClassifier(n_estimators=4000, # use large n_estimators deliberately to make use of the early stopping\n",
        "                         loss_function='Logloss',\n",
        "                         eval_metric='AUC',\n",
        "                         boosting_type='Ordered', # use permutations\n",
        "                         random_seed=1994, \n",
        "                         use_best_model=True)\n",
        "cb_optimizer = CatboostOptimizer(cb, X_train, y_train)\n",
        "params_space = [Real(0.01, 0.8, name='learning_rate'),]\n",
        "cb_optimal_values = cb_optimizer.optimize(params_space)"
      ],
      "execution_count": 0,
      "outputs": []
    },
    {
      "cell_type": "code",
      "metadata": {
        "id": "LHcLFpgw0MdA",
        "colab_type": "code",
        "colab": {}
      },
      "source": [
        ""
      ],
      "execution_count": 0,
      "outputs": []
    },
    {
      "cell_type": "markdown",
      "metadata": {
        "id": "1RyonKfnCj-r",
        "colab_type": "text"
      },
      "source": [
        "## Catbooster\n",
        "\n",
        "Note : Catbooster provided highest score of 93.11 on LB with same parameters"
      ]
    },
    {
      "cell_type": "code",
      "metadata": {
        "id": "Zij4-ohnCl9r",
        "colab_type": "code",
        "colab": {}
      },
      "source": [
        "import matplotlib.pyplot as plt\n",
        "%matplotlib inline\n",
        "from catboost import CatBoostClassifier\n",
        "from sklearn.metrics import accuracy_score,confusion_matrix,roc_auc_score\n",
        "m=CatBoostClassifier(n_estimators=3000,random_state=1994,eval_metric='AUC',max_depth=10,learning_rate=0.11389587749465084,od_wait=50\n",
        "                     ,l2_leaf_reg=1,bagging_temperature=0.85,random_strength=100,\n",
        "                     use_best_model=True)\n",
        "m.fit(X_train,y_train,eval_set=[(X_train,y_train),(X_test, y_test)], early_stopping_rounds=100,verbose=100)\n",
        "p2=m.predict_proba(test_df)[:,-1]"
      ],
      "execution_count": 0,
      "outputs": []
    },
    {
      "cell_type": "code",
      "metadata": {
        "id": "xEuo5bddDYOK",
        "colab_type": "code",
        "colab": {}
      },
      "source": [
        "p2"
      ],
      "execution_count": 0,
      "outputs": []
    },
    {
      "cell_type": "code",
      "metadata": {
        "id": "TFej_bLZDxmE",
        "colab_type": "code",
        "colab": {}
      },
      "source": [
        "sub['redemption_status'] = p2"
      ],
      "execution_count": 0,
      "outputs": []
    },
    {
      "cell_type": "code",
      "metadata": {
        "id": "rn2-QMgED46w",
        "colab_type": "code",
        "colab": {}
      },
      "source": [
        "sub.to_csv('CatBooster_all_features.csv',index=False)"
      ],
      "execution_count": 0,
      "outputs": []
    },
    {
      "cell_type": "code",
      "metadata": {
        "id": "OadbYXA2D_bi",
        "colab_type": "code",
        "colab": {}
      },
      "source": [
        "sorted(zip(m.feature_importances_,X_train),reverse=True)"
      ],
      "execution_count": 0,
      "outputs": []
    },
    {
      "cell_type": "code",
      "metadata": {
        "id": "wiitj4deEZHD",
        "colab_type": "code",
        "colab": {}
      },
      "source": [
        "from sklearn.metrics import accuracy_score,confusion_matrix,roc_auc_score\n",
        "errcb=[]\n",
        "y_pred_totcb=[]\n",
        "from sklearn.model_selection import KFold,StratifiedKFold\n",
        "fold=StratifiedKFold(n_splits=3,shuffle=True,random_state=1994)\n",
        "i=1\n",
        "for train_index, test_index in fold.split(X,y):\n",
        "    X_train, X_test = X.iloc[train_index], X.iloc[test_index]\n",
        "    y_train, y_test = y[train_index], y[test_index]\n",
        "    m=CatBoostClassifier(n_estimators=3000,random_state=1994,eval_metric='AUC',max_depth=10,learning_rate=0.11389587749465084,od_wait=50\n",
        "                     ,l2_leaf_reg=1,bagging_temperature=0.85,random_strength=100,\n",
        "                     use_best_model=True)\n",
        "    m.fit(X_train,y_train,eval_set=[(X_train,y_train),(X_test, y_test)], early_stopping_rounds=100,verbose=100)\n",
        "    preds=m.predict_proba(X_test)[:,-1]\n",
        "    print(\"err: \",roc_auc_score(y_test,preds))\n",
        "    errcb.append(roc_auc_score(y_test,preds))\n",
        "    p = m.predict_proba(test_df)[:,-1]\n",
        "    y_pred_totcb.append(p)"
      ],
      "execution_count": 0,
      "outputs": []
    },
    {
      "cell_type": "code",
      "metadata": {
        "id": "YevM0epHEyRm",
        "colab_type": "code",
        "colab": {}
      },
      "source": [
        "np.mean(errcb)"
      ],
      "execution_count": 0,
      "outputs": []
    },
    {
      "cell_type": "code",
      "metadata": {
        "id": "-qUGDt72K680",
        "colab_type": "code",
        "colab": {}
      },
      "source": [
        "y_pred = np.mean(y_pred_totcb,0)"
      ],
      "execution_count": 0,
      "outputs": []
    },
    {
      "cell_type": "code",
      "metadata": {
        "id": "i-JdE5lUKxQQ",
        "colab_type": "code",
        "colab": {}
      },
      "source": [
        "sub['redemption_status'] = y_pred"
      ],
      "execution_count": 0,
      "outputs": []
    },
    {
      "cell_type": "code",
      "metadata": {
        "id": "xwxBJxsyLB6R",
        "colab_type": "code",
        "colab": {}
      },
      "source": [
        "sub.to_csv('CatBooster_3Kfold_sun3.csv',index=False)"
      ],
      "execution_count": 0,
      "outputs": []
    },
    {
      "cell_type": "code",
      "metadata": {
        "id": "-8ZIt6sCLIrO",
        "colab_type": "code",
        "colab": {}
      },
      "source": [
        "sorted(zip(m.feature_importances_,X_train),reverse=True)"
      ],
      "execution_count": 0,
      "outputs": []
    }
  ]
}